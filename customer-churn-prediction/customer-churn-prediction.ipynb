{
 "cells": [
  {
   "cell_type": "markdown",
   "metadata": {},
   "source": [
    "# IBM Telco Customer Churn Prediction\n",
    "\n",
    "This notebook explores the prediction of customer churn for IBM’s Telco dataset. The workflow is structured into four main parts:\n",
    "\n",
    "1. **Data Understanding:** We begin by examining the dataset to understand its structure, features, missing values, and the distribution of the target variable `Churn`. This step helps identify patterns, anomalies, and relationships that could impact model performance.\n",
    "\n",
    "2. **Data Preprocessing:** We clean, encode, and scale the data as needed, handling categorical variables and preparing the dataset for modeling. For some models, we balance the data to address class imbalance, improving sensitivity to churn cases.\n",
    "\n",
    "3. **Modeling:** We train four machine learning models: **XGBoost** and **Random Forest** on the imbalanced dataset, and **Support Vector Machine (SVM)** and **Logistic Regression** on a balanced dataset. This approach allows us to compare performance under different data conditions and algorithms.\n",
    "\n",
    "4. **Evaluation:** Finally, we assess model performance using appropriate metrics to determine which approach best predicts customer churn and provides actionable insights for business decisions.\n",
    "\n",
    "The dataset includes customer demographics, account information, and service usage data, with the `Churn` column indicating whether a customer has left the company (`Yes`) or stayed (`No`).\n",
    "\n"
   ]
  },
  {
   "cell_type": "markdown",
   "metadata": {},
   "source": [
    "## Load packages"
   ]
  },
  {
   "cell_type": "code",
   "execution_count": 16,
   "metadata": {
    "execution": {
     "iopub.execute_input": "2025-09-11T14:39:15.744674Z",
     "iopub.status.busy": "2025-09-11T14:39:15.744421Z",
     "iopub.status.idle": "2025-09-11T14:39:15.752099Z",
     "shell.execute_reply": "2025-09-11T14:39:15.751196Z",
     "shell.execute_reply.started": "2025-09-11T14:39:15.744655Z"
    },
    "trusted": true
   },
   "outputs": [
    {
     "data": {
      "text/html": [
       "        <script type=\"text/javascript\">\n",
       "        window.PlotlyConfig = {MathJaxConfig: 'local'};\n",
       "        if (window.MathJax && window.MathJax.Hub && window.MathJax.Hub.Config) {window.MathJax.Hub.Config({SVG: {font: \"STIX-Web\"}});}\n",
       "        </script>\n",
       "        <script type=\"module\">import \"https://cdn.plot.ly/plotly-3.1.0.min\"</script>\n",
       "        "
      ]
     },
     "metadata": {},
     "output_type": "display_data"
    }
   ],
   "source": [
    "import numpy as np\n",
    "import pandas as pd\n",
    "\n",
    "import matplotlib\n",
    "import matplotlib.pyplot as plt\n",
    "import seaborn as sns\n",
    "%matplotlib inline \n",
    "import plotly.graph_objs as go\n",
    "import plotly.figure_factory as ff\n",
    "from plotly import tools\n",
    "from plotly.offline import download_plotlyjs, init_notebook_mode, plot, iplot\n",
    "init_notebook_mode(connected=True)\n",
    "\n",
    "from sklearn.model_selection import train_test_split\n",
    "from sklearn.preprocessing import StandardScaler\n",
    "from sklearn.linear_model import LogisticRegression\n",
    "from sklearn.ensemble import RandomForestClassifier\n",
    "from sklearn.metrics import classification_report, confusion_matrix, roc_curve, roc_auc_score\n",
    "from sklearn.feature_selection import RFE\n",
    "import xgboost as xgb\n",
    "\n"
   ]
  },
  {
   "cell_type": "code",
   "execution_count": 3,
   "metadata": {
    "execution": {
     "iopub.execute_input": "2025-09-11T14:39:15.821069Z",
     "iopub.status.busy": "2025-09-11T14:39:15.820818Z",
     "iopub.status.idle": "2025-09-11T14:39:15.887948Z",
     "shell.execute_reply": "2025-09-11T14:39:15.887128Z",
     "shell.execute_reply.started": "2025-09-11T14:39:15.821049Z"
    },
    "trusted": true
   },
   "outputs": [],
   "source": [
    "data=pd.read_csv('WA_Fn-UseC_-Telco-Customer-Churn.csv')"
   ]
  },
  {
   "cell_type": "markdown",
   "metadata": {},
   "source": [
    "## 1. Data Understanding\n",
    "\n",
    "Columns:\n"
   ]
  },
  {
   "cell_type": "markdown",
   "metadata": {},
   "source": [
    "### 1. Dataset Overview"
   ]
  },
  {
   "cell_type": "code",
   "execution_count": 4,
   "metadata": {
    "execution": {
     "iopub.execute_input": "2025-09-11T14:39:23.353346Z",
     "iopub.status.busy": "2025-09-11T14:39:23.353046Z",
     "iopub.status.idle": "2025-09-11T14:39:23.366742Z",
     "shell.execute_reply": "2025-09-11T14:39:23.366051Z",
     "shell.execute_reply.started": "2025-09-11T14:39:23.353324Z"
    },
    "trusted": true
   },
   "outputs": [
    {
     "name": "stdout",
     "output_type": "stream",
     "text": [
      "Dataset shape: (7043, 21)\n",
      "\n",
      "Data types:\n",
      " customerID           object\n",
      "gender               object\n",
      "SeniorCitizen         int64\n",
      "Partner              object\n",
      "Dependents           object\n",
      "tenure                int64\n",
      "PhoneService         object\n",
      "MultipleLines        object\n",
      "InternetService      object\n",
      "OnlineSecurity       object\n",
      "OnlineBackup         object\n",
      "DeviceProtection     object\n",
      "TechSupport          object\n",
      "StreamingTV          object\n",
      "StreamingMovies      object\n",
      "Contract             object\n",
      "PaperlessBilling     object\n",
      "PaymentMethod        object\n",
      "MonthlyCharges      float64\n",
      "TotalCharges         object\n",
      "Churn                object\n",
      "dtype: object\n",
      "\n",
      "Missing values:\n",
      " 0\n"
     ]
    }
   ],
   "source": [
    "print(\"Dataset shape:\", data.shape)\n",
    "print(\"\\nData types:\\n\", data.dtypes)\n",
    "print(\"\\nMissing values:\\n\", data.isnull().sum().sum())"
   ]
  },
  {
   "cell_type": "code",
   "execution_count": 5,
   "metadata": {
    "execution": {
     "iopub.execute_input": "2025-09-11T09:10:26.525421Z",
     "iopub.status.busy": "2025-09-11T09:10:26.524492Z",
     "iopub.status.idle": "2025-09-11T09:10:26.548687Z",
     "shell.execute_reply": "2025-09-11T09:10:26.547688Z",
     "shell.execute_reply.started": "2025-09-11T09:10:26.525389Z"
    },
    "trusted": true
   },
   "outputs": [
    {
     "name": "stdout",
     "output_type": "stream",
     "text": [
      "customerID: 7043 unique values\n",
      "gender: 2 unique values\n",
      "Partner: 2 unique values\n",
      "Dependents: 2 unique values\n",
      "PhoneService: 2 unique values\n",
      "MultipleLines: 3 unique values\n",
      "InternetService: 3 unique values\n",
      "OnlineSecurity: 3 unique values\n",
      "OnlineBackup: 3 unique values\n",
      "DeviceProtection: 3 unique values\n",
      "TechSupport: 3 unique values\n",
      "StreamingTV: 3 unique values\n",
      "StreamingMovies: 3 unique values\n",
      "Contract: 3 unique values\n",
      "PaperlessBilling: 2 unique values\n",
      "PaymentMethod: 4 unique values\n",
      "TotalCharges: 6531 unique values\n",
      "Churn: 2 unique values\n"
     ]
    }
   ],
   "source": [
    "for col in data.select_dtypes(include='object').columns:\n",
    "    print(f\"{col}: {data[col].nunique()} unique values\")"
   ]
  },
  {
   "cell_type": "code",
   "execution_count": 6,
   "metadata": {
    "execution": {
     "iopub.execute_input": "2025-09-10T22:39:41.578039Z",
     "iopub.status.busy": "2025-09-10T22:39:41.577636Z",
     "iopub.status.idle": "2025-09-10T22:39:41.652977Z",
     "shell.execute_reply": "2025-09-10T22:39:41.651975Z",
     "shell.execute_reply.started": "2025-09-10T22:39:41.578011Z"
    },
    "trusted": true
   },
   "outputs": [
    {
     "data": {
      "text/html": [
       "<div>\n",
       "<style scoped>\n",
       "    .dataframe tbody tr th:only-of-type {\n",
       "        vertical-align: middle;\n",
       "    }\n",
       "\n",
       "    .dataframe tbody tr th {\n",
       "        vertical-align: top;\n",
       "    }\n",
       "\n",
       "    .dataframe thead th {\n",
       "        text-align: right;\n",
       "    }\n",
       "</style>\n",
       "<table border=\"1\" class=\"dataframe\">\n",
       "  <thead>\n",
       "    <tr style=\"text-align: right;\">\n",
       "      <th></th>\n",
       "      <th>customerID</th>\n",
       "      <th>gender</th>\n",
       "      <th>SeniorCitizen</th>\n",
       "      <th>Partner</th>\n",
       "      <th>Dependents</th>\n",
       "      <th>tenure</th>\n",
       "      <th>PhoneService</th>\n",
       "      <th>MultipleLines</th>\n",
       "      <th>InternetService</th>\n",
       "      <th>OnlineSecurity</th>\n",
       "      <th>...</th>\n",
       "      <th>DeviceProtection</th>\n",
       "      <th>TechSupport</th>\n",
       "      <th>StreamingTV</th>\n",
       "      <th>StreamingMovies</th>\n",
       "      <th>Contract</th>\n",
       "      <th>PaperlessBilling</th>\n",
       "      <th>PaymentMethod</th>\n",
       "      <th>MonthlyCharges</th>\n",
       "      <th>TotalCharges</th>\n",
       "      <th>Churn</th>\n",
       "    </tr>\n",
       "  </thead>\n",
       "  <tbody>\n",
       "    <tr>\n",
       "      <th>0</th>\n",
       "      <td>7590-VHVEG</td>\n",
       "      <td>Female</td>\n",
       "      <td>0</td>\n",
       "      <td>Yes</td>\n",
       "      <td>No</td>\n",
       "      <td>1</td>\n",
       "      <td>No</td>\n",
       "      <td>No phone service</td>\n",
       "      <td>DSL</td>\n",
       "      <td>No</td>\n",
       "      <td>...</td>\n",
       "      <td>No</td>\n",
       "      <td>No</td>\n",
       "      <td>No</td>\n",
       "      <td>No</td>\n",
       "      <td>Month-to-month</td>\n",
       "      <td>Yes</td>\n",
       "      <td>Electronic check</td>\n",
       "      <td>29.85</td>\n",
       "      <td>29.85</td>\n",
       "      <td>No</td>\n",
       "    </tr>\n",
       "    <tr>\n",
       "      <th>1</th>\n",
       "      <td>5575-GNVDE</td>\n",
       "      <td>Male</td>\n",
       "      <td>0</td>\n",
       "      <td>No</td>\n",
       "      <td>No</td>\n",
       "      <td>34</td>\n",
       "      <td>Yes</td>\n",
       "      <td>No</td>\n",
       "      <td>DSL</td>\n",
       "      <td>Yes</td>\n",
       "      <td>...</td>\n",
       "      <td>Yes</td>\n",
       "      <td>No</td>\n",
       "      <td>No</td>\n",
       "      <td>No</td>\n",
       "      <td>One year</td>\n",
       "      <td>No</td>\n",
       "      <td>Mailed check</td>\n",
       "      <td>56.95</td>\n",
       "      <td>1889.5</td>\n",
       "      <td>No</td>\n",
       "    </tr>\n",
       "    <tr>\n",
       "      <th>2</th>\n",
       "      <td>3668-QPYBK</td>\n",
       "      <td>Male</td>\n",
       "      <td>0</td>\n",
       "      <td>No</td>\n",
       "      <td>No</td>\n",
       "      <td>2</td>\n",
       "      <td>Yes</td>\n",
       "      <td>No</td>\n",
       "      <td>DSL</td>\n",
       "      <td>Yes</td>\n",
       "      <td>...</td>\n",
       "      <td>No</td>\n",
       "      <td>No</td>\n",
       "      <td>No</td>\n",
       "      <td>No</td>\n",
       "      <td>Month-to-month</td>\n",
       "      <td>Yes</td>\n",
       "      <td>Mailed check</td>\n",
       "      <td>53.85</td>\n",
       "      <td>108.15</td>\n",
       "      <td>Yes</td>\n",
       "    </tr>\n",
       "    <tr>\n",
       "      <th>3</th>\n",
       "      <td>7795-CFOCW</td>\n",
       "      <td>Male</td>\n",
       "      <td>0</td>\n",
       "      <td>No</td>\n",
       "      <td>No</td>\n",
       "      <td>45</td>\n",
       "      <td>No</td>\n",
       "      <td>No phone service</td>\n",
       "      <td>DSL</td>\n",
       "      <td>Yes</td>\n",
       "      <td>...</td>\n",
       "      <td>Yes</td>\n",
       "      <td>Yes</td>\n",
       "      <td>No</td>\n",
       "      <td>No</td>\n",
       "      <td>One year</td>\n",
       "      <td>No</td>\n",
       "      <td>Bank transfer (automatic)</td>\n",
       "      <td>42.30</td>\n",
       "      <td>1840.75</td>\n",
       "      <td>No</td>\n",
       "    </tr>\n",
       "    <tr>\n",
       "      <th>4</th>\n",
       "      <td>9237-HQITU</td>\n",
       "      <td>Female</td>\n",
       "      <td>0</td>\n",
       "      <td>No</td>\n",
       "      <td>No</td>\n",
       "      <td>2</td>\n",
       "      <td>Yes</td>\n",
       "      <td>No</td>\n",
       "      <td>Fiber optic</td>\n",
       "      <td>No</td>\n",
       "      <td>...</td>\n",
       "      <td>No</td>\n",
       "      <td>No</td>\n",
       "      <td>No</td>\n",
       "      <td>No</td>\n",
       "      <td>Month-to-month</td>\n",
       "      <td>Yes</td>\n",
       "      <td>Electronic check</td>\n",
       "      <td>70.70</td>\n",
       "      <td>151.65</td>\n",
       "      <td>Yes</td>\n",
       "    </tr>\n",
       "  </tbody>\n",
       "</table>\n",
       "<p>5 rows × 21 columns</p>\n",
       "</div>"
      ],
      "text/plain": [
       "   customerID  gender  SeniorCitizen Partner Dependents  tenure PhoneService  \\\n",
       "0  7590-VHVEG  Female              0     Yes         No       1           No   \n",
       "1  5575-GNVDE    Male              0      No         No      34          Yes   \n",
       "2  3668-QPYBK    Male              0      No         No       2          Yes   \n",
       "3  7795-CFOCW    Male              0      No         No      45           No   \n",
       "4  9237-HQITU  Female              0      No         No       2          Yes   \n",
       "\n",
       "      MultipleLines InternetService OnlineSecurity  ... DeviceProtection  \\\n",
       "0  No phone service             DSL             No  ...               No   \n",
       "1                No             DSL            Yes  ...              Yes   \n",
       "2                No             DSL            Yes  ...               No   \n",
       "3  No phone service             DSL            Yes  ...              Yes   \n",
       "4                No     Fiber optic             No  ...               No   \n",
       "\n",
       "  TechSupport StreamingTV StreamingMovies        Contract PaperlessBilling  \\\n",
       "0          No          No              No  Month-to-month              Yes   \n",
       "1          No          No              No        One year               No   \n",
       "2          No          No              No  Month-to-month              Yes   \n",
       "3         Yes          No              No        One year               No   \n",
       "4          No          No              No  Month-to-month              Yes   \n",
       "\n",
       "               PaymentMethod MonthlyCharges  TotalCharges Churn  \n",
       "0           Electronic check          29.85         29.85    No  \n",
       "1               Mailed check          56.95        1889.5    No  \n",
       "2               Mailed check          53.85        108.15   Yes  \n",
       "3  Bank transfer (automatic)          42.30       1840.75    No  \n",
       "4           Electronic check          70.70        151.65   Yes  \n",
       "\n",
       "[5 rows x 21 columns]"
      ]
     },
     "execution_count": 6,
     "metadata": {},
     "output_type": "execute_result"
    }
   ],
   "source": [
    "data.head()"
   ]
  },
  {
   "cell_type": "code",
   "execution_count": 7,
   "metadata": {
    "execution": {
     "iopub.execute_input": "2025-09-10T22:43:36.697712Z",
     "iopub.status.busy": "2025-09-10T22:43:36.697367Z",
     "iopub.status.idle": "2025-09-10T22:43:36.754998Z",
     "shell.execute_reply": "2025-09-10T22:43:36.754026Z",
     "shell.execute_reply.started": "2025-09-10T22:43:36.697689Z"
    },
    "trusted": true
   },
   "outputs": [
    {
     "data": {
      "text/html": [
       "<div>\n",
       "<style scoped>\n",
       "    .dataframe tbody tr th:only-of-type {\n",
       "        vertical-align: middle;\n",
       "    }\n",
       "\n",
       "    .dataframe tbody tr th {\n",
       "        vertical-align: top;\n",
       "    }\n",
       "\n",
       "    .dataframe thead th {\n",
       "        text-align: right;\n",
       "    }\n",
       "</style>\n",
       "<table border=\"1\" class=\"dataframe\">\n",
       "  <thead>\n",
       "    <tr style=\"text-align: right;\">\n",
       "      <th></th>\n",
       "      <th>SeniorCitizen</th>\n",
       "      <th>tenure</th>\n",
       "      <th>MonthlyCharges</th>\n",
       "    </tr>\n",
       "  </thead>\n",
       "  <tbody>\n",
       "    <tr>\n",
       "      <th>count</th>\n",
       "      <td>7043.000000</td>\n",
       "      <td>7043.000000</td>\n",
       "      <td>7043.000000</td>\n",
       "    </tr>\n",
       "    <tr>\n",
       "      <th>mean</th>\n",
       "      <td>0.162147</td>\n",
       "      <td>32.371149</td>\n",
       "      <td>64.761692</td>\n",
       "    </tr>\n",
       "    <tr>\n",
       "      <th>std</th>\n",
       "      <td>0.368612</td>\n",
       "      <td>24.559481</td>\n",
       "      <td>30.090047</td>\n",
       "    </tr>\n",
       "    <tr>\n",
       "      <th>min</th>\n",
       "      <td>0.000000</td>\n",
       "      <td>0.000000</td>\n",
       "      <td>18.250000</td>\n",
       "    </tr>\n",
       "    <tr>\n",
       "      <th>25%</th>\n",
       "      <td>0.000000</td>\n",
       "      <td>9.000000</td>\n",
       "      <td>35.500000</td>\n",
       "    </tr>\n",
       "    <tr>\n",
       "      <th>50%</th>\n",
       "      <td>0.000000</td>\n",
       "      <td>29.000000</td>\n",
       "      <td>70.350000</td>\n",
       "    </tr>\n",
       "    <tr>\n",
       "      <th>75%</th>\n",
       "      <td>0.000000</td>\n",
       "      <td>55.000000</td>\n",
       "      <td>89.850000</td>\n",
       "    </tr>\n",
       "    <tr>\n",
       "      <th>max</th>\n",
       "      <td>1.000000</td>\n",
       "      <td>72.000000</td>\n",
       "      <td>118.750000</td>\n",
       "    </tr>\n",
       "  </tbody>\n",
       "</table>\n",
       "</div>"
      ],
      "text/plain": [
       "       SeniorCitizen       tenure  MonthlyCharges\n",
       "count    7043.000000  7043.000000     7043.000000\n",
       "mean        0.162147    32.371149       64.761692\n",
       "std         0.368612    24.559481       30.090047\n",
       "min         0.000000     0.000000       18.250000\n",
       "25%         0.000000     9.000000       35.500000\n",
       "50%         0.000000    29.000000       70.350000\n",
       "75%         0.000000    55.000000       89.850000\n",
       "max         1.000000    72.000000      118.750000"
      ]
     },
     "execution_count": 7,
     "metadata": {},
     "output_type": "execute_result"
    }
   ],
   "source": [
    "data.describe()"
   ]
  },
  {
   "cell_type": "markdown",
   "metadata": {},
   "source": [
    "### 2. Target Variable (Churn Distribution)"
   ]
  },
  {
   "cell_type": "code",
   "execution_count": 8,
   "metadata": {
    "execution": {
     "iopub.execute_input": "2025-09-10T22:44:44.970997Z",
     "iopub.status.busy": "2025-09-10T22:44:44.970638Z",
     "iopub.status.idle": "2025-09-10T22:44:45.294143Z",
     "shell.execute_reply": "2025-09-10T22:44:45.293171Z",
     "shell.execute_reply.started": "2025-09-10T22:44:44.970970Z"
    },
    "trusted": true
   },
   "outputs": [
    {
     "name": "stderr",
     "output_type": "stream",
     "text": [
      "C:\\Users\\sarah\\AppData\\Local\\Temp\\ipykernel_14416\\1232359209.py:2: FutureWarning:\n",
      "\n",
      "\n",
      "\n",
      "Passing `palette` without assigning `hue` is deprecated and will be removed in v0.14.0. Assign the `x` variable to `hue` and set `legend=False` for the same effect.\n",
      "\n",
      "\n"
     ]
    },
    {
     "data": {
      "image/png": "[encoded data removed]",
      "text/plain": [
       "<Figure size 600x400 with 1 Axes>"
      ]
     },
     "metadata": {},
     "output_type": "display_data"
    },
    {
     "name": "stdout",
     "output_type": "stream",
     "text": [
      "Churn\n",
      "No     73.463013\n",
      "Yes    26.536987\n",
      "Name: proportion, dtype: float64\n"
     ]
    }
   ],
   "source": [
    "plt.figure(figsize=(6,4))\n",
    "sns.countplot(x='Churn', data=data, palette='Set2')\n",
    "plt.title(\"Churn Distribution\")\n",
    "plt.show()\n",
    "\n",
    "# Percentages\n",
    "print(data['Churn'].value_counts(normalize=True) * 100)\n"
   ]
  },
  {
   "cell_type": "markdown",
   "metadata": {},
   "source": [
    "### 4. Account Information"
   ]
  },
  {
   "cell_type": "code",
   "execution_count": 9,
   "metadata": {
    "execution": {
     "iopub.execute_input": "2025-09-11T09:27:46.896145Z",
     "iopub.status.busy": "2025-09-11T09:27:46.895656Z",
     "iopub.status.idle": "2025-09-11T09:27:47.200840Z",
     "shell.execute_reply": "2025-09-11T09:27:47.199810Z",
     "shell.execute_reply.started": "2025-09-11T09:27:46.896110Z"
    },
    "trusted": true
   },
   "outputs": [
    {
     "data": {
      "image/png": "[encoded data removed]",
      "text/plain": [
       "<Figure size 800x400 with 1 Axes>"
      ]
     },
     "metadata": {},
     "output_type": "display_data"
    }
   ],
   "source": [
    "# Tenure distribution\n",
    "plt.figure(figsize=(8,4))\n",
    "sns.histplot(data=data, x='tenure', bins=30, hue='Churn', multiple='stack')\n",
    "plt.title(\"Tenure Distribution by Churn\")\n",
    "plt.show()\n"
   ]
  },
  {
   "cell_type": "markdown",
   "metadata": {},
   "source": [
    "### 7. Initial Insights (Compare Key Features)"
   ]
  },
  {
   "cell_type": "code",
   "execution_count": 10,
   "metadata": {
    "execution": {
     "iopub.execute_input": "2025-09-11T09:27:02.948637Z",
     "iopub.status.busy": "2025-09-11T09:27:02.947952Z",
     "iopub.status.idle": "2025-09-11T09:27:03.289047Z",
     "shell.execute_reply": "2025-09-11T09:27:03.288154Z",
     "shell.execute_reply.started": "2025-09-11T09:27:02.948605Z"
    },
    "trusted": true
   },
   "outputs": [
    {
     "name": "stderr",
     "output_type": "stream",
     "text": [
      "C:\\Users\\sarah\\AppData\\Local\\Temp\\ipykernel_14416\\2975770708.py:4: FutureWarning:\n",
      "\n",
      "\n",
      "\n",
      "Passing `palette` without assigning `hue` is deprecated and will be removed in v0.14.0. Assign the `x` variable to `hue` and set `legend=False` for the same effect.\n",
      "\n",
      "\n",
      "C:\\Users\\sarah\\AppData\\Local\\Temp\\ipykernel_14416\\2975770708.py:8: FutureWarning:\n",
      "\n",
      "\n",
      "\n",
      "Passing `palette` without assigning `hue` is deprecated and will be removed in v0.14.0. Assign the `x` variable to `hue` and set `legend=False` for the same effect.\n",
      "\n",
      "\n"
     ]
    },
    {
     "data": {
      "image/png": "[encoded data removed]",
      "text/plain": [
       "<Figure size 1200x500 with 2 Axes>"
      ]
     },
     "metadata": {},
     "output_type": "display_data"
    }
   ],
   "source": [
    "fig, axes = plt.subplots(1, 2, figsize=(12, 5))  # 1 row, 2 columns\n",
    "\n",
    "# Boxplot: Monthly Charges vs Churn\n",
    "sns.boxplot(x='Churn', y='MonthlyCharges', data=data, palette='Set2', ax=axes[0])\n",
    "axes[0].set_title(\"Monthly Charges vs Churn\")\n",
    "\n",
    "# Boxplot: Tenure vs Churn\n",
    "sns.boxplot(x='Churn', y='tenure', data=data, palette='Set1', ax=axes[1])\n",
    "axes[1].set_title(\"Tenure vs Churn\")\n",
    "\n",
    "plt.tight_layout()\n",
    "plt.show()\n"
   ]
  },
  {
   "cell_type": "markdown",
   "metadata": {},
   "source": [
    "more data visualization are in the notebook **'dataset-visualization'**"
   ]
  },
  {
   "cell_type": "markdown",
   "metadata": {},
   "source": [
    "## 2. Preprocessing & Balancing\n",
    "#### **Data Preprocessing Steps:**\n",
    "\n",
    "* Drop irrelevant column: `customerID`.\n",
    "* Convert `TotalCharges` to numeric and handle missing values.\n",
    "* Encode target `Churn` as 0/1.\n",
    "* Encode categorical features:\n",
    "\n",
    "  * Binary (Yes/No → 0/1).\n",
    "  * Multi-class (one-hot encoding).\n",
    "* Scale numerical features: `tenure`, `MonthlyCharges`, `TotalCharges`.\n",
    "\n"
   ]
  },
  {
   "cell_type": "code",
   "execution_count": 11,
   "metadata": {
    "execution": {
     "iopub.execute_input": "2025-09-11T14:39:33.453904Z",
     "iopub.status.busy": "2025-09-11T14:39:33.453153Z",
     "iopub.status.idle": "2025-09-11T14:39:33.482519Z",
     "shell.execute_reply": "2025-09-11T14:39:33.481821Z",
     "shell.execute_reply.started": "2025-09-11T14:39:33.453867Z"
    },
    "trusted": true
   },
   "outputs": [
    {
     "name": "stdout",
     "output_type": "stream",
     "text": [
      "\n",
      "Missing Values :\n",
      " customerID          0\n",
      "DeviceProtection    0\n",
      "TotalCharges        0\n",
      "MonthlyCharges      0\n",
      "PaymentMethod       0\n",
      "PaperlessBilling    0\n",
      "Contract            0\n",
      "StreamingMovies     0\n",
      "StreamingTV         0\n",
      "TechSupport         0\n",
      "OnlineBackup        0\n",
      "gender              0\n",
      "OnlineSecurity      0\n",
      "InternetService     0\n",
      "MultipleLines       0\n",
      "PhoneService        0\n",
      "tenure              0\n",
      "Dependents          0\n",
      "Partner             0\n",
      "SeniorCitizen       0\n",
      "Churn               0\n",
      "dtype: int64\n",
      "False\n"
     ]
    }
   ],
   "source": [
    "# Missing values analysis\n",
    "total = data.isnull().sum().sort_values(ascending = False)\n",
    "percent = (data.isnull().sum()/data.isnull().count()*100).sort_values(ascending = False)\n",
    "pd.concat([total, percent], axis=1, keys=['Total', 'Percent']).transpose()\n",
    "print(\"\\nMissing Values :\\n\",total)\n",
    "# Check for duplicates\n",
    "print(data.duplicated().any())"
   ]
  },
  {
   "cell_type": "code",
   "execution_count": 12,
   "metadata": {
    "execution": {
     "iopub.execute_input": "2025-09-11T09:42:34.973408Z",
     "iopub.status.busy": "2025-09-11T09:42:34.973121Z",
     "iopub.status.idle": "2025-09-11T09:42:34.979675Z",
     "shell.execute_reply": "2025-09-11T09:42:34.978705Z",
     "shell.execute_reply.started": "2025-09-11T09:42:34.973388Z"
    },
    "trusted": true
   },
   "outputs": [],
   "source": [
    "#1. Drop Useless Columns\n",
    "data = data.drop(['customerID'], axis=1)\n",
    "\n",
    "#2.fix colomn types\n",
    "data['TotalCharges'] = pd.to_numeric(data['TotalCharges'], errors='coerce')\n",
    "data = data.dropna(subset=['TotalCharges'])\n",
    "\n",
    "#3. Encode Target Variable\n",
    "data['Churn'] = data['Churn'].map({'Yes': 1, 'No': 0})\n",
    "\n",
    "#4. Encode Categorical Features\n",
    "binary_cols = ['Partner','Dependents','PhoneService','PaperlessBilling',\n",
    "               'MultipleLines','OnlineSecurity','OnlineBackup',\n",
    "               'DeviceProtection','TechSupport','StreamingTV','StreamingMovies']\n",
    "\n",
    "# unify \"No internet service\" and \"No phone service\"\n",
    "for col in binary_cols:\n",
    "    data[col] = data[col].replace({'No internet service':'No', 'No phone service':'No'})\n",
    "\n",
    "# map to 0/1\n",
    "for col in binary_cols:\n",
    "    data[col] = data[col].map({'Yes':1, 'No':0})\n",
    "\n",
    "# gender to 0/1\n",
    "data['gender'] = data['gender'].map({'Female':1, 'Male':0})\n",
    "\n",
    "# Multi-class categories\n",
    "data = pd.get_dummies(data, columns=['InternetService','Contract','PaymentMethod'], drop_first=True)\n"
   ]
  },
  {
   "cell_type": "code",
   "execution_count": 13,
   "metadata": {
    "execution": {
     "iopub.execute_input": "2025-09-11T14:47:12.000627Z",
     "iopub.status.busy": "2025-09-11T14:47:12.000275Z",
     "iopub.status.idle": "2025-09-11T14:47:12.018060Z",
     "shell.execute_reply": "2025-09-11T14:47:12.017274Z",
     "shell.execute_reply.started": "2025-09-11T14:47:12.000602Z"
    },
    "trusted": true
   },
   "outputs": [
    {
     "data": {
      "text/html": [
       "<div>\n",
       "<style scoped>\n",
       "    .dataframe tbody tr th:only-of-type {\n",
       "        vertical-align: middle;\n",
       "    }\n",
       "\n",
       "    .dataframe tbody tr th {\n",
       "        vertical-align: top;\n",
       "    }\n",
       "\n",
       "    .dataframe thead th {\n",
       "        text-align: right;\n",
       "    }\n",
       "</style>\n",
       "<table border=\"1\" class=\"dataframe\">\n",
       "  <thead>\n",
       "    <tr style=\"text-align: right;\">\n",
       "      <th></th>\n",
       "      <th>gender</th>\n",
       "      <th>SeniorCitizen</th>\n",
       "      <th>Partner</th>\n",
       "      <th>Dependents</th>\n",
       "      <th>tenure</th>\n",
       "      <th>PhoneService</th>\n",
       "      <th>MultipleLines</th>\n",
       "      <th>OnlineSecurity</th>\n",
       "      <th>OnlineBackup</th>\n",
       "      <th>DeviceProtection</th>\n",
       "      <th>...</th>\n",
       "      <th>MonthlyCharges</th>\n",
       "      <th>TotalCharges</th>\n",
       "      <th>Churn</th>\n",
       "      <th>InternetService_Fiber optic</th>\n",
       "      <th>InternetService_No</th>\n",
       "      <th>Contract_One year</th>\n",
       "      <th>Contract_Two year</th>\n",
       "      <th>PaymentMethod_Credit card (automatic)</th>\n",
       "      <th>PaymentMethod_Electronic check</th>\n",
       "      <th>PaymentMethod_Mailed check</th>\n",
       "    </tr>\n",
       "  </thead>\n",
       "  <tbody>\n",
       "    <tr>\n",
       "      <th>0</th>\n",
       "      <td>1</td>\n",
       "      <td>0</td>\n",
       "      <td>1</td>\n",
       "      <td>0</td>\n",
       "      <td>1</td>\n",
       "      <td>0</td>\n",
       "      <td>0</td>\n",
       "      <td>0</td>\n",
       "      <td>1</td>\n",
       "      <td>0</td>\n",
       "      <td>...</td>\n",
       "      <td>29.85</td>\n",
       "      <td>29.85</td>\n",
       "      <td>0</td>\n",
       "      <td>False</td>\n",
       "      <td>False</td>\n",
       "      <td>False</td>\n",
       "      <td>False</td>\n",
       "      <td>False</td>\n",
       "      <td>True</td>\n",
       "      <td>False</td>\n",
       "    </tr>\n",
       "    <tr>\n",
       "      <th>1</th>\n",
       "      <td>0</td>\n",
       "      <td>0</td>\n",
       "      <td>0</td>\n",
       "      <td>0</td>\n",
       "      <td>34</td>\n",
       "      <td>1</td>\n",
       "      <td>0</td>\n",
       "      <td>1</td>\n",
       "      <td>0</td>\n",
       "      <td>1</td>\n",
       "      <td>...</td>\n",
       "      <td>56.95</td>\n",
       "      <td>1889.50</td>\n",
       "      <td>0</td>\n",
       "      <td>False</td>\n",
       "      <td>False</td>\n",
       "      <td>True</td>\n",
       "      <td>False</td>\n",
       "      <td>False</td>\n",
       "      <td>False</td>\n",
       "      <td>True</td>\n",
       "    </tr>\n",
       "    <tr>\n",
       "      <th>2</th>\n",
       "      <td>0</td>\n",
       "      <td>0</td>\n",
       "      <td>0</td>\n",
       "      <td>0</td>\n",
       "      <td>2</td>\n",
       "      <td>1</td>\n",
       "      <td>0</td>\n",
       "      <td>1</td>\n",
       "      <td>1</td>\n",
       "      <td>0</td>\n",
       "      <td>...</td>\n",
       "      <td>53.85</td>\n",
       "      <td>108.15</td>\n",
       "      <td>1</td>\n",
       "      <td>False</td>\n",
       "      <td>False</td>\n",
       "      <td>False</td>\n",
       "      <td>False</td>\n",
       "      <td>False</td>\n",
       "      <td>False</td>\n",
       "      <td>True</td>\n",
       "    </tr>\n",
       "    <tr>\n",
       "      <th>3</th>\n",
       "      <td>0</td>\n",
       "      <td>0</td>\n",
       "      <td>0</td>\n",
       "      <td>0</td>\n",
       "      <td>45</td>\n",
       "      <td>0</td>\n",
       "      <td>0</td>\n",
       "      <td>1</td>\n",
       "      <td>0</td>\n",
       "      <td>1</td>\n",
       "      <td>...</td>\n",
       "      <td>42.30</td>\n",
       "      <td>1840.75</td>\n",
       "      <td>0</td>\n",
       "      <td>False</td>\n",
       "      <td>False</td>\n",
       "      <td>True</td>\n",
       "      <td>False</td>\n",
       "      <td>False</td>\n",
       "      <td>False</td>\n",
       "      <td>False</td>\n",
       "    </tr>\n",
       "    <tr>\n",
       "      <th>4</th>\n",
       "      <td>1</td>\n",
       "      <td>0</td>\n",
       "      <td>0</td>\n",
       "      <td>0</td>\n",
       "      <td>2</td>\n",
       "      <td>1</td>\n",
       "      <td>0</td>\n",
       "      <td>0</td>\n",
       "      <td>0</td>\n",
       "      <td>0</td>\n",
       "      <td>...</td>\n",
       "      <td>70.70</td>\n",
       "      <td>151.65</td>\n",
       "      <td>1</td>\n",
       "      <td>True</td>\n",
       "      <td>False</td>\n",
       "      <td>False</td>\n",
       "      <td>False</td>\n",
       "      <td>False</td>\n",
       "      <td>True</td>\n",
       "      <td>False</td>\n",
       "    </tr>\n",
       "  </tbody>\n",
       "</table>\n",
       "<p>5 rows × 24 columns</p>\n",
       "</div>"
      ],
      "text/plain": [
       "   gender  SeniorCitizen  Partner  Dependents  tenure  PhoneService  \\\n",
       "0       1              0        1           0       1             0   \n",
       "1       0              0        0           0      34             1   \n",
       "2       0              0        0           0       2             1   \n",
       "3       0              0        0           0      45             0   \n",
       "4       1              0        0           0       2             1   \n",
       "\n",
       "   MultipleLines  OnlineSecurity  OnlineBackup  DeviceProtection  ...  \\\n",
       "0              0               0             1                 0  ...   \n",
       "1              0               1             0                 1  ...   \n",
       "2              0               1             1                 0  ...   \n",
       "3              0               1             0                 1  ...   \n",
       "4              0               0             0                 0  ...   \n",
       "\n",
       "   MonthlyCharges  TotalCharges  Churn  InternetService_Fiber optic  \\\n",
       "0           29.85         29.85      0                        False   \n",
       "1           56.95       1889.50      0                        False   \n",
       "2           53.85        108.15      1                        False   \n",
       "3           42.30       1840.75      0                        False   \n",
       "4           70.70        151.65      1                         True   \n",
       "\n",
       "   InternetService_No  Contract_One year  Contract_Two year  \\\n",
       "0               False              False              False   \n",
       "1               False               True              False   \n",
       "2               False              False              False   \n",
       "3               False               True              False   \n",
       "4               False              False              False   \n",
       "\n",
       "   PaymentMethod_Credit card (automatic)  PaymentMethod_Electronic check  \\\n",
       "0                                  False                            True   \n",
       "1                                  False                           False   \n",
       "2                                  False                           False   \n",
       "3                                  False                           False   \n",
       "4                                  False                            True   \n",
       "\n",
       "   PaymentMethod_Mailed check  \n",
       "0                       False  \n",
       "1                        True  \n",
       "2                        True  \n",
       "3                       False  \n",
       "4                       False  \n",
       "\n",
       "[5 rows x 24 columns]"
      ]
     },
     "execution_count": 13,
     "metadata": {},
     "output_type": "execute_result"
    }
   ],
   "source": [
    "data.head()"
   ]
  },
  {
   "cell_type": "markdown",
   "metadata": {},
   "source": [
    "**Scale Numerical Features :**"
   ]
  },
  {
   "cell_type": "code",
   "execution_count": 14,
   "metadata": {
    "execution": {
     "iopub.execute_input": "2025-09-11T14:49:32.565930Z",
     "iopub.status.busy": "2025-09-11T14:49:32.565602Z",
     "iopub.status.idle": "2025-09-11T14:49:32.692198Z",
     "shell.execute_reply": "2025-09-11T14:49:32.691309Z",
     "shell.execute_reply.started": "2025-09-11T14:49:32.565904Z"
    },
    "trusted": true
   },
   "outputs": [],
   "source": [
    "from sklearn.preprocessing import StandardScaler\n",
    "\n",
    "scaler = StandardScaler()\n",
    "data[['tenure','MonthlyCharges','TotalCharges']] = scaler.fit_transform(\n",
    "    data[['tenure','MonthlyCharges','TotalCharges']]\n",
    ")\n"
   ]
  },
  {
   "cell_type": "code",
   "execution_count": 34,
   "metadata": {
    "execution": {
     "iopub.execute_input": "2025-09-11T14:56:10.734505Z",
     "iopub.status.busy": "2025-09-11T14:56:10.734194Z",
     "iopub.status.idle": "2025-09-11T14:56:10.750849Z",
     "shell.execute_reply": "2025-09-11T14:56:10.750002Z",
     "shell.execute_reply.started": "2025-09-11T14:56:10.734483Z"
    },
    "trusted": true
   },
   "outputs": [
    {
     "data": {
      "text/html": [
       "<div>\n",
       "<style scoped>\n",
       "    .dataframe tbody tr th:only-of-type {\n",
       "        vertical-align: middle;\n",
       "    }\n",
       "\n",
       "    .dataframe tbody tr th {\n",
       "        vertical-align: top;\n",
       "    }\n",
       "\n",
       "    .dataframe thead th {\n",
       "        text-align: right;\n",
       "    }\n",
       "</style>\n",
       "<table border=\"1\" class=\"dataframe\">\n",
       "  <thead>\n",
       "    <tr style=\"text-align: right;\">\n",
       "      <th></th>\n",
       "      <th>gender</th>\n",
       "      <th>SeniorCitizen</th>\n",
       "      <th>Partner</th>\n",
       "      <th>Dependents</th>\n",
       "      <th>tenure</th>\n",
       "      <th>PhoneService</th>\n",
       "      <th>MultipleLines</th>\n",
       "      <th>OnlineSecurity</th>\n",
       "      <th>OnlineBackup</th>\n",
       "      <th>DeviceProtection</th>\n",
       "      <th>...</th>\n",
       "      <th>MonthlyCharges</th>\n",
       "      <th>TotalCharges</th>\n",
       "      <th>Churn</th>\n",
       "      <th>InternetService_Fiber optic</th>\n",
       "      <th>InternetService_No</th>\n",
       "      <th>Contract_One year</th>\n",
       "      <th>Contract_Two year</th>\n",
       "      <th>PaymentMethod_Credit card (automatic)</th>\n",
       "      <th>PaymentMethod_Electronic check</th>\n",
       "      <th>PaymentMethod_Mailed check</th>\n",
       "    </tr>\n",
       "  </thead>\n",
       "  <tbody>\n",
       "    <tr>\n",
       "      <th>0</th>\n",
       "      <td>1</td>\n",
       "      <td>0</td>\n",
       "      <td>1</td>\n",
       "      <td>0</td>\n",
       "      <td>-1.280248</td>\n",
       "      <td>0</td>\n",
       "      <td>0</td>\n",
       "      <td>0</td>\n",
       "      <td>1</td>\n",
       "      <td>0</td>\n",
       "      <td>...</td>\n",
       "      <td>-1.161694</td>\n",
       "      <td>-0.994194</td>\n",
       "      <td>0</td>\n",
       "      <td>False</td>\n",
       "      <td>False</td>\n",
       "      <td>False</td>\n",
       "      <td>False</td>\n",
       "      <td>False</td>\n",
       "      <td>True</td>\n",
       "      <td>False</td>\n",
       "    </tr>\n",
       "    <tr>\n",
       "      <th>1</th>\n",
       "      <td>0</td>\n",
       "      <td>0</td>\n",
       "      <td>0</td>\n",
       "      <td>0</td>\n",
       "      <td>0.064303</td>\n",
       "      <td>1</td>\n",
       "      <td>0</td>\n",
       "      <td>1</td>\n",
       "      <td>0</td>\n",
       "      <td>1</td>\n",
       "      <td>...</td>\n",
       "      <td>-0.260878</td>\n",
       "      <td>-0.173740</td>\n",
       "      <td>0</td>\n",
       "      <td>False</td>\n",
       "      <td>False</td>\n",
       "      <td>True</td>\n",
       "      <td>False</td>\n",
       "      <td>False</td>\n",
       "      <td>False</td>\n",
       "      <td>True</td>\n",
       "    </tr>\n",
       "    <tr>\n",
       "      <th>2</th>\n",
       "      <td>0</td>\n",
       "      <td>0</td>\n",
       "      <td>0</td>\n",
       "      <td>0</td>\n",
       "      <td>-1.239504</td>\n",
       "      <td>1</td>\n",
       "      <td>0</td>\n",
       "      <td>1</td>\n",
       "      <td>1</td>\n",
       "      <td>0</td>\n",
       "      <td>...</td>\n",
       "      <td>-0.363923</td>\n",
       "      <td>-0.959649</td>\n",
       "      <td>1</td>\n",
       "      <td>False</td>\n",
       "      <td>False</td>\n",
       "      <td>False</td>\n",
       "      <td>False</td>\n",
       "      <td>False</td>\n",
       "      <td>False</td>\n",
       "      <td>True</td>\n",
       "    </tr>\n",
       "    <tr>\n",
       "      <th>3</th>\n",
       "      <td>0</td>\n",
       "      <td>0</td>\n",
       "      <td>0</td>\n",
       "      <td>0</td>\n",
       "      <td>0.512486</td>\n",
       "      <td>0</td>\n",
       "      <td>0</td>\n",
       "      <td>1</td>\n",
       "      <td>0</td>\n",
       "      <td>1</td>\n",
       "      <td>...</td>\n",
       "      <td>-0.747850</td>\n",
       "      <td>-0.195248</td>\n",
       "      <td>0</td>\n",
       "      <td>False</td>\n",
       "      <td>False</td>\n",
       "      <td>True</td>\n",
       "      <td>False</td>\n",
       "      <td>False</td>\n",
       "      <td>False</td>\n",
       "      <td>False</td>\n",
       "    </tr>\n",
       "    <tr>\n",
       "      <th>4</th>\n",
       "      <td>1</td>\n",
       "      <td>0</td>\n",
       "      <td>0</td>\n",
       "      <td>0</td>\n",
       "      <td>-1.239504</td>\n",
       "      <td>1</td>\n",
       "      <td>0</td>\n",
       "      <td>0</td>\n",
       "      <td>0</td>\n",
       "      <td>0</td>\n",
       "      <td>...</td>\n",
       "      <td>0.196178</td>\n",
       "      <td>-0.940457</td>\n",
       "      <td>1</td>\n",
       "      <td>True</td>\n",
       "      <td>False</td>\n",
       "      <td>False</td>\n",
       "      <td>False</td>\n",
       "      <td>False</td>\n",
       "      <td>True</td>\n",
       "      <td>False</td>\n",
       "    </tr>\n",
       "  </tbody>\n",
       "</table>\n",
       "<p>5 rows × 24 columns</p>\n",
       "</div>"
      ],
      "text/plain": [
       "   gender  SeniorCitizen  Partner  Dependents    tenure  PhoneService  \\\n",
       "0       1              0        1           0 -1.280248             0   \n",
       "1       0              0        0           0  0.064303             1   \n",
       "2       0              0        0           0 -1.239504             1   \n",
       "3       0              0        0           0  0.512486             0   \n",
       "4       1              0        0           0 -1.239504             1   \n",
       "\n",
       "   MultipleLines  OnlineSecurity  OnlineBackup  DeviceProtection  ...  \\\n",
       "0              0               0             1                 0  ...   \n",
       "1              0               1             0                 1  ...   \n",
       "2              0               1             1                 0  ...   \n",
       "3              0               1             0                 1  ...   \n",
       "4              0               0             0                 0  ...   \n",
       "\n",
       "   MonthlyCharges  TotalCharges  Churn  InternetService_Fiber optic  \\\n",
       "0       -1.161694     -0.994194      0                        False   \n",
       "1       -0.260878     -0.173740      0                        False   \n",
       "2       -0.363923     -0.959649      1                        False   \n",
       "3       -0.747850     -0.195248      0                        False   \n",
       "4        0.196178     -0.940457      1                         True   \n",
       "\n",
       "   InternetService_No  Contract_One year  Contract_Two year  \\\n",
       "0               False              False              False   \n",
       "1               False               True              False   \n",
       "2               False              False              False   \n",
       "3               False               True              False   \n",
       "4               False              False              False   \n",
       "\n",
       "   PaymentMethod_Credit card (automatic)  PaymentMethod_Electronic check  \\\n",
       "0                                  False                            True   \n",
       "1                                  False                           False   \n",
       "2                                  False                           False   \n",
       "3                                  False                           False   \n",
       "4                                  False                            True   \n",
       "\n",
       "   PaymentMethod_Mailed check  \n",
       "0                       False  \n",
       "1                        True  \n",
       "2                        True  \n",
       "3                       False  \n",
       "4                       False  \n",
       "\n",
       "[5 rows x 24 columns]"
      ]
     },
     "execution_count": 34,
     "metadata": {},
     "output_type": "execute_result"
    }
   ],
   "source": [
    "data.head()"
   ]
  },
  {
   "cell_type": "markdown",
   "metadata": {},
   "source": [
    "#### **balencing the data**"
   ]
  },
  {
   "cell_type": "code",
   "execution_count": 28,
   "metadata": {
    "trusted": true
   },
   "outputs": [],
   "source": [
    "#spliting the data \n",
    "# Separate features and target\n",
    "X = data.drop('Churn', axis=1)\n",
    "y = data['Churn']\n",
    "\n",
    "# Split into train and test\n",
    "X_train, X_test, y_train, y_test = train_test_split(X, y, test_size=0.3, random_state=42, stratify=y)\n"
   ]
  },
  {
   "cell_type": "code",
   "execution_count": 18,
   "metadata": {
    "execution": {
     "iopub.execute_input": "2025-09-11T15:57:50.060441Z",
     "iopub.status.busy": "2025-09-11T15:57:50.060154Z",
     "iopub.status.idle": "2025-09-11T15:57:50.789444Z",
     "shell.execute_reply": "2025-09-11T15:57:50.788307Z",
     "shell.execute_reply.started": "2025-09-11T15:57:50.060417Z"
    },
    "trusted": true
   },
   "outputs": [
    {
     "name": "stdout",
     "output_type": "stream",
     "text": [
      "Churn\n",
      "1    3614\n",
      "0    3614\n",
      "Name: count, dtype: int64\n"
     ]
    }
   ],
   "source": [
    "#balencing the data \n",
    "from imblearn.over_sampling import SMOTE\n",
    "smote = SMOTE(random_state=42)\n",
    "X_train_bal, y_train_bal = smote.fit_resample(X_train, y_train)\n",
    "\n",
    "# Check class distribution after balancing\n",
    "print(pd.Series(y_train_bal).value_counts())\n"
   ]
  },
  {
   "cell_type": "markdown",
   "metadata": {},
   "source": [
    "**Dataset is now clean, fully numeric, and ready for model training.**"
   ]
  },
  {
   "cell_type": "markdown",
   "metadata": {},
   "source": [
    "## 3. Modeling\n",
    "\n",
    "\n",
    "In this section, we will train and evaluate four machine learning models to predict customer churn. We will handle the data differently depending on the model’s sensitivity to class imbalance:\n",
    "\n",
    "* **Random Forest** and **XGBoost** will be trained on the original imbalanced dataset, as these tree-based models can naturally handle skewed class distributions.\n",
    "* **Logistic Regression** and **SVM** will be trained on a balanced version of the dataset using oversampling techniques (e.g., SMOTE), because these algorithms are sensitive to class imbalance and perform better when both classes are represented fairly.\n",
    "\n",
    "\n"
   ]
  },
  {
   "cell_type": "code",
   "execution_count": 19,
   "metadata": {
    "trusted": true
   },
   "outputs": [
    {
     "name": "stdout",
     "output_type": "stream",
     "text": [
      "Random Forest Performance:\n",
      "\n",
      "              precision    recall  f1-score   support\n",
      "\n",
      "           0       0.82      0.90      0.86      1549\n",
      "           1       0.63      0.46      0.53       561\n",
      "\n",
      "    accuracy                           0.79      2110\n",
      "   macro avg       0.73      0.68      0.70      2110\n",
      "weighted avg       0.77      0.79      0.77      2110\n",
      "\n",
      "ROC-AUC: 0.8142070843244277\n",
      "Confusion Matrix:\n",
      " [[1399  150]\n",
      " [ 302  259]]\n"
     ]
    }
   ],
   "source": [
    "# Import libraries\n",
    "from sklearn.model_selection import train_test_split\n",
    "from sklearn.ensemble import RandomForestClassifier\n",
    "import xgboost as xgb\n",
    "from sklearn.metrics import classification_report, confusion_matrix, roc_auc_score\n",
    "\n",
    "# RANDOM FOREST\n",
    "rf_model = RandomForestClassifier(random_state=42, class_weight='balanced')  # optional class_weight\n",
    "rf_model.fit(X_train, y_train)\n",
    "\n",
    "y_pred_rf = rf_model.predict(X_test)\n",
    "y_prob_rf = rf_model.predict_proba(X_test)[:, 1]\n",
    "\n",
    "print(\"Random Forest Performance:\\n\")\n",
    "print(classification_report(y_test, y_pred_rf))\n",
    "print(\"ROC-AUC:\", roc_auc_score(y_test, y_prob_rf))\n",
    "print(\"Confusion Matrix:\\n\", confusion_matrix(y_test, y_pred_rf))\n"
   ]
  },
  {
   "cell_type": "code",
   "execution_count": 20,
   "metadata": {
    "trusted": true
   },
   "outputs": [
    {
     "name": "stdout",
     "output_type": "stream",
     "text": [
      "\n",
      "XGBoost Performance:\n",
      "\n",
      "              precision    recall  f1-score   support\n",
      "\n",
      "           0       0.87      0.79      0.83      1549\n",
      "           1       0.54      0.68      0.60       561\n",
      "\n",
      "    accuracy                           0.76      2110\n",
      "   macro avg       0.71      0.74      0.72      2110\n",
      "weighted avg       0.78      0.76      0.77      2110\n",
      "\n",
      "ROC-AUC: 0.8105056565733283\n",
      "Confusion Matrix:\n",
      " [[1229  320]\n",
      " [ 180  381]]\n"
     ]
    },
    {
     "name": "stderr",
     "output_type": "stream",
     "text": [
      "c:\\Users\\sarah\\AppData\\Local\\Programs\\Python\\Python312\\Lib\\site-packages\\xgboost\\training.py:183: UserWarning:\n",
      "\n",
      "[17:03:48] WARNING: C:\\actions-runner\\_work\\xgboost\\xgboost\\src\\learner.cc:738: \n",
      "Parameters: { \"use_label_encoder\" } are not used.\n",
      "\n",
      "\n"
     ]
    }
   ],
   "source": [
    "# XGBOOST\n",
    "xgb_model = xgb.XGBClassifier(use_label_encoder=False, eval_metric='logloss', \n",
    "                              random_state=42, scale_pos_weight=(y_train==0).sum()/(y_train==1).sum())\n",
    "xgb_model.fit(X_train, y_train)\n",
    "\n",
    "y_pred_xgb = xgb_model.predict(X_test)\n",
    "y_prob_xgb = xgb_model.predict_proba(X_test)[:, 1]\n",
    "\n",
    "print(\"\\nXGBoost Performance:\\n\")\n",
    "print(classification_report(y_test, y_pred_xgb))\n",
    "print(\"ROC-AUC:\", roc_auc_score(y_test, y_prob_xgb))\n",
    "print(\"Confusion Matrix:\\n\", confusion_matrix(y_test, y_pred_xgb))"
   ]
  },
  {
   "cell_type": "code",
   "execution_count": 21,
   "metadata": {
    "trusted": true
   },
   "outputs": [
    {
     "name": "stdout",
     "output_type": "stream",
     "text": [
      "Logistic Regression Performance:\n",
      "\n",
      "              precision    recall  f1-score   support\n",
      "\n",
      "           0       0.88      0.75      0.81      1549\n",
      "           1       0.52      0.73      0.60       561\n",
      "\n",
      "    accuracy                           0.75      2110\n",
      "   macro avg       0.70      0.74      0.71      2110\n",
      "weighted avg       0.79      0.75      0.76      2110\n",
      "\n",
      "ROC-AUC: 0.8235840729859643\n",
      "Confusion Matrix:\n",
      " [[1168  381]\n",
      " [ 154  407]]\n"
     ]
    }
   ],
   "source": [
    "# Import libraries\n",
    "from sklearn.preprocessing import StandardScaler\n",
    "from sklearn.linear_model import LogisticRegression\n",
    "from sklearn.svm import SVC\n",
    "from imblearn.over_sampling import SMOTE\n",
    "from sklearn.metrics import classification_report, confusion_matrix, roc_auc_score\n",
    "\n",
    "# LOGISTIC REGRESSION\n",
    "lr_model = LogisticRegression(max_iter=1000, random_state=42)\n",
    "lr_model.fit(X_train_bal, y_train_bal)\n",
    "\n",
    "y_pred_lr = lr_model.predict(X_test)\n",
    "y_prob_lr = lr_model.predict_proba(X_test)[:, 1]\n",
    "\n",
    "print(\"Logistic Regression Performance:\\n\")\n",
    "print(classification_report(y_test, y_pred_lr))\n",
    "print(\"ROC-AUC:\", roc_auc_score(y_test, y_prob_lr))\n",
    "print(\"Confusion Matrix:\\n\", confusion_matrix(y_test, y_pred_lr))"
   ]
  },
  {
   "cell_type": "code",
   "execution_count": 22,
   "metadata": {
    "trusted": true
   },
   "outputs": [
    {
     "name": "stdout",
     "output_type": "stream",
     "text": [
      "\n",
      "SVM Performance:\n",
      "\n",
      "              precision    recall  f1-score   support\n",
      "\n",
      "           0       0.88      0.75      0.81      1549\n",
      "           1       0.51      0.72      0.60       561\n",
      "\n",
      "    accuracy                           0.74      2110\n",
      "   macro avg       0.70      0.74      0.71      2110\n",
      "weighted avg       0.78      0.74      0.76      2110\n",
      "\n",
      "ROC-AUC: 0.8108992173663879\n",
      "Confusion Matrix:\n",
      " [[1166  383]\n",
      " [ 157  404]]\n"
     ]
    }
   ],
   "source": [
    "# SVM\n",
    "svm_model = SVC(probability=True, random_state=42)\n",
    "svm_model.fit(X_train_bal, y_train_bal)\n",
    "\n",
    "y_pred_svm = svm_model.predict(X_test)\n",
    "y_prob_svm = svm_model.predict_proba(X_test)[:, 1]\n",
    "\n",
    "print(\"\\nSVM Performance:\\n\")\n",
    "print(classification_report(y_test, y_pred_svm))\n",
    "print(\"ROC-AUC:\", roc_auc_score(y_test, y_prob_svm))\n",
    "print(\"Confusion Matrix:\\n\", confusion_matrix(y_test, y_pred_svm))"
   ]
  },
  {
   "cell_type": "markdown",
   "metadata": {},
   "source": [
    "* we will tray to train the balenced data with xgboost and random forest "
   ]
  },
  {
   "cell_type": "code",
   "execution_count": 23,
   "metadata": {},
   "outputs": [
    {
     "name": "stdout",
     "output_type": "stream",
     "text": [
      "Random Forest Performance:\n",
      "\n",
      "              precision    recall  f1-score   support\n",
      "\n",
      "           0       0.86      0.82      0.84      1549\n",
      "           1       0.55      0.63      0.59       561\n",
      "\n",
      "    accuracy                           0.76      2110\n",
      "   macro avg       0.70      0.72      0.71      2110\n",
      "weighted avg       0.78      0.76      0.77      2110\n",
      "\n",
      "ROC-AUC: 0.8042742773498859\n",
      "Confusion Matrix:\n",
      " [[1263  286]\n",
      " [ 210  351]]\n"
     ]
    }
   ],
   "source": [
    "# RANDOM FOREST with balanced data\n",
    "rf_model_b = RandomForestClassifier(random_state=42, class_weight='balanced')  # optional class_weight\n",
    "rf_model_b.fit(X_train_bal, y_train_bal)\n",
    "\n",
    "y_pred_rf_b = rf_model_b.predict(X_test)\n",
    "y_prob_rf_b= rf_model_b.predict_proba(X_test)[:, 1]\n",
    "\n",
    "print(\"Random Forest Performance:\\n\")\n",
    "print(classification_report(y_test, y_pred_rf_b))\n",
    "print(\"ROC-AUC:\", roc_auc_score(y_test, y_prob_rf_b))\n",
    "print(\"Confusion Matrix:\\n\", confusion_matrix(y_test, y_pred_rf_b))\n"
   ]
  },
  {
   "cell_type": "code",
   "execution_count": 24,
   "metadata": {},
   "outputs": [
    {
     "name": "stdout",
     "output_type": "stream",
     "text": [
      "\n",
      "XGBoost Performance:\n",
      "\n",
      "              precision    recall  f1-score   support\n",
      "\n",
      "           0       0.86      0.80      0.83      1549\n",
      "           1       0.54      0.63      0.58       561\n",
      "\n",
      "    accuracy                           0.76      2110\n",
      "   macro avg       0.70      0.72      0.71      2110\n",
      "weighted avg       0.77      0.76      0.76      2110\n",
      "\n",
      "ROC-AUC: 0.8045176636298043\n",
      "Confusion Matrix:\n",
      " [[1245  304]\n",
      " [ 205  356]]\n"
     ]
    },
    {
     "name": "stderr",
     "output_type": "stream",
     "text": [
      "c:\\Users\\sarah\\AppData\\Local\\Programs\\Python\\Python312\\Lib\\site-packages\\xgboost\\training.py:183: UserWarning:\n",
      "\n",
      "[17:14:02] WARNING: C:\\actions-runner\\_work\\xgboost\\xgboost\\src\\learner.cc:738: \n",
      "Parameters: { \"use_label_encoder\" } are not used.\n",
      "\n",
      "\n"
     ]
    }
   ],
   "source": [
    "# XGBOOST with balanced data\n",
    "xgb_model_b = xgb.XGBClassifier(use_label_encoder=False, eval_metric='logloss', \n",
    "                              random_state=42, scale_pos_weight=(y_train_bal==0).sum()/(y_train_bal==1).sum())\n",
    "xgb_model_b.fit(X_train_bal, y_train_bal)\n",
    "\n",
    "y_pred_xgb_b = xgb_model_b.predict(X_test)\n",
    "y_prob_xgb_b = xgb_model_b.predict_proba(X_test)[:, 1]\n",
    "\n",
    "print(\"\\nXGBoost Performance:\\n\")\n",
    "print(classification_report(y_test, y_pred_xgb_b))\n",
    "print(\"ROC-AUC:\", roc_auc_score(y_test, y_prob_xgb_b))\n",
    "print(\"Confusion Matrix:\\n\", confusion_matrix(y_test, y_pred_xgb_b))"
   ]
  },
  {
   "cell_type": "markdown",
   "metadata": {},
   "source": [
    "## 4. Evaluation & Results"
   ]
  },
  {
   "cell_type": "code",
   "execution_count": 29,
   "metadata": {},
   "outputs": [],
   "source": [
    "from sklearn.metrics import precision_score, recall_score, f1_score, roc_auc_score"
   ]
  },
  {
   "cell_type": "code",
   "execution_count": 46,
   "metadata": {},
   "outputs": [],
   "source": [
    "models = {\n",
    "    'Logistic Regression': y_pred_lr,\n",
    "    'svm': y_pred_svm,\n",
    "    'Random Forest imbalence': y_pred_rf,\n",
    "    'XGBoost imbalence': y_pred_xgb,\n",
    "    'Random Forest balence': y_pred_rf_b,\n",
    "    'XGBoost balence': y_pred_xgb_b\n",
    "}\n",
    "\n",
    "precision, recall, f1, roc_auc = [], [], [], []\n",
    "\n",
    "for name, y_pred in models.items():\n",
    "    # Precision, Recall, F1 for fraud class (class 1)\n",
    "    precision.append(precision_score(y_test, y_pred, pos_label=1))\n",
    "    recall.append(recall_score(y_test, y_pred, pos_label=1))\n",
    "    f1.append(f1_score(y_test, y_pred, pos_label=1))\n",
    "    \n",
    "    # ROC-AUC using predicted probabilities\n",
    "    if name == 'Logistic Regression':\n",
    "        y_proba = lr_model.predict_proba(X_test)[:,1]\n",
    "    elif name == 'svm':\n",
    "        y_proba = svm_model.predict_proba(X_test)[:,1]    \n",
    "    elif name == 'Random Forest':\n",
    "        y_proba = rf_model.predict_proba(X_test)[:,1]\n",
    "    elif name == 'Random Forest balence':\n",
    "        y_proba = rf_model_b.predict_proba(X_test)[:,1]\n",
    "    elif name == 'XGBoost balence':\n",
    "        y_proba = xgb_model_b.predict_proba(X_test)[:,1]        \n",
    "    else:  # XGBoost\n",
    "        y_proba = xgb_model.predict_proba(X_test)[:,1]\n",
    "    \n",
    "    roc_auc.append(roc_auc_score(y_test, y_proba))\n",
    "\n"
   ]
  },
  {
   "cell_type": "code",
   "execution_count": 36,
   "metadata": {},
   "outputs": [
    {
     "data": {
      "image/png": "[encoded data removed]",
      "text/plain": [
       "<Figure size 1500x600 with 1 Axes>"
      ]
     },
     "metadata": {},
     "output_type": "display_data"
    }
   ],
   "source": [
    "x = np.arange(len(models))\n",
    "width = 0.25\n",
    "plt.figure(figsize=(15,6))\n",
    "plt.bar(x - width, precision, width, label='Precision', color='skyblue')\n",
    "plt.bar(x, recall, width, label='Recall', color='lightgreen')\n",
    "plt.bar(x + width, f1, width, label='F1-score', color='salmon')\n",
    "plt.xticks(x, models)\n",
    "plt.ylim(0,1)\n",
    "plt.title('Precision, Recall, F1-score Comparison (Fraud Class)')\n",
    "plt.ylabel('Score')\n",
    "plt.legend()\n",
    "plt.show()"
   ]
  },
  {
   "cell_type": "code",
   "execution_count": 44,
   "metadata": {},
   "outputs": [
    {
     "data": {
      "image/png": "[encoded data removed]",
      "text/plain": [
       "<Figure size 1400x500 with 2 Axes>"
      ]
     },
     "metadata": {},
     "output_type": "display_data"
    }
   ],
   "source": [
    "# ===== 3. Optional: Confusion Matrices Side by Side =====\n",
    "from sklearn.metrics import ConfusionMatrixDisplay\n",
    "\n",
    "# Suppose y_pred_lr, y_pred_rf, y_pred_xgb exist\n",
    "fig, axes = plt.subplots(1,2, figsize=(14,5))\n",
    "for ax, y_pred, name in zip(axes, [y_pred_lr, y_pred_rf, y_pred_xgb], models):\n",
    "    cm = confusion_matrix(y_test, y_pred)\n",
    "    disp = ConfusionMatrixDisplay(cm, display_labels=[0,1])\n",
    "    disp.plot(ax=ax, cmap='Blues', colorbar=False)\n",
    "    ax.set_title(name)\n",
    "plt.show()"
   ]
  },
  {
   "cell_type": "markdown",
   "metadata": {},
   "source": [
    "**🔹 Key Observations**\n",
    "\n",
    "Balancing helps Random Forest detect churners better (F1 0.59 vs 0.53) but slightly lowers overall accuracy.\n",
    "\n",
    "Balancing slightly hurts XGBoost performance on churn detection and ROC-AUC, showing XGBoost is robust to imbalance.\n",
    "\n",
    "Imbalanced XGBoost is still better at catching churners than balanced XGBoost, with fewer false negatives.\n",
    "\n",
    "ROC-AUC favors imbalanced Random Forest and XGBoost slightly over their balanced counterparts."
   ]
  },
  {
   "cell_type": "markdown",
   "metadata": {},
   "source": [
    "## Conclusion\n",
    "\n",
    "This analysis of IBM Telco's customer churn data demonstrates the importance of both data preprocessing and model selection in predicting churn effectively. Key findings include:\n",
    "- **Balancing the dataset** improves the ability of models like Random Forest and Logistic Regression to detect churners, increasing recall and F1-score for the minority class, though sometimes at the cost of overall accuracy.\n",
    "- **XGBoost** shows strong robustness to class imbalance, maintaining high performance even without balancing, and generally achieves the best ROC-AUC and churn detection rates.\n",
    "- **Random Forest** benefits from balancing, with improved detection of churners, but its overall performance is slightly lower than XGBoost.\n",
    "- **Logistic Regression and SVM** require balanced data to perform well, highlighting the need for careful preprocessing when using these algorithms.\n",
    "\n",
    "**Business Implications:**\n",
    "- Focusing on features such as tenure, monthly charges, and contract type can help identify customers at risk of churning.\n",
    "- Using robust models like XGBoost enables the business to proactively target likely churners, potentially reducing customer loss and increasing retention.\n",
    "- Regularly updating and retraining models with new data will ensure continued accuracy and relevance of churn predictions.\n",
    "\n",
    "Overall, a combination of proper data handling and advanced machine learning models provides actionable insights for reducing churn and improving customer satisfaction."
   ]
  }
 ],
 "metadata": {
  "kaggle": {
   "accelerator": "none",
   "dataSources": [
    {
     "datasetId": 13996,
     "isSourceIdPinned": false,
     "sourceId": 18858,
     "sourceType": "datasetVersion"
    }
   ],
   "dockerImageVersionId": 31089,
   "isGpuEnabled": false,
   "isInternetEnabled": false,
   "language": "python",
   "sourceType": "notebook"
  },
  "kernelspec": {
   "display_name": "Python 3",
   "language": "python",
   "name": "python3"
  },
  "language_info": {
   "codemirror_mode": {
    "name": "ipython",
    "version": 3
   },
   "file_extension": ".py",
   "mimetype": "text/x-python",
   "name": "python",
   "nbconvert_exporter": "python",
   "pygments_lexer": "ipython3",
   "version": "3.12.3"
  }
 },
 "nbformat": 4,
 "nbformat_minor": 4
}
