{
 "cells": [
  {
   "cell_type": "markdown",
   "metadata": {},
   "source": [
    "# Credit Card fraud detection\n",
    "#### Problem type: Binary classification with heavy class imbalance"
   ]
  },
  {
   "cell_type": "code",
   "execution_count": 1,
   "metadata": {
    "execution": {
     "iopub.execute_input": "2025-09-10T09:43:19.912547Z",
     "iopub.status.busy": "2025-09-10T09:43:19.912258Z",
     "iopub.status.idle": "2025-09-10T09:43:20.443916Z",
     "shell.execute_reply": "2025-09-10T09:43:20.442870Z",
     "shell.execute_reply.started": "2025-09-10T09:43:19.912524Z"
    },
    "trusted": true
   },
   "outputs": [
    {
     "name": "stdout",
     "output_type": "stream",
     "text": [
      "Path to dataset files: /kaggle/input/creditcardfraud\n"
     ]
    }
   ],
   "source": [
    "import kagglehub\n",
    "\n",
    "# Download latest version\n",
    "path = kagglehub.dataset_download(\"mlg-ulb/creditcardfraud\")\n",
    "\n",
    "print(\"Path to dataset files:\", path)"
   ]
  },
  {
   "cell_type": "markdown",
   "metadata": {},
   "source": [
    "## Load packages"
   ]
  },
  {
   "cell_type": "code",
   "execution_count": 5,
   "metadata": {
    "execution": {
     "iopub.execute_input": "2025-09-10T18:26:18.246683Z",
     "iopub.status.busy": "2025-09-10T18:26:18.245831Z",
     "iopub.status.idle": "2025-09-10T18:26:24.601419Z",
     "shell.execute_reply": "2025-09-10T18:26:24.599965Z",
     "shell.execute_reply.started": "2025-09-10T18:26:18.246638Z"
    },
    "trusted": true
   },
   "outputs": [
    {
     "data": {
      "text/html": [
       "        <script type=\"text/javascript\">\n",
       "        window.PlotlyConfig = {MathJaxConfig: 'local'};\n",
       "        if (window.MathJax && window.MathJax.Hub && window.MathJax.Hub.Config) {window.MathJax.Hub.Config({SVG: {font: \"STIX-Web\"}});}\n",
       "        </script>\n",
       "        <script type=\"module\">import \"https://cdn.plot.ly/plotly-3.1.0.min\"</script>\n",
       "        "
      ]
     },
     "metadata": {},
     "output_type": "display_data"
    }
   ],
   "source": [
    "import numpy as np\n",
    "import pandas as pd\n",
    "\n",
    "import matplotlib\n",
    "import matplotlib.pyplot as plt\n",
    "import seaborn as sns\n",
    "%matplotlib inline \n",
    "import plotly.graph_objs as go\n",
    "import plotly.figure_factory as ff\n",
    "from plotly import tools\n",
    "from plotly.offline import download_plotlyjs, init_notebook_mode, plot, iplot\n",
    "init_notebook_mode(connected=True)\n",
    "\n",
    "from sklearn.model_selection import train_test_split\n",
    "from sklearn.preprocessing import StandardScaler\n",
    "from sklearn.linear_model import LogisticRegression\n",
    "\n",
    "\n",
    "\n",
    "\n"
   ]
  },
  {
   "cell_type": "code",
   "execution_count": 4,
   "metadata": {},
   "outputs": [
    {
     "name": "stdout",
     "output_type": "stream",
     "text": [
      "Collecting scikit-learn\n",
      "  Downloading scikit_learn-1.7.2-cp312-cp312-win_amd64.whl.metadata (11 kB)\n",
      "Collecting imbalanced-learn\n",
      "  Downloading imbalanced_learn-0.14.0-py3-none-any.whl.metadata (8.8 kB)\n",
      "Requirement already satisfied: numpy>=1.22.0 in c:\\users\\sarah\\appdata\\local\\programs\\python\\python312\\lib\\site-packages (from scikit-learn) (1.26.4)\n",
      "Requirement already satisfied: scipy>=1.8.0 in c:\\users\\sarah\\appdata\\local\\programs\\python\\python312\\lib\\site-packages (from scikit-learn) (1.13.0)\n",
      "Collecting joblib>=1.2.0 (from scikit-learn)\n",
      "  Downloading joblib-1.5.2-py3-none-any.whl.metadata (5.6 kB)\n",
      "Collecting threadpoolctl>=3.1.0 (from scikit-learn)\n",
      "  Downloading threadpoolctl-3.6.0-py3-none-any.whl.metadata (13 kB)\n",
      "Downloading scikit_learn-1.7.2-cp312-cp312-win_amd64.whl (8.7 MB)\n",
      "   ---------------------------------------- 0.0/8.7 MB ? eta -:--:--\n",
      "   ---------------------------------------- 0.0/8.7 MB ? eta -:--:--\n",
      "   - -------------------------------------- 0.3/8.7 MB ? eta -:--:--\n",
      "   -- ------------------------------------- 0.5/8.7 MB 1.3 MB/s eta 0:00:07\n",
      "   --- ------------------------------------ 0.8/8.7 MB 1.0 MB/s eta 0:00:08\n",
      "   ------ --------------------------------- 1.3/8.7 MB 1.3 MB/s eta 0:00:06\n",
      "   ------- -------------------------------- 1.6/8.7 MB 1.3 MB/s eta 0:00:06\n",
      "   -------- ------------------------------- 1.8/8.7 MB 1.3 MB/s eta 0:00:06\n",
      "   --------- ------------------------------ 2.1/8.7 MB 1.3 MB/s eta 0:00:06\n",
      "   ---------- ----------------------------- 2.4/8.7 MB 1.3 MB/s eta 0:00:05\n",
      "   ------------ --------------------------- 2.6/8.7 MB 1.3 MB/s eta 0:00:05\n",
      "   ------------- -------------------------- 2.9/8.7 MB 1.3 MB/s eta 0:00:05\n",
      "   -------------- ------------------------- 3.1/8.7 MB 1.3 MB/s eta 0:00:05\n",
      "   --------------- ------------------------ 3.4/8.7 MB 1.3 MB/s eta 0:00:05\n",
      "   ---------------- ----------------------- 3.7/8.7 MB 1.3 MB/s eta 0:00:04\n",
      "   ------------------ --------------------- 3.9/8.7 MB 1.3 MB/s eta 0:00:04\n",
      "   ------------------ --------------------- 3.9/8.7 MB 1.3 MB/s eta 0:00:04\n",
      "   -------------------- ------------------- 4.5/8.7 MB 1.3 MB/s eta 0:00:04\n",
      "   --------------------- ------------------ 4.7/8.7 MB 1.3 MB/s eta 0:00:04\n",
      "   ---------------------- ----------------- 5.0/8.7 MB 1.3 MB/s eta 0:00:03\n",
      "   ------------------------ --------------- 5.2/8.7 MB 1.3 MB/s eta 0:00:03\n",
      "   ------------------------- -------------- 5.5/8.7 MB 1.3 MB/s eta 0:00:03\n",
      "   -------------------------- ------------- 5.8/8.7 MB 1.3 MB/s eta 0:00:03\n",
      "   --------------------------- ------------ 6.0/8.7 MB 1.3 MB/s eta 0:00:03\n",
      "   ---------------------------- ----------- 6.3/8.7 MB 1.3 MB/s eta 0:00:02\n",
      "   ------------------------------- -------- 6.8/8.7 MB 1.3 MB/s eta 0:00:02\n",
      "   -------------------------------- ------- 7.1/8.7 MB 1.3 MB/s eta 0:00:02\n",
      "   --------------------------------- ------ 7.3/8.7 MB 1.3 MB/s eta 0:00:02\n",
      "   ---------------------------------- ----- 7.6/8.7 MB 1.3 MB/s eta 0:00:01\n",
      "   ------------------------------------ --- 7.9/8.7 MB 1.3 MB/s eta 0:00:01\n",
      "   ------------------------------------- -- 8.1/8.7 MB 1.3 MB/s eta 0:00:01\n",
      "   -------------------------------------- - 8.4/8.7 MB 1.3 MB/s eta 0:00:01\n",
      "   ---------------------------------------- 8.7/8.7 MB 1.3 MB/s  0:00:06\n",
      "Downloading imbalanced_learn-0.14.0-py3-none-any.whl (239 kB)\n",
      "Downloading joblib-1.5.2-py3-none-any.whl (308 kB)\n",
      "Downloading threadpoolctl-3.6.0-py3-none-any.whl (18 kB)\n",
      "Installing collected packages: threadpoolctl, joblib, scikit-learn, imbalanced-learn\n",
      "\n",
      "   ---------- ----------------------------- 1/4 [joblib]\n",
      "   ---------- ----------------------------- 1/4 [joblib]\n",
      "   ---------- ----------------------------- 1/4 [joblib]\n",
      "   ---------- ----------------------------- 1/4 [joblib]\n",
      "   ---------- ----------------------------- 1/4 [joblib]\n",
      "   ---------- ----------------------------- 1/4 [joblib]\n",
      "   ---------- ----------------------------- 1/4 [joblib]\n",
      "   ---------- ----------------------------- 1/4 [joblib]\n",
      "   ---------- ----------------------------- 1/4 [joblib]\n",
      "   ---------- ----------------------------- 1/4 [joblib]\n",
      "   -------------------- ------------------- 2/4 [scikit-learn]\n",
      "   -------------------- ------------------- 2/4 [scikit-learn]\n",
      "   -------------------- ------------------- 2/4 [scikit-learn]\n",
      "   -------------------- ------------------- 2/4 [scikit-learn]\n",
      "   -------------------- ------------------- 2/4 [scikit-learn]\n",
      "   -------------------- ------------------- 2/4 [scikit-learn]\n",
      "   -------------------- ------------------- 2/4 [scikit-learn]\n",
      "   -------------------- ------------------- 2/4 [scikit-learn]\n",
      "   -------------------- ------------------- 2/4 [scikit-learn]\n",
      "   -------------------- ------------------- 2/4 [scikit-learn]\n",
      "   -------------------- ------------------- 2/4 [scikit-learn]\n",
      "   -------------------- ------------------- 2/4 [scikit-learn]\n",
      "   -------------------- ------------------- 2/4 [scikit-learn]\n",
      "   -------------------- ------------------- 2/4 [scikit-learn]\n",
      "   -------------------- ------------------- 2/4 [scikit-learn]\n",
      "   -------------------- ------------------- 2/4 [scikit-learn]\n",
      "   -------------------- ------------------- 2/4 [scikit-learn]\n",
      "   -------------------- ------------------- 2/4 [scikit-learn]\n",
      "   -------------------- ------------------- 2/4 [scikit-learn]\n",
      "   -------------------- ------------------- 2/4 [scikit-learn]\n",
      "   -------------------- ------------------- 2/4 [scikit-learn]\n",
      "   -------------------- ------------------- 2/4 [scikit-learn]\n",
      "   -------------------- ------------------- 2/4 [scikit-learn]\n",
      "   -------------------- ------------------- 2/4 [scikit-learn]\n",
      "   -------------------- ------------------- 2/4 [scikit-learn]\n",
      "   -------------------- ------------------- 2/4 [scikit-learn]\n",
      "   -------------------- ------------------- 2/4 [scikit-learn]\n",
      "   -------------------- ------------------- 2/4 [scikit-learn]\n",
      "   -------------------- ------------------- 2/4 [scikit-learn]\n",
      "   -------------------- ------------------- 2/4 [scikit-learn]\n",
      "   -------------------- ------------------- 2/4 [scikit-learn]\n",
      "   -------------------- ------------------- 2/4 [scikit-learn]\n",
      "   -------------------- ------------------- 2/4 [scikit-learn]\n",
      "   -------------------- ------------------- 2/4 [scikit-learn]\n",
      "   -------------------- ------------------- 2/4 [scikit-learn]\n",
      "   -------------------- ------------------- 2/4 [scikit-learn]\n",
      "   -------------------- ------------------- 2/4 [scikit-learn]\n",
      "   -------------------- ------------------- 2/4 [scikit-learn]\n",
      "   -------------------- ------------------- 2/4 [scikit-learn]\n",
      "   -------------------- ------------------- 2/4 [scikit-learn]\n",
      "   -------------------- ------------------- 2/4 [scikit-learn]\n",
      "   -------------------- ------------------- 2/4 [scikit-learn]\n",
      "   -------------------- ------------------- 2/4 [scikit-learn]\n",
      "   -------------------- ------------------- 2/4 [scikit-learn]\n",
      "   -------------------- ------------------- 2/4 [scikit-learn]\n",
      "   -------------------- ------------------- 2/4 [scikit-learn]\n",
      "   -------------------- ------------------- 2/4 [scikit-learn]\n",
      "   -------------------- ------------------- 2/4 [scikit-learn]\n",
      "   -------------------- ------------------- 2/4 [scikit-learn]\n",
      "   -------------------- ------------------- 2/4 [scikit-learn]\n",
      "   -------------------- ------------------- 2/4 [scikit-learn]\n",
      "   -------------------- ------------------- 2/4 [scikit-learn]\n",
      "   -------------------- ------------------- 2/4 [scikit-learn]\n",
      "   -------------------- ------------------- 2/4 [scikit-learn]\n",
      "   -------------------- ------------------- 2/4 [scikit-learn]\n",
      "   -------------------- ------------------- 2/4 [scikit-learn]\n",
      "   -------------------- ------------------- 2/4 [scikit-learn]\n",
      "   -------------------- ------------------- 2/4 [scikit-learn]\n",
      "   -------------------- ------------------- 2/4 [scikit-learn]\n",
      "   -------------------- ------------------- 2/4 [scikit-learn]\n",
      "   -------------------- ------------------- 2/4 [scikit-learn]\n",
      "   -------------------- ------------------- 2/4 [scikit-learn]\n",
      "   -------------------- ------------------- 2/4 [scikit-learn]\n",
      "   -------------------- ------------------- 2/4 [scikit-learn]\n",
      "   -------------------- ------------------- 2/4 [scikit-learn]\n",
      "   -------------------- ------------------- 2/4 [scikit-learn]\n",
      "   -------------------- ------------------- 2/4 [scikit-learn]\n",
      "   -------------------- ------------------- 2/4 [scikit-learn]\n",
      "   -------------------- ------------------- 2/4 [scikit-learn]\n",
      "   -------------------- ------------------- 2/4 [scikit-learn]\n",
      "   -------------------- ------------------- 2/4 [scikit-learn]\n",
      "   -------------------- ------------------- 2/4 [scikit-learn]\n",
      "   -------------------- ------------------- 2/4 [scikit-learn]\n",
      "   -------------------- ------------------- 2/4 [scikit-learn]\n",
      "   -------------------- ------------------- 2/4 [scikit-learn]\n",
      "   -------------------- ------------------- 2/4 [scikit-learn]\n",
      "   -------------------- ------------------- 2/4 [scikit-learn]\n",
      "   -------------------- ------------------- 2/4 [scikit-learn]\n",
      "   -------------------- ------------------- 2/4 [scikit-learn]\n",
      "   -------------------- ------------------- 2/4 [scikit-learn]\n",
      "   -------------------- ------------------- 2/4 [scikit-learn]\n",
      "   -------------------- ------------------- 2/4 [scikit-learn]\n",
      "   ------------------------------ --------- 3/4 [imbalanced-learn]\n",
      "   ------------------------------ --------- 3/4 [imbalanced-learn]\n",
      "   ------------------------------ --------- 3/4 [imbalanced-learn]\n",
      "   ------------------------------ --------- 3/4 [imbalanced-learn]\n",
      "   ------------------------------ --------- 3/4 [imbalanced-learn]\n",
      "   ------------------------------ --------- 3/4 [imbalanced-learn]\n",
      "   ------------------------------ --------- 3/4 [imbalanced-learn]\n",
      "   ------------------------------ --------- 3/4 [imbalanced-learn]\n",
      "   ------------------------------ --------- 3/4 [imbalanced-learn]\n",
      "   ------------------------------ --------- 3/4 [imbalanced-learn]\n",
      "   ------------------------------ --------- 3/4 [imbalanced-learn]\n",
      "   ------------------------------ --------- 3/4 [imbalanced-learn]\n",
      "   ------------------------------ --------- 3/4 [imbalanced-learn]\n",
      "   ------------------------------ --------- 3/4 [imbalanced-learn]\n",
      "   ---------------------------------------- 4/4 [imbalanced-learn]\n",
      "\n",
      "Successfully installed imbalanced-learn-0.14.0 joblib-1.5.2 scikit-learn-1.7.2 threadpoolctl-3.6.0\n"
     ]
    }
   ],
   "source": [
    "!pip install --upgrade scikit-learn imbalanced-learn\n"
   ]
  },
  {
   "cell_type": "code",
   "execution_count": 6,
   "metadata": {},
   "outputs": [
    {
     "name": "stdout",
     "output_type": "stream",
     "text": [
      "Collecting sklearn\n",
      "  Using cached sklearn-0.0.post12.tar.gz (2.6 kB)\n",
      "  Installing build dependencies: started\n",
      "  Installing build dependencies: finished with status 'done'\n",
      "  Getting requirements to build wheel: started\n",
      "  Getting requirements to build wheel: finished with status 'error'\n"
     ]
    },
    {
     "name": "stderr",
     "output_type": "stream",
     "text": [
      "  error: subprocess-exited-with-error\n",
      "  \n",
      "  × Getting requirements to build wheel did not run successfully.\n",
      "  │ exit code: 1\n",
      "  ╰─> [15 lines of output]\n",
      "      The 'sklearn' PyPI package is deprecated, use 'scikit-learn'\n",
      "      rather than 'sklearn' for pip commands.\n",
      "      \n",
      "      Here is how to fix this error in the main use cases:\n",
      "      - use 'pip install scikit-learn' rather than 'pip install sklearn'\n",
      "      - replace 'sklearn' by 'scikit-learn' in your pip requirements files\n",
      "        (requirements.txt, setup.py, setup.cfg, Pipfile, etc ...)\n",
      "      - if the 'sklearn' package is used by one of your dependencies,\n",
      "        it would be great if you take some time to track which package uses\n",
      "        'sklearn' instead of 'scikit-learn' and report it to their issue tracker\n",
      "      - as a last resort, set the environment variable\n",
      "        SKLEARN_ALLOW_DEPRECATED_SKLEARN_PACKAGE_INSTALL=True to avoid this error\n",
      "      \n",
      "      More information is available at\n",
      "      https://github.com/scikit-learn/sklearn-pypi-package\n",
      "      [end of output]\n",
      "  \n",
      "  note: This error originates from a subprocess, and is likely not a problem with pip.\n",
      "error: subprocess-exited-with-error\n",
      "\n",
      "× Getting requirements to build wheel did not run successfully.\n",
      "│ exit code: 1\n",
      "╰─> See above for output.\n",
      "\n",
      "note: This error originates from a subprocess, and is likely not a problem with pip.\n"
     ]
    }
   ],
   "source": [
    "!pip install sklearn"
   ]
  },
  {
   "cell_type": "code",
   "execution_count": 8,
   "metadata": {
    "execution": {
     "iopub.execute_input": "2025-09-10T18:45:53.813088Z",
     "iopub.status.busy": "2025-09-10T18:45:53.812740Z",
     "iopub.status.idle": "2025-09-10T18:45:56.287912Z",
     "shell.execute_reply": "2025-09-10T18:45:56.286897Z",
     "shell.execute_reply.started": "2025-09-10T18:45:53.813065Z"
    },
    "trusted": true
   },
   "outputs": [],
   "source": [
    "data=pd.read_csv('creditcard.csv')"
   ]
  },
  {
   "cell_type": "markdown",
   "metadata": {},
   "source": [
    "## 1. Data Understanding\n",
    "\n",
    "Columns:\n",
    "\n",
    "* **Time**: seconds since first transaction.\n",
    "* **Amount**: transaction amount.\n",
    "* **F1...F28**: anonymized features (from PCA, because real bank features are hidden).\n",
    "* **Class**: target (0 = legit, 1 = fraud).\n"
   ]
  },
  {
   "cell_type": "markdown",
   "metadata": {},
   "source": [
    "### 1.Basic Information"
   ]
  },
  {
   "cell_type": "code",
   "execution_count": 3,
   "metadata": {
    "collapsed": true,
    "execution": {
     "iopub.execute_input": "2025-09-10T18:26:32.784718Z",
     "iopub.status.busy": "2025-09-10T18:26:32.784295Z",
     "iopub.status.idle": "2025-09-10T18:26:32.822098Z",
     "shell.execute_reply": "2025-09-10T18:26:32.820934Z",
     "shell.execute_reply.started": "2025-09-10T18:26:32.784693Z"
    },
    "jupyter": {
     "outputs_hidden": true
    },
    "trusted": true
   },
   "outputs": [
    {
     "name": "stdout",
     "output_type": "stream",
     "text": [
      "Dataset shape: (284807, 31)\n",
      "\n",
      "Data types:\n",
      " Time      float64\n",
      "V1        float64\n",
      "V2        float64\n",
      "V3        float64\n",
      "V4        float64\n",
      "V5        float64\n",
      "V6        float64\n",
      "V7        float64\n",
      "V8        float64\n",
      "V9        float64\n",
      "V10       float64\n",
      "V11       float64\n",
      "V12       float64\n",
      "V13       float64\n",
      "V14       float64\n",
      "V15       float64\n",
      "V16       float64\n",
      "V17       float64\n",
      "V18       float64\n",
      "V19       float64\n",
      "V20       float64\n",
      "V21       float64\n",
      "V22       float64\n",
      "V23       float64\n",
      "V24       float64\n",
      "V25       float64\n",
      "V26       float64\n",
      "V27       float64\n",
      "V28       float64\n",
      "Amount    float64\n",
      "Class       int64\n",
      "dtype: object\n",
      "\n",
      "Missing values:\n",
      " 0\n"
     ]
    }
   ],
   "source": [
    "print(\"Dataset shape:\", data.shape)\n",
    "print(\"\\nData types:\\n\", data.dtypes)\n",
    "print(\"\\nMissing values:\\n\", data.isnull().sum().sum())\n"
   ]
  },
  {
   "cell_type": "code",
   "execution_count": 5,
   "metadata": {
    "execution": {
     "iopub.execute_input": "2025-09-10T18:26:40.911278Z",
     "iopub.status.busy": "2025-09-10T18:26:40.910914Z",
     "iopub.status.idle": "2025-09-10T18:26:40.958429Z",
     "shell.execute_reply": "2025-09-10T18:26:40.957354Z",
     "shell.execute_reply.started": "2025-09-10T18:26:40.911252Z"
    },
    "trusted": true
   },
   "outputs": [
    {
     "data": {
      "text/html": [
       "<div>\n",
       "<style scoped>\n",
       "    .dataframe tbody tr th:only-of-type {\n",
       "        vertical-align: middle;\n",
       "    }\n",
       "\n",
       "    .dataframe tbody tr th {\n",
       "        vertical-align: top;\n",
       "    }\n",
       "\n",
       "    .dataframe thead th {\n",
       "        text-align: right;\n",
       "    }\n",
       "</style>\n",
       "<table border=\"1\" class=\"dataframe\">\n",
       "  <thead>\n",
       "    <tr style=\"text-align: right;\">\n",
       "      <th></th>\n",
       "      <th>Time</th>\n",
       "      <th>V1</th>\n",
       "      <th>V2</th>\n",
       "      <th>V3</th>\n",
       "      <th>V4</th>\n",
       "      <th>V5</th>\n",
       "      <th>V6</th>\n",
       "      <th>V7</th>\n",
       "      <th>V8</th>\n",
       "      <th>V9</th>\n",
       "      <th>...</th>\n",
       "      <th>V21</th>\n",
       "      <th>V22</th>\n",
       "      <th>V23</th>\n",
       "      <th>V24</th>\n",
       "      <th>V25</th>\n",
       "      <th>V26</th>\n",
       "      <th>V27</th>\n",
       "      <th>V28</th>\n",
       "      <th>Amount</th>\n",
       "      <th>Class</th>\n",
       "    </tr>\n",
       "  </thead>\n",
       "  <tbody>\n",
       "    <tr>\n",
       "      <th>0</th>\n",
       "      <td>0.0</td>\n",
       "      <td>-1.359807</td>\n",
       "      <td>-0.072781</td>\n",
       "      <td>2.536347</td>\n",
       "      <td>1.378155</td>\n",
       "      <td>-0.338321</td>\n",
       "      <td>0.462388</td>\n",
       "      <td>0.239599</td>\n",
       "      <td>0.098698</td>\n",
       "      <td>0.363787</td>\n",
       "      <td>...</td>\n",
       "      <td>-0.018307</td>\n",
       "      <td>0.277838</td>\n",
       "      <td>-0.110474</td>\n",
       "      <td>0.066928</td>\n",
       "      <td>0.128539</td>\n",
       "      <td>-0.189115</td>\n",
       "      <td>0.133558</td>\n",
       "      <td>-0.021053</td>\n",
       "      <td>149.62</td>\n",
       "      <td>0</td>\n",
       "    </tr>\n",
       "    <tr>\n",
       "      <th>1</th>\n",
       "      <td>0.0</td>\n",
       "      <td>1.191857</td>\n",
       "      <td>0.266151</td>\n",
       "      <td>0.166480</td>\n",
       "      <td>0.448154</td>\n",
       "      <td>0.060018</td>\n",
       "      <td>-0.082361</td>\n",
       "      <td>-0.078803</td>\n",
       "      <td>0.085102</td>\n",
       "      <td>-0.255425</td>\n",
       "      <td>...</td>\n",
       "      <td>-0.225775</td>\n",
       "      <td>-0.638672</td>\n",
       "      <td>0.101288</td>\n",
       "      <td>-0.339846</td>\n",
       "      <td>0.167170</td>\n",
       "      <td>0.125895</td>\n",
       "      <td>-0.008983</td>\n",
       "      <td>0.014724</td>\n",
       "      <td>2.69</td>\n",
       "      <td>0</td>\n",
       "    </tr>\n",
       "    <tr>\n",
       "      <th>2</th>\n",
       "      <td>1.0</td>\n",
       "      <td>-1.358354</td>\n",
       "      <td>-1.340163</td>\n",
       "      <td>1.773209</td>\n",
       "      <td>0.379780</td>\n",
       "      <td>-0.503198</td>\n",
       "      <td>1.800499</td>\n",
       "      <td>0.791461</td>\n",
       "      <td>0.247676</td>\n",
       "      <td>-1.514654</td>\n",
       "      <td>...</td>\n",
       "      <td>0.247998</td>\n",
       "      <td>0.771679</td>\n",
       "      <td>0.909412</td>\n",
       "      <td>-0.689281</td>\n",
       "      <td>-0.327642</td>\n",
       "      <td>-0.139097</td>\n",
       "      <td>-0.055353</td>\n",
       "      <td>-0.059752</td>\n",
       "      <td>378.66</td>\n",
       "      <td>0</td>\n",
       "    </tr>\n",
       "    <tr>\n",
       "      <th>3</th>\n",
       "      <td>1.0</td>\n",
       "      <td>-0.966272</td>\n",
       "      <td>-0.185226</td>\n",
       "      <td>1.792993</td>\n",
       "      <td>-0.863291</td>\n",
       "      <td>-0.010309</td>\n",
       "      <td>1.247203</td>\n",
       "      <td>0.237609</td>\n",
       "      <td>0.377436</td>\n",
       "      <td>-1.387024</td>\n",
       "      <td>...</td>\n",
       "      <td>-0.108300</td>\n",
       "      <td>0.005274</td>\n",
       "      <td>-0.190321</td>\n",
       "      <td>-1.175575</td>\n",
       "      <td>0.647376</td>\n",
       "      <td>-0.221929</td>\n",
       "      <td>0.062723</td>\n",
       "      <td>0.061458</td>\n",
       "      <td>123.50</td>\n",
       "      <td>0</td>\n",
       "    </tr>\n",
       "    <tr>\n",
       "      <th>4</th>\n",
       "      <td>2.0</td>\n",
       "      <td>-1.158233</td>\n",
       "      <td>0.877737</td>\n",
       "      <td>1.548718</td>\n",
       "      <td>0.403034</td>\n",
       "      <td>-0.407193</td>\n",
       "      <td>0.095921</td>\n",
       "      <td>0.592941</td>\n",
       "      <td>-0.270533</td>\n",
       "      <td>0.817739</td>\n",
       "      <td>...</td>\n",
       "      <td>-0.009431</td>\n",
       "      <td>0.798278</td>\n",
       "      <td>-0.137458</td>\n",
       "      <td>0.141267</td>\n",
       "      <td>-0.206010</td>\n",
       "      <td>0.502292</td>\n",
       "      <td>0.219422</td>\n",
       "      <td>0.215153</td>\n",
       "      <td>69.99</td>\n",
       "      <td>0</td>\n",
       "    </tr>\n",
       "  </tbody>\n",
       "</table>\n",
       "<p>5 rows × 31 columns</p>\n",
       "</div>"
      ],
      "text/plain": [
       "   Time        V1        V2        V3        V4        V5        V6        V7  \\\n",
       "0   0.0 -1.359807 -0.072781  2.536347  1.378155 -0.338321  0.462388  0.239599   \n",
       "1   0.0  1.191857  0.266151  0.166480  0.448154  0.060018 -0.082361 -0.078803   \n",
       "2   1.0 -1.358354 -1.340163  1.773209  0.379780 -0.503198  1.800499  0.791461   \n",
       "3   1.0 -0.966272 -0.185226  1.792993 -0.863291 -0.010309  1.247203  0.237609   \n",
       "4   2.0 -1.158233  0.877737  1.548718  0.403034 -0.407193  0.095921  0.592941   \n",
       "\n",
       "         V8        V9  ...       V21       V22       V23       V24       V25  \\\n",
       "0  0.098698  0.363787  ... -0.018307  0.277838 -0.110474  0.066928  0.128539   \n",
       "1  0.085102 -0.255425  ... -0.225775 -0.638672  0.101288 -0.339846  0.167170   \n",
       "2  0.247676 -1.514654  ...  0.247998  0.771679  0.909412 -0.689281 -0.327642   \n",
       "3  0.377436 -1.387024  ... -0.108300  0.005274 -0.190321 -1.175575  0.647376   \n",
       "4 -0.270533  0.817739  ... -0.009431  0.798278 -0.137458  0.141267 -0.206010   \n",
       "\n",
       "        V26       V27       V28  Amount  Class  \n",
       "0 -0.189115  0.133558 -0.021053  149.62      0  \n",
       "1  0.125895 -0.008983  0.014724    2.69      0  \n",
       "2 -0.139097 -0.055353 -0.059752  378.66      0  \n",
       "3 -0.221929  0.062723  0.061458  123.50      0  \n",
       "4  0.502292  0.219422  0.215153   69.99      0  \n",
       "\n",
       "[5 rows x 31 columns]"
      ]
     },
     "execution_count": 5,
     "metadata": {},
     "output_type": "execute_result"
    }
   ],
   "source": [
    "data.head()"
   ]
  },
  {
   "cell_type": "code",
   "execution_count": 5,
   "metadata": {
    "execution": {
     "iopub.execute_input": "2025-09-10T16:46:13.542362Z",
     "iopub.status.busy": "2025-09-10T16:46:13.542067Z",
     "iopub.status.idle": "2025-09-10T16:46:14.035001Z",
     "shell.execute_reply": "2025-09-10T16:46:14.033974Z",
     "shell.execute_reply.started": "2025-09-10T16:46:13.542342Z"
    },
    "trusted": true
   },
   "outputs": [
    {
     "data": {
      "text/html": [
       "<div>\n",
       "<style scoped>\n",
       "    .dataframe tbody tr th:only-of-type {\n",
       "        vertical-align: middle;\n",
       "    }\n",
       "\n",
       "    .dataframe tbody tr th {\n",
       "        vertical-align: top;\n",
       "    }\n",
       "\n",
       "    .dataframe thead th {\n",
       "        text-align: right;\n",
       "    }\n",
       "</style>\n",
       "<table border=\"1\" class=\"dataframe\">\n",
       "  <thead>\n",
       "    <tr style=\"text-align: right;\">\n",
       "      <th></th>\n",
       "      <th>Time</th>\n",
       "      <th>V1</th>\n",
       "      <th>V2</th>\n",
       "      <th>V3</th>\n",
       "      <th>V4</th>\n",
       "      <th>V5</th>\n",
       "      <th>V6</th>\n",
       "      <th>V7</th>\n",
       "      <th>V8</th>\n",
       "      <th>V9</th>\n",
       "      <th>...</th>\n",
       "      <th>V21</th>\n",
       "      <th>V22</th>\n",
       "      <th>V23</th>\n",
       "      <th>V24</th>\n",
       "      <th>V25</th>\n",
       "      <th>V26</th>\n",
       "      <th>V27</th>\n",
       "      <th>V28</th>\n",
       "      <th>Amount</th>\n",
       "      <th>Class</th>\n",
       "    </tr>\n",
       "  </thead>\n",
       "  <tbody>\n",
       "    <tr>\n",
       "      <th>count</th>\n",
       "      <td>284807.000000</td>\n",
       "      <td>2.848070e+05</td>\n",
       "      <td>2.848070e+05</td>\n",
       "      <td>2.848070e+05</td>\n",
       "      <td>2.848070e+05</td>\n",
       "      <td>2.848070e+05</td>\n",
       "      <td>2.848070e+05</td>\n",
       "      <td>2.848070e+05</td>\n",
       "      <td>2.848070e+05</td>\n",
       "      <td>2.848070e+05</td>\n",
       "      <td>...</td>\n",
       "      <td>2.848070e+05</td>\n",
       "      <td>2.848070e+05</td>\n",
       "      <td>2.848070e+05</td>\n",
       "      <td>2.848070e+05</td>\n",
       "      <td>2.848070e+05</td>\n",
       "      <td>2.848070e+05</td>\n",
       "      <td>2.848070e+05</td>\n",
       "      <td>2.848070e+05</td>\n",
       "      <td>284807.000000</td>\n",
       "      <td>284807.000000</td>\n",
       "    </tr>\n",
       "    <tr>\n",
       "      <th>mean</th>\n",
       "      <td>94813.859575</td>\n",
       "      <td>1.175161e-15</td>\n",
       "      <td>3.369007e-16</td>\n",
       "      <td>-1.379537e-15</td>\n",
       "      <td>2.094852e-15</td>\n",
       "      <td>1.021879e-15</td>\n",
       "      <td>1.500885e-15</td>\n",
       "      <td>-5.620335e-16</td>\n",
       "      <td>1.149614e-16</td>\n",
       "      <td>-2.426963e-15</td>\n",
       "      <td>...</td>\n",
       "      <td>1.596686e-16</td>\n",
       "      <td>-3.576577e-16</td>\n",
       "      <td>2.650499e-16</td>\n",
       "      <td>4.472317e-15</td>\n",
       "      <td>5.109395e-16</td>\n",
       "      <td>1.686100e-15</td>\n",
       "      <td>-3.662399e-16</td>\n",
       "      <td>-1.225457e-16</td>\n",
       "      <td>88.349619</td>\n",
       "      <td>0.001727</td>\n",
       "    </tr>\n",
       "    <tr>\n",
       "      <th>std</th>\n",
       "      <td>47488.145955</td>\n",
       "      <td>1.958696e+00</td>\n",
       "      <td>1.651309e+00</td>\n",
       "      <td>1.516255e+00</td>\n",
       "      <td>1.415869e+00</td>\n",
       "      <td>1.380247e+00</td>\n",
       "      <td>1.332271e+00</td>\n",
       "      <td>1.237094e+00</td>\n",
       "      <td>1.194353e+00</td>\n",
       "      <td>1.098632e+00</td>\n",
       "      <td>...</td>\n",
       "      <td>7.345240e-01</td>\n",
       "      <td>7.257016e-01</td>\n",
       "      <td>6.244603e-01</td>\n",
       "      <td>6.056471e-01</td>\n",
       "      <td>5.212781e-01</td>\n",
       "      <td>4.822270e-01</td>\n",
       "      <td>4.036325e-01</td>\n",
       "      <td>3.300833e-01</td>\n",
       "      <td>250.120109</td>\n",
       "      <td>0.041527</td>\n",
       "    </tr>\n",
       "    <tr>\n",
       "      <th>min</th>\n",
       "      <td>0.000000</td>\n",
       "      <td>-5.640751e+01</td>\n",
       "      <td>-7.271573e+01</td>\n",
       "      <td>-4.832559e+01</td>\n",
       "      <td>-5.683171e+00</td>\n",
       "      <td>-1.137433e+02</td>\n",
       "      <td>-2.616051e+01</td>\n",
       "      <td>-4.355724e+01</td>\n",
       "      <td>-7.321672e+01</td>\n",
       "      <td>-1.343407e+01</td>\n",
       "      <td>...</td>\n",
       "      <td>-3.483038e+01</td>\n",
       "      <td>-1.093314e+01</td>\n",
       "      <td>-4.480774e+01</td>\n",
       "      <td>-2.836627e+00</td>\n",
       "      <td>-1.029540e+01</td>\n",
       "      <td>-2.604551e+00</td>\n",
       "      <td>-2.256568e+01</td>\n",
       "      <td>-1.543008e+01</td>\n",
       "      <td>0.000000</td>\n",
       "      <td>0.000000</td>\n",
       "    </tr>\n",
       "    <tr>\n",
       "      <th>25%</th>\n",
       "      <td>54201.500000</td>\n",
       "      <td>-9.203734e-01</td>\n",
       "      <td>-5.985499e-01</td>\n",
       "      <td>-8.903648e-01</td>\n",
       "      <td>-8.486401e-01</td>\n",
       "      <td>-6.915971e-01</td>\n",
       "      <td>-7.682956e-01</td>\n",
       "      <td>-5.540759e-01</td>\n",
       "      <td>-2.086297e-01</td>\n",
       "      <td>-6.430976e-01</td>\n",
       "      <td>...</td>\n",
       "      <td>-2.283949e-01</td>\n",
       "      <td>-5.423504e-01</td>\n",
       "      <td>-1.618463e-01</td>\n",
       "      <td>-3.545861e-01</td>\n",
       "      <td>-3.171451e-01</td>\n",
       "      <td>-3.269839e-01</td>\n",
       "      <td>-7.083953e-02</td>\n",
       "      <td>-5.295979e-02</td>\n",
       "      <td>5.600000</td>\n",
       "      <td>0.000000</td>\n",
       "    </tr>\n",
       "    <tr>\n",
       "      <th>50%</th>\n",
       "      <td>84692.000000</td>\n",
       "      <td>1.810880e-02</td>\n",
       "      <td>6.548556e-02</td>\n",
       "      <td>1.798463e-01</td>\n",
       "      <td>-1.984653e-02</td>\n",
       "      <td>-5.433583e-02</td>\n",
       "      <td>-2.741871e-01</td>\n",
       "      <td>4.010308e-02</td>\n",
       "      <td>2.235804e-02</td>\n",
       "      <td>-5.142873e-02</td>\n",
       "      <td>...</td>\n",
       "      <td>-2.945017e-02</td>\n",
       "      <td>6.781943e-03</td>\n",
       "      <td>-1.119293e-02</td>\n",
       "      <td>4.097606e-02</td>\n",
       "      <td>1.659350e-02</td>\n",
       "      <td>-5.213911e-02</td>\n",
       "      <td>1.342146e-03</td>\n",
       "      <td>1.124383e-02</td>\n",
       "      <td>22.000000</td>\n",
       "      <td>0.000000</td>\n",
       "    </tr>\n",
       "    <tr>\n",
       "      <th>75%</th>\n",
       "      <td>139320.500000</td>\n",
       "      <td>1.315642e+00</td>\n",
       "      <td>8.037239e-01</td>\n",
       "      <td>1.027196e+00</td>\n",
       "      <td>7.433413e-01</td>\n",
       "      <td>6.119264e-01</td>\n",
       "      <td>3.985649e-01</td>\n",
       "      <td>5.704361e-01</td>\n",
       "      <td>3.273459e-01</td>\n",
       "      <td>5.971390e-01</td>\n",
       "      <td>...</td>\n",
       "      <td>1.863772e-01</td>\n",
       "      <td>5.285536e-01</td>\n",
       "      <td>1.476421e-01</td>\n",
       "      <td>4.395266e-01</td>\n",
       "      <td>3.507156e-01</td>\n",
       "      <td>2.409522e-01</td>\n",
       "      <td>9.104512e-02</td>\n",
       "      <td>7.827995e-02</td>\n",
       "      <td>77.165000</td>\n",
       "      <td>0.000000</td>\n",
       "    </tr>\n",
       "    <tr>\n",
       "      <th>max</th>\n",
       "      <td>172792.000000</td>\n",
       "      <td>2.454930e+00</td>\n",
       "      <td>2.205773e+01</td>\n",
       "      <td>9.382558e+00</td>\n",
       "      <td>1.687534e+01</td>\n",
       "      <td>3.480167e+01</td>\n",
       "      <td>7.330163e+01</td>\n",
       "      <td>1.205895e+02</td>\n",
       "      <td>2.000721e+01</td>\n",
       "      <td>1.559499e+01</td>\n",
       "      <td>...</td>\n",
       "      <td>2.720284e+01</td>\n",
       "      <td>1.050309e+01</td>\n",
       "      <td>2.252841e+01</td>\n",
       "      <td>4.584549e+00</td>\n",
       "      <td>7.519589e+00</td>\n",
       "      <td>3.517346e+00</td>\n",
       "      <td>3.161220e+01</td>\n",
       "      <td>3.384781e+01</td>\n",
       "      <td>25691.160000</td>\n",
       "      <td>1.000000</td>\n",
       "    </tr>\n",
       "  </tbody>\n",
       "</table>\n",
       "<p>8 rows × 31 columns</p>\n",
       "</div>"
      ],
      "text/plain": [
       "                Time            V1            V2            V3            V4  \\\n",
       "count  284807.000000  2.848070e+05  2.848070e+05  2.848070e+05  2.848070e+05   \n",
       "mean    94813.859575  1.175161e-15  3.369007e-16 -1.379537e-15  2.094852e-15   \n",
       "std     47488.145955  1.958696e+00  1.651309e+00  1.516255e+00  1.415869e+00   \n",
       "min         0.000000 -5.640751e+01 -7.271573e+01 -4.832559e+01 -5.683171e+00   \n",
       "25%     54201.500000 -9.203734e-01 -5.985499e-01 -8.903648e-01 -8.486401e-01   \n",
       "50%     84692.000000  1.810880e-02  6.548556e-02  1.798463e-01 -1.984653e-02   \n",
       "75%    139320.500000  1.315642e+00  8.037239e-01  1.027196e+00  7.433413e-01   \n",
       "max    172792.000000  2.454930e+00  2.205773e+01  9.382558e+00  1.687534e+01   \n",
       "\n",
       "                 V5            V6            V7            V8            V9  \\\n",
       "count  2.848070e+05  2.848070e+05  2.848070e+05  2.848070e+05  2.848070e+05   \n",
       "mean   1.021879e-15  1.500885e-15 -5.620335e-16  1.149614e-16 -2.426963e-15   \n",
       "std    1.380247e+00  1.332271e+00  1.237094e+00  1.194353e+00  1.098632e+00   \n",
       "min   -1.137433e+02 -2.616051e+01 -4.355724e+01 -7.321672e+01 -1.343407e+01   \n",
       "25%   -6.915971e-01 -7.682956e-01 -5.540759e-01 -2.086297e-01 -6.430976e-01   \n",
       "50%   -5.433583e-02 -2.741871e-01  4.010308e-02  2.235804e-02 -5.142873e-02   \n",
       "75%    6.119264e-01  3.985649e-01  5.704361e-01  3.273459e-01  5.971390e-01   \n",
       "max    3.480167e+01  7.330163e+01  1.205895e+02  2.000721e+01  1.559499e+01   \n",
       "\n",
       "       ...           V21           V22           V23           V24  \\\n",
       "count  ...  2.848070e+05  2.848070e+05  2.848070e+05  2.848070e+05   \n",
       "mean   ...  1.596686e-16 -3.576577e-16  2.650499e-16  4.472317e-15   \n",
       "std    ...  7.345240e-01  7.257016e-01  6.244603e-01  6.056471e-01   \n",
       "min    ... -3.483038e+01 -1.093314e+01 -4.480774e+01 -2.836627e+00   \n",
       "25%    ... -2.283949e-01 -5.423504e-01 -1.618463e-01 -3.545861e-01   \n",
       "50%    ... -2.945017e-02  6.781943e-03 -1.119293e-02  4.097606e-02   \n",
       "75%    ...  1.863772e-01  5.285536e-01  1.476421e-01  4.395266e-01   \n",
       "max    ...  2.720284e+01  1.050309e+01  2.252841e+01  4.584549e+00   \n",
       "\n",
       "                V25           V26           V27           V28         Amount  \\\n",
       "count  2.848070e+05  2.848070e+05  2.848070e+05  2.848070e+05  284807.000000   \n",
       "mean   5.109395e-16  1.686100e-15 -3.662399e-16 -1.225457e-16      88.349619   \n",
       "std    5.212781e-01  4.822270e-01  4.036325e-01  3.300833e-01     250.120109   \n",
       "min   -1.029540e+01 -2.604551e+00 -2.256568e+01 -1.543008e+01       0.000000   \n",
       "25%   -3.171451e-01 -3.269839e-01 -7.083953e-02 -5.295979e-02       5.600000   \n",
       "50%    1.659350e-02 -5.213911e-02  1.342146e-03  1.124383e-02      22.000000   \n",
       "75%    3.507156e-01  2.409522e-01  9.104512e-02  7.827995e-02      77.165000   \n",
       "max    7.519589e+00  3.517346e+00  3.161220e+01  3.384781e+01   25691.160000   \n",
       "\n",
       "               Class  \n",
       "count  284807.000000  \n",
       "mean        0.001727  \n",
       "std         0.041527  \n",
       "min         0.000000  \n",
       "25%         0.000000  \n",
       "50%         0.000000  \n",
       "75%         0.000000  \n",
       "max         1.000000  \n",
       "\n",
       "[8 rows x 31 columns]"
      ]
     },
     "execution_count": 5,
     "metadata": {},
     "output_type": "execute_result"
    }
   ],
   "source": [
    "data.describe()"
   ]
  },
  {
   "cell_type": "markdown",
   "metadata": {},
   "source": [
    "##### Dataset Shape:\n",
    "\n",
    "* 284,807 rows × 31 columns → large dataset.\n",
    "\n",
    "##### Data Types:\n",
    "\n",
    "* All features are numeric (float64) except Class which is integer (0/1 labels).\n",
    "\n",
    "* No categorical variables, which simplifies preprocessing.\n",
    "\n",
    "##### Missing Values:\n",
    "\n",
    "* None → dataset is already clean.\n",
    "\n",
    "##### Feature Statistics:\n",
    "\n",
    "* Time: ranges from 0 to ~172,792 seconds (~2 days) → needs scaling if used.\n",
    "\n",
    "* Amount: ranges from 0 to 25,691 → highly skewed, normalization or log transform may help.\n",
    "\n",
    "* Features V1–V28: PCA-transformed, already centered around 0 with similar scales (std ~1).\n",
    "\n",
    "* Class: Fraud cases = 1, Normal cases = 0 → very imbalanced (fraud ≈ 0.17%)."
   ]
  },
  {
   "cell_type": "markdown",
   "metadata": {},
   "source": [
    "### 2.Class Distribution"
   ]
  },
  {
   "cell_type": "code",
   "execution_count": 7,
   "metadata": {
    "execution": {
     "iopub.execute_input": "2025-09-10T16:46:34.041914Z",
     "iopub.status.busy": "2025-09-10T16:46:34.041602Z",
     "iopub.status.idle": "2025-09-10T16:46:34.193189Z",
     "shell.execute_reply": "2025-09-10T16:46:34.192187Z",
     "shell.execute_reply.started": "2025-09-10T16:46:34.041892Z"
    },
    "trusted": true
   },
   "outputs": [
    {
     "name": "stdout",
     "output_type": "stream",
     "text": [
      "\n",
      "Class distribution:\n",
      " Class\n",
      "0    284315\n",
      "1       492\n",
      "Name: count, dtype: int64\n"
     ]
    },
    {
     "data": {
      "image/png": "[encoded data removed]",
      "text/plain": [
       "<Figure size 500x300 with 1 Axes>"
      ]
     },
     "metadata": {},
     "output_type": "display_data"
    }
   ],
   "source": [
    "fraud_count = data['Class'].value_counts()\n",
    "print(\"\\nClass distribution:\\n\", fraud_count)\n",
    "\n",
    "plt.figure(figsize=(5,3))\n",
    "sns.countplot(x='Class', data=data)\n",
    "plt.title(\"Fraud (1) vs Non-Fraud (0)\")\n",
    "plt.show()\n"
   ]
  },
  {
   "cell_type": "code",
   "execution_count": 8,
   "metadata": {
    "execution": {
     "iopub.execute_input": "2025-09-10T16:46:42.457733Z",
     "iopub.status.busy": "2025-09-10T16:46:42.457357Z",
     "iopub.status.idle": "2025-09-10T16:46:42.464034Z",
     "shell.execute_reply": "2025-09-10T16:46:42.462831Z",
     "shell.execute_reply.started": "2025-09-10T16:46:42.457708Z"
    },
    "trusted": true
   },
   "outputs": [
    {
     "name": "stdout",
     "output_type": "stream",
     "text": [
      "Fraud ratio: 0.001730 (~0.1730%)\n"
     ]
    }
   ],
   "source": [
    "fraud_ratio = fraud_count[1] / fraud_count[0]\n",
    "print(f\"Fraud ratio: {fraud_ratio:.6f} (~{fraud_ratio*100:.4f}%)\")"
   ]
  },
  {
   "cell_type": "markdown",
   "metadata": {},
   "source": [
    "### 3.Amount Analysis"
   ]
  },
  {
   "cell_type": "code",
   "execution_count": 13,
   "metadata": {
    "execution": {
     "iopub.execute_input": "2025-09-10T16:53:03.635703Z",
     "iopub.status.busy": "2025-09-10T16:53:03.635380Z",
     "iopub.status.idle": "2025-09-10T16:53:04.399666Z",
     "shell.execute_reply": "2025-09-10T16:53:04.398465Z",
     "shell.execute_reply.started": "2025-09-10T16:53:03.635681Z"
    },
    "trusted": true
   },
   "outputs": [
    {
     "name": "stderr",
     "output_type": "stream",
     "text": [
      "/usr/local/lib/python3.11/dist-packages/seaborn/_oldcore.py:1119: FutureWarning:\n",
      "\n",
      "use_inf_as_na option is deprecated and will be removed in a future version. Convert inf values to NaN before operating instead.\n",
      "\n"
     ]
    },
    {
     "data": {
      "image/png": "[encoded data removed]",
      "text/plain": [
       "<Figure size 500x300 with 1 Axes>"
      ]
     },
     "metadata": {},
     "output_type": "display_data"
    }
   ],
   "source": [
    "plt.figure(figsize=(5,3))\n",
    "sns.histplot(data['Amount'], bins=100, log_scale=(False, True))\n",
    "plt.title(\"Transaction Amount Distribution\")\n",
    "plt.xlabel(\"Amount\")\n",
    "plt.ylabel(\"Frequency (log scale)\")\n",
    "plt.show()"
   ]
  },
  {
   "cell_type": "markdown",
   "metadata": {},
   "source": [
    "* The graph shows a highly skewed distribution of transaction amounts, with the majority of transactions being of relatively low amounts.There is a long tail of transactions with higher amounts, but these occur much less frequently compared to the low-value transactions."
   ]
  },
  {
   "cell_type": "code",
   "execution_count": 12,
   "metadata": {
    "execution": {
     "iopub.execute_input": "2025-09-10T16:52:51.876621Z",
     "iopub.status.busy": "2025-09-10T16:52:51.876248Z",
     "iopub.status.idle": "2025-09-10T16:52:52.113469Z",
     "shell.execute_reply": "2025-09-10T16:52:52.112523Z",
     "shell.execute_reply.started": "2025-09-10T16:52:51.876597Z"
    },
    "trusted": true
   },
   "outputs": [
    {
     "data": {
      "image/png": "[encoded data removed]",
      "text/plain": [
       "<Figure size 800x400 with 1 Axes>"
      ]
     },
     "metadata": {},
     "output_type": "display_data"
    }
   ],
   "source": [
    "plt.figure(figsize=(8,4))\n",
    "sns.boxplot(x='Class', y='Amount', data=data)\n",
    "plt.ylim(0, 500)  # zoom in, most amounts are <500\n",
    "plt.title(\"Amount Distribution by Class\")\n",
    "plt.show()"
   ]
  },
  {
   "cell_type": "markdown",
   "metadata": {},
   "source": [
    "* The dataset is heavily dominated by Class 0, representing the vast majority of transactions with a wider frequency and range of amounts. In contrast, Class 1 transactions are rare and behave like outliers, often involving fewer but relatively higher-value amounts."
   ]
  },
  {
   "cell_type": "markdown",
   "metadata": {},
   "source": [
    "### 4.Time Feature Analysis"
   ]
  },
  {
   "cell_type": "code",
   "execution_count": 11,
   "metadata": {
    "execution": {
     "iopub.execute_input": "2025-09-10T09:44:17.922412Z",
     "iopub.status.busy": "2025-09-10T09:44:17.921993Z",
     "iopub.status.idle": "2025-09-10T09:44:18.430191Z",
     "shell.execute_reply": "2025-09-10T09:44:18.428926Z",
     "shell.execute_reply.started": "2025-09-10T09:44:17.922383Z"
    },
    "trusted": true
   },
   "outputs": [
    {
     "name": "stderr",
     "output_type": "stream",
     "text": [
      "/usr/local/lib/python3.11/dist-packages/seaborn/_oldcore.py:1119: FutureWarning: use_inf_as_na option is deprecated and will be removed in a future version. Convert inf values to NaN before operating instead.\n",
      "  with pd.option_context('mode.use_inf_as_na', True):\n"
     ]
    },
    {
     "data": {
      "image/png": "[encoded data removed]",
      "text/plain": [
       "<Figure size 800x400 with 1 Axes>"
      ]
     },
     "metadata": {},
     "output_type": "display_data"
    }
   ],
   "source": [
    "plt.figure(figsize=(8,4))\n",
    "sns.histplot(data['Time'], bins=100, kde=False)\n",
    "plt.title(\"Transaction Time Distribution\")\n",
    "plt.xlabel(\"Seconds from first transaction\")\n",
    "plt.show()"
   ]
  },
  {
   "cell_type": "markdown",
   "metadata": {},
   "source": [
    "The distribution is spiky with periodic patterns, a long tail, and a few clear outliers.\n"
   ]
  },
  {
   "cell_type": "code",
   "execution_count": 16,
   "metadata": {
    "execution": {
     "iopub.execute_input": "2025-09-10T17:07:55.028056Z",
     "iopub.status.busy": "2025-09-10T17:07:55.027698Z",
     "iopub.status.idle": "2025-09-10T17:07:55.766272Z",
     "shell.execute_reply": "2025-09-10T17:07:55.764853Z",
     "shell.execute_reply.started": "2025-09-10T17:07:55.028032Z"
    },
    "trusted": true
   },
   "outputs": [
    {
     "name": "stderr",
     "output_type": "stream",
     "text": [
      "/usr/local/lib/python3.11/dist-packages/seaborn/_oldcore.py:1119: FutureWarning:\n",
      "\n",
      "use_inf_as_na option is deprecated and will be removed in a future version. Convert inf values to NaN before operating instead.\n",
      "\n",
      "/usr/local/lib/python3.11/dist-packages/seaborn/_oldcore.py:1119: FutureWarning:\n",
      "\n",
      "use_inf_as_na option is deprecated and will be removed in a future version. Convert inf values to NaN before operating instead.\n",
      "\n"
     ]
    },
    {
     "data": {
      "image/png": "[encoded data removed]",
      "text/plain": [
       "<Figure size 800x400 with 1 Axes>"
      ]
     },
     "metadata": {},
     "output_type": "display_data"
    }
   ],
   "source": [
    "plt.figure(figsize=(8,4))\n",
    "sns.histplot(data[data['Class']==0]['Time'], bins=100, color='pink', label='Non-Fraud', alpha=0.6)\n",
    "sns.histplot(data[data['Class']==1]['Time'], bins=100, color='black', label='Fraud', alpha=0.6)\n",
    "plt.title(\"Fraud vs Non-Fraud over Time\")\n",
    "plt.legend()\n",
    "plt.show()"
   ]
  },
  {
   "cell_type": "markdown",
   "metadata": {},
   "source": [
    "### 5. Correlation Heatmap"
   ]
  },
  {
   "cell_type": "code",
   "execution_count": 17,
   "metadata": {
    "execution": {
     "iopub.execute_input": "2025-09-10T17:09:10.168741Z",
     "iopub.status.busy": "2025-09-10T17:09:10.168412Z",
     "iopub.status.idle": "2025-09-10T17:09:11.437268Z",
     "shell.execute_reply": "2025-09-10T17:09:11.436228Z",
     "shell.execute_reply.started": "2025-09-10T17:09:10.168706Z"
    },
    "trusted": true
   },
   "outputs": [
    {
     "name": "stderr",
     "output_type": "stream",
     "text": [
      "/usr/local/lib/python3.11/dist-packages/matplotlib/colors.py:721: RuntimeWarning:\n",
      "\n",
      "invalid value encountered in less\n",
      "\n"
     ]
    },
    {
     "data": {
      "image/png": "[encoded data removed]",
      "text/plain": [
       "<Figure size 1000x500 with 2 Axes>"
      ]
     },
     "metadata": {},
     "output_type": "display_data"
    }
   ],
   "source": [
    "plt.figure(figsize=(10,5))\n",
    "corr = data.corr()\n",
    "sns.heatmap(corr, cmap=\"coolwarm_r\", center=0)\n",
    "plt.title(\"Feature Correlation Heatmap\")\n",
    "plt.show()"
   ]
  },
  {
   "cell_type": "markdown",
   "metadata": {},
   "source": [
    "* The correlation heatmap shows that most features are weakly correlated with each other and with the target class. No strong linear relationships stand out, meaning multicollinearity is not a major issue in this dataset.\n"
   ]
  },
  {
   "cell_type": "code",
   "execution_count": 15,
   "metadata": {
    "execution": {
     "iopub.execute_input": "2025-09-10T09:44:35.214984Z",
     "iopub.status.busy": "2025-09-10T09:44:35.214487Z",
     "iopub.status.idle": "2025-09-10T09:44:35.223265Z",
     "shell.execute_reply": "2025-09-10T09:44:35.221958Z",
     "shell.execute_reply.started": "2025-09-10T09:44:35.214954Z"
    },
    "trusted": true
   },
   "outputs": [
    {
     "name": "stdout",
     "output_type": "stream",
     "text": [
      "\n",
      "Correlation with Class:\n",
      " Class     1.000000\n",
      "V11       0.154876\n",
      "V4        0.133447\n",
      "V2        0.091289\n",
      "V21       0.040413\n",
      "V19       0.034783\n",
      "V20       0.020090\n",
      "V8        0.019875\n",
      "V27       0.017580\n",
      "V28       0.009536\n",
      "Amount    0.005632\n",
      "V26       0.004455\n",
      "V25       0.003308\n",
      "V22       0.000805\n",
      "V23      -0.002685\n",
      "V15      -0.004223\n",
      "V13      -0.004570\n",
      "V24      -0.007221\n",
      "Time     -0.012323\n",
      "V6       -0.043643\n",
      "V5       -0.094974\n",
      "V9       -0.097733\n",
      "V1       -0.101347\n",
      "V18      -0.111485\n",
      "V7       -0.187257\n",
      "V3       -0.192961\n",
      "V16      -0.196539\n",
      "V10      -0.216883\n",
      "V12      -0.260593\n",
      "V14      -0.302544\n",
      "V17      -0.326481\n",
      "Name: Class, dtype: float64\n"
     ]
    }
   ],
   "source": [
    "corr_class = corr['Class'].sort_values(ascending=False)\n",
    "print(\"\\nCorrelation with Class:\\n\", corr_class)"
   ]
  },
  {
   "cell_type": "markdown",
   "metadata": {},
   "source": [
    "* Correlation with the target shows that no single feature has a very strong relationship with Class.  \n",
    "* The highest positive correlations are with V11, V4, and V2, while features like V17, V14, and V12 show the strongest negative correlations. This suggests that multiple features together will be important for classification, rather than any single variable being decisive.\n"
   ]
  },
  {
   "cell_type": "markdown",
   "metadata": {},
   "source": [
    "##### check missing value "
   ]
  },
  {
   "cell_type": "code",
   "execution_count": 23,
   "metadata": {
    "execution": {
     "iopub.execute_input": "2025-09-10T17:23:18.896273Z",
     "iopub.status.busy": "2025-09-10T17:23:18.895919Z",
     "iopub.status.idle": "2025-09-10T17:23:19.005324Z",
     "shell.execute_reply": "2025-09-10T17:23:19.003975Z",
     "shell.execute_reply.started": "2025-09-10T17:23:18.896251Z"
    },
    "trusted": true
   },
   "outputs": [
    {
     "name": "stdout",
     "output_type": "stream",
     "text": [
      "\n",
      "Missing Values :\n",
      " Time      0\n",
      "V16       0\n",
      "Amount    0\n",
      "V28       0\n",
      "V27       0\n",
      "V26       0\n",
      "V25       0\n",
      "V24       0\n",
      "V23       0\n",
      "V22       0\n",
      "V21       0\n",
      "V20       0\n",
      "V19       0\n",
      "V18       0\n",
      "V17       0\n",
      "V15       0\n",
      "V1        0\n",
      "V14       0\n",
      "V13       0\n",
      "V12       0\n",
      "V11       0\n",
      "V10       0\n",
      "V9        0\n",
      "V8        0\n",
      "V7        0\n",
      "V6        0\n",
      "V5        0\n",
      "V4        0\n",
      "V3        0\n",
      "V2        0\n",
      "Class     0\n",
      "dtype: int64\n"
     ]
    }
   ],
   "source": [
    "total = data.isnull().sum().sort_values(ascending = False)\n",
    "percent = (data.isnull().sum()/data.isnull().count()*100).sort_values(ascending = False)\n",
    "pd.concat([total, percent], axis=1, keys=['Total', 'Percent']).transpose()\n",
    "print(\"\\nMissing Values :\\n\",total)\n"
   ]
  },
  {
   "cell_type": "markdown",
   "metadata": {},
   "source": [
    "## 2. Preprocessing & Balancing"
   ]
  },
  {
   "cell_type": "markdown",
   "metadata": {},
   "source": [
    "#### 1.Split the data"
   ]
  },
  {
   "cell_type": "code",
   "execution_count": 22,
   "metadata": {
    "execution": {
     "iopub.execute_input": "2025-09-10T18:26:51.566237Z",
     "iopub.status.busy": "2025-09-10T18:26:51.565789Z",
     "iopub.status.idle": "2025-09-10T18:26:51.789537Z",
     "shell.execute_reply": "2025-09-10T18:26:51.788558Z",
     "shell.execute_reply.started": "2025-09-10T18:26:51.566200Z"
    },
    "trusted": true
   },
   "outputs": [],
   "source": [
    "# Separate features and target\n",
    "X = data.drop(['Class', 'Time'], axis=1)  # drop 'Time' since usually not useful\n",
    "y = data['Class']\n",
    "\n",
    "# Split into train and test\n",
    "X_train, X_test, y_train, y_test = train_test_split(X, y, test_size=0.3, random_state=42, stratify=y)\n"
   ]
  },
  {
   "cell_type": "markdown",
   "metadata": {},
   "source": [
    "#### 2.Balance the training set using SMOTE"
   ]
  },
  {
   "cell_type": "code",
   "execution_count": null,
   "metadata": {},
   "outputs": [],
   "source": [
    "from imblearn.over_sampling import SMOTE\n",
    "#from imblearn.over_sampling import BorderlineSMOTE\n",
    "\n"
   ]
  },
  {
   "cell_type": "code",
   "execution_count": 23,
   "metadata": {
    "execution": {
     "iopub.execute_input": "2025-09-10T18:27:54.563502Z",
     "iopub.status.busy": "2025-09-10T18:27:54.563132Z",
     "iopub.status.idle": "2025-09-10T18:27:54.748614Z",
     "shell.execute_reply": "2025-09-10T18:27:54.746823Z",
     "shell.execute_reply.started": "2025-09-10T18:27:54.563474Z"
    },
    "trusted": true
   },
   "outputs": [
    {
     "name": "stdout",
     "output_type": "stream",
     "text": [
      "Class\n",
      "0    199020\n",
      "1    199020\n",
      "Name: count, dtype: int64\n"
     ]
    }
   ],
   "source": [
    "smote = SMOTE(random_state=42)\n",
    "X_train_bal, y_train_bal = smote.fit_resample(X_train, y_train)\n",
    "\n",
    "# Check class distribution after balancing\n",
    "print(pd.Series(y_train_bal).value_counts())\n"
   ]
  },
  {
   "cell_type": "markdown",
   "metadata": {},
   "source": [
    "#### 3.Scale features"
   ]
  },
  {
   "cell_type": "code",
   "execution_count": 24,
   "metadata": {
    "trusted": true
   },
   "outputs": [],
   "source": [
    "scaler = StandardScaler()\n",
    "X_train_scaled = scaler.fit_transform(X_train_bal)\n",
    "X_test_scaled = scaler.transform(X_test)"
   ]
  },
  {
   "cell_type": "markdown",
   "metadata": {},
   "source": [
    "## 3. Modeling"
   ]
  },
  {
   "cell_type": "markdown",
   "metadata": {},
   "source": [
    "After preprocessing the data, handling class imbalance with SMOTE, and scaling the features, the next step is to train machine learning models to detect fraudulent transactions. Fraud detection is a highly imbalanced classification problem, where the minority class (fraud) is rare but critical to detect.\n",
    "\n",
    "For this task, we selected three models:\n",
    "\n",
    "* Logistic Regression – A simple linear model used as a baseline. It is fast and interpretable, allowing us to understand the basic separability of the data.\n",
    "* Random Forest – An ensemble of decision trees that can capture non-linear relationships and handle high-dimensional data effectively. It is robust to overfitting and provides feature importance.\n",
    "* XGBoost – A gradient boosting algorithm optimized for tabular data. It often delivers state-of-the-art performance in imbalanced classification tasks, making it highly suitable for fraud detection.\n",
    "\n",
    "We evaluate all three models using precision, recall, F1-score for the fraud class, and ROC-AUC, focusing especially on recall to ensure the majority of fraudulent transactions are detected. This approach allows us to compare models based on both overall discrimination and their effectiveness in identifying fraud."
   ]
  },
  {
   "cell_type": "code",
   "execution_count": 18,
   "metadata": {},
   "outputs": [],
   "source": [
    "from sklearn.linear_model import LogisticRegression\n",
    "from sklearn.ensemble import RandomForestClassifier\n",
    "from xgboost import XGBClassifier\n",
    "from sklearn.metrics import classification_report, confusion_matrix, roc_auc_score"
   ]
  },
  {
   "cell_type": "markdown",
   "metadata": {},
   "source": [
    "#### Logistic Regression"
   ]
  },
  {
   "cell_type": "code",
   "execution_count": 25,
   "metadata": {},
   "outputs": [
    {
     "name": "stdout",
     "output_type": "stream",
     "text": [
      "=== Logistic Regression ===\n",
      "              precision    recall  f1-score   support\n",
      "\n",
      "           0       1.00      0.98      0.99     85295\n",
      "           1       0.08      0.86      0.15       148\n",
      "\n",
      "    accuracy                           0.98     85443\n",
      "   macro avg       0.54      0.92      0.57     85443\n",
      "weighted avg       1.00      0.98      0.99     85443\n",
      "\n",
      "ROC-AUC: 0.9584894555144863\n",
      "[[83825  1470]\n",
      " [   21   127]]\n"
     ]
    }
   ],
   "source": [
    "lr = LogisticRegression(max_iter=1000, random_state=42)\n",
    "lr.fit(X_train_scaled, y_train_bal)\n",
    "y_pred_lr = lr.predict(X_test_scaled)\n",
    "print(\"=== Logistic Regression ===\")\n",
    "print(classification_report(y_test, y_pred_lr))\n",
    "print(\"ROC-AUC:\", roc_auc_score(y_test, lr.predict_proba(X_test_scaled)[:,1]))\n",
    "print(confusion_matrix(y_test, y_pred_lr))"
   ]
  },
  {
   "cell_type": "markdown",
   "metadata": {},
   "source": [
    "* Logistic Regression detects most frauds (high recall) but generates many false positives, making it impractical for real-world deployment.\n",
    "* The model is strong at separating fraud vs normal transactions overall (high ROC-AUC), but poor precision means too many normal transactions are incorrectly flagged."
   ]
  },
  {
   "cell_type": "markdown",
   "metadata": {},
   "source": [
    "#### Random Forest"
   ]
  },
  {
   "cell_type": "code",
   "execution_count": 27,
   "metadata": {},
   "outputs": [
    {
     "name": "stdout",
     "output_type": "stream",
     "text": [
      "\n",
      "=== Random Forest ===\n",
      "              precision    recall  f1-score   support\n",
      "\n",
      "           0       1.00      1.00      1.00     85295\n",
      "           1       0.87      0.80      0.83       148\n",
      "\n",
      "    accuracy                           1.00     85443\n",
      "   macro avg       0.94      0.90      0.92     85443\n",
      "weighted avg       1.00      1.00      1.00     85443\n",
      "\n",
      "ROC-AUC: 0.9621259206917803\n",
      "[[85278    17]\n",
      " [   30   118]]\n"
     ]
    }
   ],
   "source": [
    "rf = RandomForestClassifier(n_estimators=100, random_state=42)\n",
    "rf.fit(X_train_scaled, y_train_bal)\n",
    "y_pred_rf = rf.predict(X_test_scaled)\n",
    "print(\"\\n=== Random Forest ===\")\n",
    "print(classification_report(y_test, y_pred_rf))\n",
    "print(\"ROC-AUC:\", roc_auc_score(y_test, rf.predict_proba(X_test_scaled)[:,1]))\n",
    "print(confusion_matrix(y_test, y_pred_rf))\n",
    "\n"
   ]
  },
  {
   "cell_type": "markdown",
   "metadata": {},
   "source": [
    "* Random Forest gives high precision and solid recall, meaning it detects most frauds while keeping false positives very low.\n",
    "* Compared to XGBoost, it has slightly lower recall (80% vs 82%) but higher precision (87% vs 80%).\n",
    "* Overall, it’s very reliable for real-world fraud detection."
   ]
  },
  {
   "cell_type": "markdown",
   "metadata": {},
   "source": [
    "#### XGBoost"
   ]
  },
  {
   "cell_type": "code",
   "execution_count": 26,
   "metadata": {},
   "outputs": [
    {
     "name": "stderr",
     "output_type": "stream",
     "text": [
      "c:\\Users\\sarah\\AppData\\Local\\Programs\\Python\\Python312\\Lib\\site-packages\\xgboost\\training.py:183: UserWarning:\n",
      "\n",
      "[21:05:14] WARNING: C:\\actions-runner\\_work\\xgboost\\xgboost\\src\\learner.cc:738: \n",
      "Parameters: { \"use_label_encoder\" } are not used.\n",
      "\n",
      "\n"
     ]
    },
    {
     "name": "stdout",
     "output_type": "stream",
     "text": [
      "\n",
      "=== XGBoost ===\n",
      "              precision    recall  f1-score   support\n",
      "\n",
      "           0       1.00      1.00      1.00     85295\n",
      "           1       0.80      0.82      0.81       148\n",
      "\n",
      "    accuracy                           1.00     85443\n",
      "   macro avg       0.90      0.91      0.90     85443\n",
      "weighted avg       1.00      1.00      1.00     85443\n",
      "\n",
      "ROC-AUC: 0.9739288764114369\n",
      "[[85265    30]\n",
      " [   27   121]]\n"
     ]
    }
   ],
   "source": [
    "xgb = XGBClassifier(use_label_encoder=False, eval_metric='logloss', random_state=42)\n",
    "xgb.fit(X_train_scaled, y_train_bal)\n",
    "y_pred_xgb = xgb.predict(X_test_scaled)\n",
    "print(\"\\n=== XGBoost ===\")\n",
    "print(classification_report(y_test, y_pred_xgb))\n",
    "print(\"ROC-AUC:\", roc_auc_score(y_test, xgb.predict_proba(X_test_scaled)[:,1]))\n",
    "print(confusion_matrix(y_test, y_pred_xgb))"
   ]
  },
  {
   "cell_type": "markdown",
   "metadata": {},
   "source": [
    "* XGBoost performs very well on this dataset, capturing most fraud cases with high accuracy while maintaining a low false positive rate. Given the imbalanced nature of the data, the recall of 82% indicates strong detection capability for the minority class."
   ]
  },
  {
   "cell_type": "markdown",
   "metadata": {},
   "source": [
    "## 4. Evaluation & Results"
   ]
  },
  {
   "cell_type": "code",
   "execution_count": 29,
   "metadata": {
    "trusted": true
   },
   "outputs": [],
   "source": [
    "from sklearn.metrics import precision_score, recall_score, f1_score, roc_auc_score"
   ]
  },
  {
   "cell_type": "code",
   "execution_count": 30,
   "metadata": {},
   "outputs": [
    {
     "name": "stdout",
     "output_type": "stream",
     "text": [
      "Precision: [0.07952410770194114, 0.8740740740740741, 0.8013245033112583]\n",
      "Recall: [0.8581081081081081, 0.7972972972972973, 0.8175675675675675]\n",
      "F1: [0.14555873925501434, 0.833922261484099, 0.8093645484949833]\n",
      "ROC-AUC: [0.9584894555144863, 0.9621259206917803, 0.9739288764114369]\n"
     ]
    }
   ],
   "source": [
    "models = {\n",
    "    'Logistic Regression': y_pred_lr,\n",
    "    'Random Forest': y_pred_rf,\n",
    "    'XGBoost': y_pred_xgb\n",
    "}\n",
    "\n",
    "precision, recall, f1, roc_auc = [], [], [], []\n",
    "\n",
    "for name, y_pred in models.items():\n",
    "    # Precision, Recall, F1 for fraud class (class 1)\n",
    "    precision.append(precision_score(y_test, y_pred, pos_label=1))\n",
    "    recall.append(recall_score(y_test, y_pred, pos_label=1))\n",
    "    f1.append(f1_score(y_test, y_pred, pos_label=1))\n",
    "    \n",
    "    # ROC-AUC using predicted probabilities\n",
    "    if name == 'Logistic Regression':\n",
    "        y_proba = lr.predict_proba(X_test_scaled)[:,1]\n",
    "    elif name == 'Random Forest':\n",
    "        y_proba = rf.predict_proba(X_test_scaled)[:,1]\n",
    "    else:  # XGBoost\n",
    "        y_proba = xgb.predict_proba(X_test_scaled)[:,1]\n",
    "    \n",
    "    roc_auc.append(roc_auc_score(y_test, y_proba))\n",
    "\n",
    "# Now you can plot the metrics automatically\n",
    "print(\"Precision:\", precision)\n",
    "print(\"Recall:\", recall)\n",
    "print(\"F1:\", f1)\n",
    "print(\"ROC-AUC:\", roc_auc)"
   ]
  },
  {
   "cell_type": "code",
   "execution_count": 35,
   "metadata": {},
   "outputs": [
    {
     "data": {
      "image/png": "[encoded data removed]",
      "text/plain": [
       "<Figure size 1000x600 with 1 Axes>"
      ]
     },
     "metadata": {},
     "output_type": "display_data"
    }
   ],
   "source": [
    "# ===== 1. Precision, Recall, F1 comparison =====\n",
    "\n",
    "\n",
    "x = np.arange(len(models))\n",
    "width = 0.25\n",
    "\n",
    "plt.figure(figsize=(10,6))\n",
    "plt.bar(x - width, precision, width, label='Precision', color='skyblue')\n",
    "plt.bar(x, recall, width, label='Recall', color='lightgreen')\n",
    "plt.bar(x + width, f1, width, label='F1-score', color='salmon')\n",
    "plt.xticks(x, models)\n",
    "plt.ylim(0,1)\n",
    "plt.title('Precision, Recall, F1-score Comparison (Fraud Class)')\n",
    "plt.ylabel('Score')\n",
    "plt.legend()\n",
    "plt.show()\n"
   ]
  },
  {
   "cell_type": "code",
   "execution_count": 32,
   "metadata": {},
   "outputs": [
    {
     "data": {
      "image/png": "[encoded data removed]",
      "text/plain": [
       "<Figure size 1800x500 with 3 Axes>"
      ]
     },
     "metadata": {},
     "output_type": "display_data"
    }
   ],
   "source": [
    "# ===== 3. Optional: Confusion Matrices Side by Side =====\n",
    "from sklearn.metrics import ConfusionMatrixDisplay\n",
    "\n",
    "# Suppose y_pred_lr, y_pred_rf, y_pred_xgb exist\n",
    "fig, axes = plt.subplots(1,3, figsize=(18,5))\n",
    "for ax, y_pred, name in zip(axes, [y_pred_lr, y_pred_rf, y_pred_xgb], models):\n",
    "    cm = confusion_matrix(y_test, y_pred)\n",
    "    disp = ConfusionMatrixDisplay(cm, display_labels=[0,1])\n",
    "    disp.plot(ax=ax, cmap='Blues', colorbar=False)\n",
    "    ax.set_title(name)\n",
    "plt.show()"
   ]
  },
  {
   "cell_type": "markdown",
   "metadata": {},
   "source": [
    "* Logistic Regression\n",
    "High recall (0.86) but extremely low precision (0.08) for fraud detection.\n",
    "Flags too many normal transactions as fraud → impractical for deployment despite decent ROC-AUC.\n",
    "* Random Forest\n",
    "Strong balance: high precision (0.87) and solid recall (0.80) for fraud class.\n",
    "Very few false positives, slightly fewer frauds detected compared to XGBoost.\n",
    "Reliable choice for practical fraud detection.\n",
    "\n",
    "* XGBoost\n",
    "Slightly higher recall (0.82) than Random Forest, slightly lower precision (0.80).\n",
    "Best overall ROC-AUC (0.974), indicating excellent discrimination between fraud and normal transactions.\n",
    "Slightly more false positives than Random Forest, but catches more frauds.\n",
    "\n",
    "#### Overall:\n",
    "XGBoost is the best-performing model for this dataset if the priority is detecting as many frauds as possible.\n",
    "Random Forest is nearly as good and could be preferred if minimizing false positives is more important.\n",
    "Logistic Regression is unsuitable for real-world deployment due to extremely low precision."
   ]
  },
  {
   "cell_type": "code",
   "execution_count": null,
   "metadata": {},
   "outputs": [],
   "source": []
  }
 ],
 "metadata": {
  "kaggle": {
   "accelerator": "none",
   "dataSources": [
    {
     "datasetId": 310,
     "isSourceIdPinned": false,
     "sourceId": 23498,
     "sourceType": "datasetVersion"
    }
   ],
   "dockerImageVersionId": 31089,
   "isGpuEnabled": false,
   "isInternetEnabled": false,
   "language": "python",
   "sourceType": "notebook"
  },
  "kernelspec": {
   "display_name": "Python 3",
   "language": "python",
   "name": "python3"
  },
  "language_info": {
   "codemirror_mode": {
    "name": "ipython",
    "version": 3
   },
   "file_extension": ".py",
   "mimetype": "text/x-python",
   "name": "python",
   "nbconvert_exporter": "python",
   "pygments_lexer": "ipython3",
   "version": "3.12.3"
  }
 },
 "nbformat": 4,
 "nbformat_minor": 4
}
