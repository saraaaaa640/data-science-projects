{
 "cells": [
  {
   "cell_type": "code",
   "execution_count": 1,
   "id": "80acf61b",
   "metadata": {
    "_cell_guid": "b1076dfc-b9ad-4769-8c92-a6c4dae69d19",
    "_uuid": "8f2839f25d086af736a60e9eeb907d3b93b6e0e5",
    "execution": {
     "iopub.execute_input": "2025-09-04T20:15:56.378843Z",
     "iopub.status.busy": "2025-09-04T20:15:56.378497Z",
     "iopub.status.idle": "2025-09-04T20:15:58.468290Z",
     "shell.execute_reply": "2025-09-04T20:15:58.467267Z"
    },
    "papermill": {
     "duration": 2.095669,
     "end_time": "2025-09-04T20:15:58.470428",
     "exception": false,
     "start_time": "2025-09-04T20:15:56.374759",
     "status": "completed"
    },
    "tags": []
   },
   "outputs": [],
   "source": [
    "# This Python 3 environment comes with many helpful analytics libraries installed\n",
    "# It is defined by the kaggle/python Docker image: https://github.com/kaggle/docker-python\n",
    "# For example, here's several helpful packages to load\n",
    "\n",
    "import numpy as np # linear algebra\n",
    "import pandas as pd # data processing, CSV file I/O (e.g. pd.read_csv)\n",
    "\n",
    "# Input data files are available in the read-only \"../input/\" directory\n",
    "# For example, running this (by clicking run or pressing Shift+Enter) will list all files under the input directory\n",
    "\n",
    "import os\n",
    "for dirname, _, filenames in os.walk('/kaggle/input'):\n",
    "    for filename in filenames:\n",
    "        print(os.path.join(dirname, filename))\n",
    "\n",
    "# You can write up to 20GB to the current directory (/kaggle/working/) that gets preserved as output when you create a version using \"Save & Run All\" \n",
    "# You can also write temporary files to /kaggle/temp/, but they won't be saved outside of the current session"
   ]
  },
  {
   "cell_type": "code",
   "execution_count": 2,
   "id": "20fad111",
   "metadata": {
    "execution": {
     "iopub.execute_input": "2025-09-04T20:15:58.476010Z",
     "iopub.status.busy": "2025-09-04T20:15:58.475558Z",
     "iopub.status.idle": "2025-09-04T20:15:58.483070Z",
     "shell.execute_reply": "2025-09-04T20:15:58.482104Z"
    },
    "papermill": {
     "duration": 0.012228,
     "end_time": "2025-09-04T20:15:58.484846",
     "exception": false,
     "start_time": "2025-09-04T20:15:58.472618",
     "status": "completed"
    },
    "tags": []
   },
   "outputs": [
    {
     "data": {
      "text/plain": [
       "13"
      ]
     },
     "execution_count": 2,
     "metadata": {},
     "output_type": "execute_result"
    }
   ],
   "source": [
    "5+8\n"
   ]
  },
  {
   "cell_type": "markdown",
   "id": "66543d09",
   "metadata": {
    "papermill": {
     "duration": 0.001635,
     "end_time": "2025-09-04T20:15:58.488442",
     "exception": false,
     "start_time": "2025-09-04T20:15:58.486807",
     "status": "completed"
    },
    "tags": []
   },
   "source": []
  },
  {
   "cell_type": "code",
   "execution_count": null,
   "id": "fdc7a07b",
   "metadata": {
    "papermill": {
     "duration": 0.00143,
     "end_time": "2025-09-04T20:15:58.491518",
     "exception": false,
     "start_time": "2025-09-04T20:15:58.490088",
     "status": "completed"
    },
    "tags": []
   },
   "outputs": [],
   "source": []
  }
 ],
 "metadata": {
  "kaggle": {
   "accelerator": "none",
   "dataSources": [],
   "dockerImageVersionId": 31089,
   "isGpuEnabled": false,
   "isInternetEnabled": false,
   "language": "python",
   "sourceType": "notebook"
  },
  "kernelspec": {
   "display_name": "Python 3",
   "language": "python",
   "name": "python3"
  },
  "language_info": {
   "codemirror_mode": {
    "name": "ipython",
    "version": 3
   },
   "file_extension": ".py",
   "mimetype": "text/x-python",
   "name": "python",
   "nbconvert_exporter": "python",
   "pygments_lexer": "ipython3",
   "version": "3.11.13"
  },
  "papermill": {
   "default_parameters": {},
   "duration": 8.737386,
   "end_time": "2025-09-04T20:15:59.114871",
   "environment_variables": {},
   "exception": null,
   "input_path": "__notebook__.ipynb",
   "output_path": "__notebook__.ipynb",
   "parameters": {},
   "start_time": "2025-09-04T20:15:50.377485",
   "version": "2.6.0"
  }
 },
 "nbformat": 4,
 "nbformat_minor": 5
}
