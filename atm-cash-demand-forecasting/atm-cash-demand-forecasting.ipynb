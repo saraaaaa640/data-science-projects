{
 "cells": [
  {
   "cell_type": "markdown",
   "id": "28d40948",
   "metadata": {
    "papermill": {
     "duration": 0.005177,
     "end_time": "2025-09-21T10:29:23.613253",
     "exception": false,
     "start_time": "2025-09-21T10:29:23.608076",
     "status": "completed"
    },
    "tags": []
   },
   "source": [
    "# ATM Cash Demand Forecasting\n",
    "* Goal: Predict how much cash each ATM will need over different time horizons\n",
    "* Objective: To build a time series model that accurately predicts the Cash_Demand_Next_Day for each ATM, enabling optimized cash replenishment, reduced operational costs, and minimized cash-out situations."
   ]
  },
  {
   "cell_type": "code",
   "execution_count": 1,
   "id": "b1a20a21",
   "metadata": {
    "execution": {
     "iopub.execute_input": "2025-09-21T10:29:23.624126Z",
     "iopub.status.busy": "2025-09-21T10:29:23.623819Z",
     "iopub.status.idle": "2025-09-21T10:29:35.981588Z",
     "shell.execute_reply": "2025-09-21T10:29:35.980359Z"
    },
    "papermill": {
     "duration": 12.365212,
     "end_time": "2025-09-21T10:29:35.983603",
     "exception": false,
     "start_time": "2025-09-21T10:29:23.618391",
     "status": "completed"
    },
    "tags": []
   },
   "outputs": [],
   "source": [
    "import pandas as pd\n",
    "import numpy as np\n",
    "import matplotlib.pyplot as plt\n",
    "import seaborn as sns\n",
    "\n",
    "from sklearn.model_selection import TimeSeriesSplit\n",
    "from sklearn.model_selection import train_test_split\n",
    "from sklearn.preprocessing import StandardScaler\n",
    "from sklearn.ensemble import RandomForestRegressor\n",
    "from sklearn.metrics import mean_absolute_error, mean_squared_error, r2_score\n",
    "from xgboost import XGBRegressor\n",
    "from lightgbm import LGBMRegressor\n",
    "\n",
    "import warnings\n",
    "warnings.filterwarnings(\"ignore\")"
   ]
  },
  {
   "cell_type": "code",
   "execution_count": 2,
   "id": "ddbdb3b0",
   "metadata": {
    "execution": {
     "iopub.execute_input": "2025-09-21T10:29:35.994367Z",
     "iopub.status.busy": "2025-09-21T10:29:35.993663Z",
     "iopub.status.idle": "2025-09-21T10:29:36.038121Z",
     "shell.execute_reply": "2025-09-21T10:29:36.036963Z"
    },
    "papermill": {
     "duration": 0.051557,
     "end_time": "2025-09-21T10:29:36.040000",
     "exception": false,
     "start_time": "2025-09-21T10:29:35.988443",
     "status": "completed"
    },
    "tags": []
   },
   "outputs": [],
   "source": [
    "df=pd.read_csv('/kaggle/input/atm-cash-demand-forecasting-and-management/atm_cash_management_dataset.csv')"
   ]
  },
  {
   "cell_type": "markdown",
   "id": "52ed5abd",
   "metadata": {
    "papermill": {
     "duration": 0.003973,
     "end_time": "2025-09-21T10:29:36.048487",
     "exception": false,
     "start_time": "2025-09-21T10:29:36.044514",
     "status": "completed"
    },
    "tags": []
   },
   "source": [
    "## 1.Data Understanding"
   ]
  },
  {
   "cell_type": "code",
   "execution_count": 3,
   "id": "70ae9f0c",
   "metadata": {
    "execution": {
     "iopub.execute_input": "2025-09-21T10:29:36.059014Z",
     "iopub.status.busy": "2025-09-21T10:29:36.058671Z",
     "iopub.status.idle": "2025-09-21T10:29:36.135228Z",
     "shell.execute_reply": "2025-09-21T10:29:36.134027Z"
    },
    "papermill": {
     "duration": 0.084464,
     "end_time": "2025-09-21T10:29:36.137548",
     "exception": false,
     "start_time": "2025-09-21T10:29:36.053084",
     "status": "completed"
    },
    "tags": []
   },
   "outputs": [
    {
     "name": "stdout",
     "output_type": "stream",
     "text": [
      "<class 'pandas.core.frame.DataFrame'>\n",
      "RangeIndex: 5658 entries, 0 to 5657\n",
      "Data columns (total 13 columns):\n",
      " #   Column                   Non-Null Count  Dtype \n",
      "---  ------                   --------------  ----- \n",
      " 0   ATM_ID                   5658 non-null   object\n",
      " 1   Date                     5658 non-null   object\n",
      " 2   Day_of_Week              5658 non-null   object\n",
      " 3   Time_of_Day              5658 non-null   object\n",
      " 4   Total_Withdrawals        5658 non-null   int64 \n",
      " 5   Total_Deposits           5658 non-null   int64 \n",
      " 6   Location_Type            5658 non-null   object\n",
      " 7   Holiday_Flag             5658 non-null   int64 \n",
      " 8   Special_Event_Flag       5658 non-null   int64 \n",
      " 9   Previous_Day_Cash_Level  5658 non-null   int64 \n",
      " 10  Weather_Condition        5658 non-null   object\n",
      " 11  Nearby_Competitor_ATMs   5658 non-null   int64 \n",
      " 12  Cash_Demand_Next_Day     5658 non-null   int64 \n",
      "dtypes: int64(7), object(6)\n",
      "memory usage: 574.8+ KB\n",
      "       Total_Withdrawals  Total_Deposits  Holiday_Flag  Special_Event_Flag  \\\n",
      "count        5658.000000     5658.000000   5658.000000         5658.000000   \n",
      "mean        49808.106928    10129.078473      0.022093            0.096501   \n",
      "std         14903.539241     4878.853583      0.146998            0.295303   \n",
      "min          1380.000000        0.000000      0.000000            0.000000   \n",
      "25%         39469.250000     6765.000000      0.000000            0.000000   \n",
      "50%         50039.000000    10048.000000      0.000000            0.000000   \n",
      "75%         60132.500000    13430.000000      0.000000            0.000000   \n",
      "max        107790.000000    32395.000000      1.000000            1.000000   \n",
      "\n",
      "       Previous_Day_Cash_Level  Nearby_Competitor_ATMs  Cash_Demand_Next_Day  \n",
      "count              5658.000000             5658.000000           5658.000000  \n",
      "mean             100283.994698                2.477731          43085.207494  \n",
      "std               20122.365608                1.719487          16797.100086  \n",
      "min               23266.000000                0.000000              0.000000  \n",
      "25%               86533.500000                1.000000          31558.750000  \n",
      "50%              100276.500000                2.000000          42589.500000  \n",
      "75%              113956.500000                4.000000          53831.000000  \n",
      "max              172227.000000                5.000000         114724.000000  \n",
      "missing data\n",
      " ATM_ID                     0\n",
      "Date                       0\n",
      "Day_of_Week                0\n",
      "Time_of_Day                0\n",
      "Total_Withdrawals          0\n",
      "Total_Deposits             0\n",
      "Location_Type              0\n",
      "Holiday_Flag               0\n",
      "Special_Event_Flag         0\n",
      "Previous_Day_Cash_Level    0\n",
      "Weather_Condition          0\n",
      "Nearby_Competitor_ATMs     0\n",
      "Cash_Demand_Next_Day       0\n",
      "dtype: int64\n"
     ]
    }
   ],
   "source": [
    "# Basic inspection\n",
    "df.info()\n",
    "print(df.describe())\n",
    "print('missing data\\n',df.isnull().sum()) # Check for missing values\n",
    "df=df.drop_duplicates() #remove duplicates "
   ]
  },
  {
   "cell_type": "code",
   "execution_count": 4,
   "id": "aa582000",
   "metadata": {
    "execution": {
     "iopub.execute_input": "2025-09-21T10:29:36.148093Z",
     "iopub.status.busy": "2025-09-21T10:29:36.147766Z",
     "iopub.status.idle": "2025-09-21T10:29:36.169972Z",
     "shell.execute_reply": "2025-09-21T10:29:36.168939Z"
    },
    "papermill": {
     "duration": 0.029527,
     "end_time": "2025-09-21T10:29:36.171988",
     "exception": false,
     "start_time": "2025-09-21T10:29:36.142461",
     "status": "completed"
    },
    "tags": []
   },
   "outputs": [
    {
     "data": {
      "text/html": [
       "<div>\n",
       "<style scoped>\n",
       "    .dataframe tbody tr th:only-of-type {\n",
       "        vertical-align: middle;\n",
       "    }\n",
       "\n",
       "    .dataframe tbody tr th {\n",
       "        vertical-align: top;\n",
       "    }\n",
       "\n",
       "    .dataframe thead th {\n",
       "        text-align: right;\n",
       "    }\n",
       "</style>\n",
       "<table border=\"1\" class=\"dataframe\">\n",
       "  <thead>\n",
       "    <tr style=\"text-align: right;\">\n",
       "      <th></th>\n",
       "      <th>ATM_ID</th>\n",
       "      <th>Date</th>\n",
       "      <th>Day_of_Week</th>\n",
       "      <th>Time_of_Day</th>\n",
       "      <th>Total_Withdrawals</th>\n",
       "      <th>Total_Deposits</th>\n",
       "      <th>Location_Type</th>\n",
       "      <th>Holiday_Flag</th>\n",
       "      <th>Special_Event_Flag</th>\n",
       "      <th>Previous_Day_Cash_Level</th>\n",
       "      <th>Weather_Condition</th>\n",
       "      <th>Nearby_Competitor_ATMs</th>\n",
       "      <th>Cash_Demand_Next_Day</th>\n",
       "    </tr>\n",
       "  </thead>\n",
       "  <tbody>\n",
       "    <tr>\n",
       "      <th>0</th>\n",
       "      <td>ATM_0041</td>\n",
       "      <td>2022-04-25</td>\n",
       "      <td>Monday</td>\n",
       "      <td>Morning</td>\n",
       "      <td>57450</td>\n",
       "      <td>9308</td>\n",
       "      <td>Standalone</td>\n",
       "      <td>0</td>\n",
       "      <td>0</td>\n",
       "      <td>112953</td>\n",
       "      <td>Rainy</td>\n",
       "      <td>5</td>\n",
       "      <td>44165</td>\n",
       "    </tr>\n",
       "    <tr>\n",
       "      <th>1</th>\n",
       "      <td>ATM_0007</td>\n",
       "      <td>2023-11-24</td>\n",
       "      <td>Friday</td>\n",
       "      <td>Morning</td>\n",
       "      <td>72845</td>\n",
       "      <td>17896</td>\n",
       "      <td>Supermarket</td>\n",
       "      <td>0</td>\n",
       "      <td>0</td>\n",
       "      <td>115348</td>\n",
       "      <td>Clear</td>\n",
       "      <td>0</td>\n",
       "      <td>41249</td>\n",
       "    </tr>\n",
       "    <tr>\n",
       "      <th>2</th>\n",
       "      <td>ATM_0014</td>\n",
       "      <td>2022-08-27</td>\n",
       "      <td>Saturday</td>\n",
       "      <td>Morning</td>\n",
       "      <td>42957</td>\n",
       "      <td>12712</td>\n",
       "      <td>Supermarket</td>\n",
       "      <td>0</td>\n",
       "      <td>0</td>\n",
       "      <td>90731</td>\n",
       "      <td>Cloudy</td>\n",
       "      <td>1</td>\n",
       "      <td>29901</td>\n",
       "    </tr>\n",
       "    <tr>\n",
       "      <th>3</th>\n",
       "      <td>ATM_0029</td>\n",
       "      <td>2023-08-27</td>\n",
       "      <td>Sunday</td>\n",
       "      <td>Evening</td>\n",
       "      <td>43014</td>\n",
       "      <td>1375</td>\n",
       "      <td>Mall</td>\n",
       "      <td>0</td>\n",
       "      <td>0</td>\n",
       "      <td>88754</td>\n",
       "      <td>Rainy</td>\n",
       "      <td>5</td>\n",
       "      <td>44155</td>\n",
       "    </tr>\n",
       "    <tr>\n",
       "      <th>4</th>\n",
       "      <td>ATM_0028</td>\n",
       "      <td>2022-12-15</td>\n",
       "      <td>Thursday</td>\n",
       "      <td>Evening</td>\n",
       "      <td>36379</td>\n",
       "      <td>2938</td>\n",
       "      <td>Bank Branch</td>\n",
       "      <td>0</td>\n",
       "      <td>0</td>\n",
       "      <td>129312</td>\n",
       "      <td>Snowy</td>\n",
       "      <td>0</td>\n",
       "      <td>29784</td>\n",
       "    </tr>\n",
       "  </tbody>\n",
       "</table>\n",
       "</div>"
      ],
      "text/plain": [
       "     ATM_ID        Date Day_of_Week Time_of_Day  Total_Withdrawals  \\\n",
       "0  ATM_0041  2022-04-25      Monday     Morning              57450   \n",
       "1  ATM_0007  2023-11-24      Friday     Morning              72845   \n",
       "2  ATM_0014  2022-08-27    Saturday     Morning              42957   \n",
       "3  ATM_0029  2023-08-27      Sunday     Evening              43014   \n",
       "4  ATM_0028  2022-12-15    Thursday     Evening              36379   \n",
       "\n",
       "   Total_Deposits Location_Type  Holiday_Flag  Special_Event_Flag  \\\n",
       "0            9308    Standalone             0                   0   \n",
       "1           17896   Supermarket             0                   0   \n",
       "2           12712   Supermarket             0                   0   \n",
       "3            1375          Mall             0                   0   \n",
       "4            2938   Bank Branch             0                   0   \n",
       "\n",
       "   Previous_Day_Cash_Level Weather_Condition  Nearby_Competitor_ATMs  \\\n",
       "0                   112953             Rainy                       5   \n",
       "1                   115348             Clear                       0   \n",
       "2                    90731            Cloudy                       1   \n",
       "3                    88754             Rainy                       5   \n",
       "4                   129312             Snowy                       0   \n",
       "\n",
       "   Cash_Demand_Next_Day  \n",
       "0                 44165  \n",
       "1                 41249  \n",
       "2                 29901  \n",
       "3                 44155  \n",
       "4                 29784  "
      ]
     },
     "execution_count": 4,
     "metadata": {},
     "output_type": "execute_result"
    }
   ],
   "source": [
    "#Handle DateTime\n",
    "df.head()"
   ]
  },
  {
   "cell_type": "markdown",
   "id": "bb1c9ed6",
   "metadata": {
    "papermill": {
     "duration": 0.005763,
     "end_time": "2025-09-21T10:29:36.182891",
     "exception": false,
     "start_time": "2025-09-21T10:29:36.177128",
     "status": "completed"
    },
    "tags": []
   },
   "source": [
    "* 5,658 records - good size for time series modeling\n",
    "* No missing values - excellent data quality!\n",
    "* Target variable: Cash_Demand_Next_Day "
   ]
  },
  {
   "cell_type": "code",
   "execution_count": 5,
   "id": "31b77e3d",
   "metadata": {
    "execution": {
     "iopub.execute_input": "2025-09-21T10:29:36.193461Z",
     "iopub.status.busy": "2025-09-21T10:29:36.193086Z",
     "iopub.status.idle": "2025-09-21T10:29:36.577134Z",
     "shell.execute_reply": "2025-09-21T10:29:36.575894Z"
    },
    "papermill": {
     "duration": 0.3925,
     "end_time": "2025-09-21T10:29:36.580049",
     "exception": false,
     "start_time": "2025-09-21T10:29:36.187549",
     "status": "completed"
    },
    "tags": []
   },
   "outputs": [
    {
     "data": {
      "image/png": "[encoded data removed]",
      "text/plain": [
       "<Figure size 800x500 with 1 Axes>"
      ]
     },
     "metadata": {},
     "output_type": "display_data"
    }
   ],
   "source": [
    "plt.figure(figsize=(8,5))\n",
    "plt.scatter(df[\"Total_Withdrawals\"], df[\"Total_Deposits\"], c=\"blue\", s=100, alpha=0.7)\n",
    "plt.xlabel(\"Total Withdrawals\")\n",
    "plt.ylabel(\"Total Deposits\")\n",
    "plt.title(\"Withdrawals vs Deposits per ATM\")\n",
    "plt.grid(True)\n",
    "plt.show()"
   ]
  },
  {
   "cell_type": "code",
   "execution_count": 6,
   "id": "9acb27c5",
   "metadata": {
    "execution": {
     "iopub.execute_input": "2025-09-21T10:29:36.594702Z",
     "iopub.status.busy": "2025-09-21T10:29:36.594351Z",
     "iopub.status.idle": "2025-09-21T10:29:37.046566Z",
     "shell.execute_reply": "2025-09-21T10:29:37.045497Z"
    },
    "papermill": {
     "duration": 0.460877,
     "end_time": "2025-09-21T10:29:37.048204",
     "exception": false,
     "start_time": "2025-09-21T10:29:36.587327",
     "status": "completed"
    },
    "tags": []
   },
   "outputs": [
    {
     "data": {
      "image/png": "[encoded data removed]",
      "text/plain": [
       "<Figure size 1000x600 with 2 Axes>"
      ]
     },
     "metadata": {},
     "output_type": "display_data"
    }
   ],
   "source": [
    "plt.figure(figsize=(10,6))\n",
    "sns.heatmap(df[[\"Total_Withdrawals\",\"Total_Deposits\",\"Previous_Day_Cash_Level\",\"Cash_Demand_Next_Day\"]].corr(),\n",
    "            annot=True, cmap=\"coolwarm\", fmt=\".2f\")\n",
    "plt.title(\"Correlation Heatmap of Key Numerical Features\")\n",
    "plt.show()"
   ]
  },
  {
   "cell_type": "code",
   "execution_count": 7,
   "id": "77b1aa97",
   "metadata": {
    "execution": {
     "iopub.execute_input": "2025-09-21T10:29:37.064378Z",
     "iopub.status.busy": "2025-09-21T10:29:37.064039Z",
     "iopub.status.idle": "2025-09-21T10:29:37.073619Z",
     "shell.execute_reply": "2025-09-21T10:29:37.072716Z"
    },
    "papermill": {
     "duration": 0.019569,
     "end_time": "2025-09-21T10:29:37.075340",
     "exception": false,
     "start_time": "2025-09-21T10:29:37.055771",
     "status": "completed"
    },
    "tags": []
   },
   "outputs": [
    {
     "data": {
      "text/plain": [
       "array(['ATM_0041', 'ATM_0007', 'ATM_0014', 'ATM_0029', 'ATM_0028',\n",
       "       'ATM_0006', 'ATM_0047', 'ATM_0040', 'ATM_0024', 'ATM_0045',\n",
       "       'ATM_0003', 'ATM_0042', 'ATM_0048', 'ATM_0015', 'ATM_0030',\n",
       "       'ATM_0020', 'ATM_0050', 'ATM_0031', 'ATM_0035', 'ATM_0034',\n",
       "       'ATM_0038', 'ATM_0033', 'ATM_0037', 'ATM_0004', 'ATM_0016',\n",
       "       'ATM_0018', 'ATM_0027', 'ATM_0025', 'ATM_0039', 'ATM_0023',\n",
       "       'ATM_0046', 'ATM_0017', 'ATM_0001', 'ATM_0036', 'ATM_0002',\n",
       "       'ATM_0011', 'ATM_0013', 'ATM_0021', 'ATM_0026', 'ATM_0019',\n",
       "       'ATM_0010', 'ATM_0044', 'ATM_0012', 'ATM_0022', 'ATM_0009',\n",
       "       'ATM_0032', 'ATM_0008', 'ATM_0049', 'ATM_0005', 'ATM_0043'],\n",
       "      dtype=object)"
      ]
     },
     "execution_count": 7,
     "metadata": {},
     "output_type": "execute_result"
    }
   ],
   "source": [
    "#print(df[\"Weather_Condition\"].dropna().unique())\n",
    "#print(df[\"Location_Type\"].dropna().unique())\n",
    "df[\"Time_of_Day\"].dropna().unique()\n",
    "df[\"ATM_ID\"].dropna().unique()"
   ]
  },
  {
   "cell_type": "markdown",
   "id": "2c36cc9b",
   "metadata": {
    "papermill": {
     "duration": 0.006788,
     "end_time": "2025-09-21T10:29:37.089334",
     "exception": false,
     "start_time": "2025-09-21T10:29:37.082546",
     "status": "completed"
    },
    "tags": []
   },
   "source": [
    "## 2. Data Preprocessing"
   ]
  },
  {
   "cell_type": "code",
   "execution_count": 8,
   "id": "60d9751a",
   "metadata": {
    "execution": {
     "iopub.execute_input": "2025-09-21T10:29:37.104477Z",
     "iopub.status.busy": "2025-09-21T10:29:37.104146Z",
     "iopub.status.idle": "2025-09-21T10:29:37.110959Z",
     "shell.execute_reply": "2025-09-21T10:29:37.110165Z"
    },
    "papermill": {
     "duration": 0.016394,
     "end_time": "2025-09-21T10:29:37.112625",
     "exception": false,
     "start_time": "2025-09-21T10:29:37.096231",
     "status": "completed"
    },
    "tags": []
   },
   "outputs": [],
   "source": [
    "#Ordinal encoding for Day_of_Week \n",
    "day_order = {\"Monday\": 1,\"Tuesday\": 2,\"Wednesday\": 3,\"Thursday\": 4,\"Friday\": 5,\"Saturday\": 6,\"Sunday\": 7}\n",
    "df[\"Day_of_Week\"] = df[\"Day_of_Week\"].map(day_order)"
   ]
  },
  {
   "cell_type": "code",
   "execution_count": 9,
   "id": "fad28d8e",
   "metadata": {
    "execution": {
     "iopub.execute_input": "2025-09-21T10:29:37.129728Z",
     "iopub.status.busy": "2025-09-21T10:29:37.129412Z",
     "iopub.status.idle": "2025-09-21T10:29:37.143030Z",
     "shell.execute_reply": "2025-09-21T10:29:37.142141Z"
    },
    "papermill": {
     "duration": 0.024219,
     "end_time": "2025-09-21T10:29:37.144763",
     "exception": false,
     "start_time": "2025-09-21T10:29:37.120544",
     "status": "completed"
    },
    "tags": []
   },
   "outputs": [
    {
     "data": {
      "text/html": [
       "<div>\n",
       "<style scoped>\n",
       "    .dataframe tbody tr th:only-of-type {\n",
       "        vertical-align: middle;\n",
       "    }\n",
       "\n",
       "    .dataframe tbody tr th {\n",
       "        vertical-align: top;\n",
       "    }\n",
       "\n",
       "    .dataframe thead th {\n",
       "        text-align: right;\n",
       "    }\n",
       "</style>\n",
       "<table border=\"1\" class=\"dataframe\">\n",
       "  <thead>\n",
       "    <tr style=\"text-align: right;\">\n",
       "      <th></th>\n",
       "      <th>ATM_ID</th>\n",
       "      <th>Date</th>\n",
       "      <th>Day_of_Week</th>\n",
       "      <th>Time_of_Day</th>\n",
       "      <th>Total_Withdrawals</th>\n",
       "      <th>Total_Deposits</th>\n",
       "      <th>Location_Type</th>\n",
       "      <th>Holiday_Flag</th>\n",
       "      <th>Special_Event_Flag</th>\n",
       "      <th>Previous_Day_Cash_Level</th>\n",
       "      <th>Weather_Condition</th>\n",
       "      <th>Nearby_Competitor_ATMs</th>\n",
       "      <th>Cash_Demand_Next_Day</th>\n",
       "    </tr>\n",
       "  </thead>\n",
       "  <tbody>\n",
       "    <tr>\n",
       "      <th>0</th>\n",
       "      <td>ATM_0041</td>\n",
       "      <td>2022-04-25</td>\n",
       "      <td>1</td>\n",
       "      <td>Morning</td>\n",
       "      <td>57450</td>\n",
       "      <td>9308</td>\n",
       "      <td>Standalone</td>\n",
       "      <td>0</td>\n",
       "      <td>0</td>\n",
       "      <td>112953</td>\n",
       "      <td>Rainy</td>\n",
       "      <td>5</td>\n",
       "      <td>44165</td>\n",
       "    </tr>\n",
       "    <tr>\n",
       "      <th>1</th>\n",
       "      <td>ATM_0007</td>\n",
       "      <td>2023-11-24</td>\n",
       "      <td>5</td>\n",
       "      <td>Morning</td>\n",
       "      <td>72845</td>\n",
       "      <td>17896</td>\n",
       "      <td>Supermarket</td>\n",
       "      <td>0</td>\n",
       "      <td>0</td>\n",
       "      <td>115348</td>\n",
       "      <td>Clear</td>\n",
       "      <td>0</td>\n",
       "      <td>41249</td>\n",
       "    </tr>\n",
       "    <tr>\n",
       "      <th>2</th>\n",
       "      <td>ATM_0014</td>\n",
       "      <td>2022-08-27</td>\n",
       "      <td>6</td>\n",
       "      <td>Morning</td>\n",
       "      <td>42957</td>\n",
       "      <td>12712</td>\n",
       "      <td>Supermarket</td>\n",
       "      <td>0</td>\n",
       "      <td>0</td>\n",
       "      <td>90731</td>\n",
       "      <td>Cloudy</td>\n",
       "      <td>1</td>\n",
       "      <td>29901</td>\n",
       "    </tr>\n",
       "    <tr>\n",
       "      <th>3</th>\n",
       "      <td>ATM_0029</td>\n",
       "      <td>2023-08-27</td>\n",
       "      <td>7</td>\n",
       "      <td>Evening</td>\n",
       "      <td>43014</td>\n",
       "      <td>1375</td>\n",
       "      <td>Mall</td>\n",
       "      <td>0</td>\n",
       "      <td>0</td>\n",
       "      <td>88754</td>\n",
       "      <td>Rainy</td>\n",
       "      <td>5</td>\n",
       "      <td>44155</td>\n",
       "    </tr>\n",
       "    <tr>\n",
       "      <th>4</th>\n",
       "      <td>ATM_0028</td>\n",
       "      <td>2022-12-15</td>\n",
       "      <td>4</td>\n",
       "      <td>Evening</td>\n",
       "      <td>36379</td>\n",
       "      <td>2938</td>\n",
       "      <td>Bank Branch</td>\n",
       "      <td>0</td>\n",
       "      <td>0</td>\n",
       "      <td>129312</td>\n",
       "      <td>Snowy</td>\n",
       "      <td>0</td>\n",
       "      <td>29784</td>\n",
       "    </tr>\n",
       "  </tbody>\n",
       "</table>\n",
       "</div>"
      ],
      "text/plain": [
       "     ATM_ID        Date  Day_of_Week Time_of_Day  Total_Withdrawals  \\\n",
       "0  ATM_0041  2022-04-25            1     Morning              57450   \n",
       "1  ATM_0007  2023-11-24            5     Morning              72845   \n",
       "2  ATM_0014  2022-08-27            6     Morning              42957   \n",
       "3  ATM_0029  2023-08-27            7     Evening              43014   \n",
       "4  ATM_0028  2022-12-15            4     Evening              36379   \n",
       "\n",
       "   Total_Deposits Location_Type  Holiday_Flag  Special_Event_Flag  \\\n",
       "0            9308    Standalone             0                   0   \n",
       "1           17896   Supermarket             0                   0   \n",
       "2           12712   Supermarket             0                   0   \n",
       "3            1375          Mall             0                   0   \n",
       "4            2938   Bank Branch             0                   0   \n",
       "\n",
       "   Previous_Day_Cash_Level Weather_Condition  Nearby_Competitor_ATMs  \\\n",
       "0                   112953             Rainy                       5   \n",
       "1                   115348             Clear                       0   \n",
       "2                    90731            Cloudy                       1   \n",
       "3                    88754             Rainy                       5   \n",
       "4                   129312             Snowy                       0   \n",
       "\n",
       "   Cash_Demand_Next_Day  \n",
       "0                 44165  \n",
       "1                 41249  \n",
       "2                 29901  \n",
       "3                 44155  \n",
       "4                 29784  "
      ]
     },
     "execution_count": 9,
     "metadata": {},
     "output_type": "execute_result"
    }
   ],
   "source": [
    "df.head()"
   ]
  },
  {
   "cell_type": "code",
   "execution_count": 10,
   "id": "3ffbad40",
   "metadata": {
    "execution": {
     "iopub.execute_input": "2025-09-21T10:29:37.161463Z",
     "iopub.status.busy": "2025-09-21T10:29:37.161158Z",
     "iopub.status.idle": "2025-09-21T10:29:37.174917Z",
     "shell.execute_reply": "2025-09-21T10:29:37.173807Z"
    },
    "papermill": {
     "duration": 0.02472,
     "end_time": "2025-09-21T10:29:37.176898",
     "exception": false,
     "start_time": "2025-09-21T10:29:37.152178",
     "status": "completed"
    },
    "tags": []
   },
   "outputs": [],
   "source": [
    "df = pd.get_dummies(df, columns=[\"Weather_Condition\", \"Location_Type\",\"Time_of_Day\"])"
   ]
  },
  {
   "cell_type": "code",
   "execution_count": 11,
   "id": "8a305fc8",
   "metadata": {
    "execution": {
     "iopub.execute_input": "2025-09-21T10:29:37.195475Z",
     "iopub.status.busy": "2025-09-21T10:29:37.194903Z",
     "iopub.status.idle": "2025-09-21T10:29:37.234703Z",
     "shell.execute_reply": "2025-09-21T10:29:37.233630Z"
    },
    "papermill": {
     "duration": 0.051031,
     "end_time": "2025-09-21T10:29:37.236622",
     "exception": false,
     "start_time": "2025-09-21T10:29:37.185591",
     "status": "completed"
    },
    "tags": []
   },
   "outputs": [
    {
     "data": {
      "text/html": [
       "<div>\n",
       "<style scoped>\n",
       "    .dataframe tbody tr th:only-of-type {\n",
       "        vertical-align: middle;\n",
       "    }\n",
       "\n",
       "    .dataframe tbody tr th {\n",
       "        vertical-align: top;\n",
       "    }\n",
       "\n",
       "    .dataframe thead th {\n",
       "        text-align: right;\n",
       "    }\n",
       "</style>\n",
       "<table border=\"1\" class=\"dataframe\">\n",
       "  <thead>\n",
       "    <tr style=\"text-align: right;\">\n",
       "      <th></th>\n",
       "      <th>ATM_ID</th>\n",
       "      <th>Day_of_Week</th>\n",
       "      <th>Total_Withdrawals</th>\n",
       "      <th>Total_Deposits</th>\n",
       "      <th>Holiday_Flag</th>\n",
       "      <th>Special_Event_Flag</th>\n",
       "      <th>Previous_Day_Cash_Level</th>\n",
       "      <th>Nearby_Competitor_ATMs</th>\n",
       "      <th>Cash_Demand_Next_Day</th>\n",
       "      <th>Weather_Condition_Clear</th>\n",
       "      <th>...</th>\n",
       "      <th>Time_of_Day_Afternoon</th>\n",
       "      <th>Time_of_Day_Evening</th>\n",
       "      <th>Time_of_Day_Morning</th>\n",
       "      <th>Time_of_Day_Night</th>\n",
       "      <th>Year</th>\n",
       "      <th>Month</th>\n",
       "      <th>Day</th>\n",
       "      <th>Week_of_Year</th>\n",
       "      <th>Is_Month_End</th>\n",
       "      <th>Is_Weekend</th>\n",
       "    </tr>\n",
       "  </thead>\n",
       "  <tbody>\n",
       "    <tr>\n",
       "      <th>0</th>\n",
       "      <td>ATM_0041</td>\n",
       "      <td>1</td>\n",
       "      <td>57450</td>\n",
       "      <td>9308</td>\n",
       "      <td>0</td>\n",
       "      <td>0</td>\n",
       "      <td>112953</td>\n",
       "      <td>5</td>\n",
       "      <td>44165</td>\n",
       "      <td>False</td>\n",
       "      <td>...</td>\n",
       "      <td>False</td>\n",
       "      <td>False</td>\n",
       "      <td>True</td>\n",
       "      <td>False</td>\n",
       "      <td>2022</td>\n",
       "      <td>4</td>\n",
       "      <td>25</td>\n",
       "      <td>17</td>\n",
       "      <td>0</td>\n",
       "      <td>0</td>\n",
       "    </tr>\n",
       "    <tr>\n",
       "      <th>1</th>\n",
       "      <td>ATM_0007</td>\n",
       "      <td>5</td>\n",
       "      <td>72845</td>\n",
       "      <td>17896</td>\n",
       "      <td>0</td>\n",
       "      <td>0</td>\n",
       "      <td>115348</td>\n",
       "      <td>0</td>\n",
       "      <td>41249</td>\n",
       "      <td>True</td>\n",
       "      <td>...</td>\n",
       "      <td>False</td>\n",
       "      <td>False</td>\n",
       "      <td>True</td>\n",
       "      <td>False</td>\n",
       "      <td>2023</td>\n",
       "      <td>11</td>\n",
       "      <td>24</td>\n",
       "      <td>47</td>\n",
       "      <td>0</td>\n",
       "      <td>0</td>\n",
       "    </tr>\n",
       "    <tr>\n",
       "      <th>2</th>\n",
       "      <td>ATM_0014</td>\n",
       "      <td>6</td>\n",
       "      <td>42957</td>\n",
       "      <td>12712</td>\n",
       "      <td>0</td>\n",
       "      <td>0</td>\n",
       "      <td>90731</td>\n",
       "      <td>1</td>\n",
       "      <td>29901</td>\n",
       "      <td>False</td>\n",
       "      <td>...</td>\n",
       "      <td>False</td>\n",
       "      <td>False</td>\n",
       "      <td>True</td>\n",
       "      <td>False</td>\n",
       "      <td>2022</td>\n",
       "      <td>8</td>\n",
       "      <td>27</td>\n",
       "      <td>34</td>\n",
       "      <td>0</td>\n",
       "      <td>1</td>\n",
       "    </tr>\n",
       "    <tr>\n",
       "      <th>3</th>\n",
       "      <td>ATM_0029</td>\n",
       "      <td>7</td>\n",
       "      <td>43014</td>\n",
       "      <td>1375</td>\n",
       "      <td>0</td>\n",
       "      <td>0</td>\n",
       "      <td>88754</td>\n",
       "      <td>5</td>\n",
       "      <td>44155</td>\n",
       "      <td>False</td>\n",
       "      <td>...</td>\n",
       "      <td>False</td>\n",
       "      <td>True</td>\n",
       "      <td>False</td>\n",
       "      <td>False</td>\n",
       "      <td>2023</td>\n",
       "      <td>8</td>\n",
       "      <td>27</td>\n",
       "      <td>34</td>\n",
       "      <td>0</td>\n",
       "      <td>1</td>\n",
       "    </tr>\n",
       "    <tr>\n",
       "      <th>4</th>\n",
       "      <td>ATM_0028</td>\n",
       "      <td>4</td>\n",
       "      <td>36379</td>\n",
       "      <td>2938</td>\n",
       "      <td>0</td>\n",
       "      <td>0</td>\n",
       "      <td>129312</td>\n",
       "      <td>0</td>\n",
       "      <td>29784</td>\n",
       "      <td>False</td>\n",
       "      <td>...</td>\n",
       "      <td>False</td>\n",
       "      <td>True</td>\n",
       "      <td>False</td>\n",
       "      <td>False</td>\n",
       "      <td>2022</td>\n",
       "      <td>12</td>\n",
       "      <td>15</td>\n",
       "      <td>50</td>\n",
       "      <td>0</td>\n",
       "      <td>0</td>\n",
       "    </tr>\n",
       "  </tbody>\n",
       "</table>\n",
       "<p>5 rows × 28 columns</p>\n",
       "</div>"
      ],
      "text/plain": [
       "     ATM_ID  Day_of_Week  Total_Withdrawals  Total_Deposits  Holiday_Flag  \\\n",
       "0  ATM_0041            1              57450            9308             0   \n",
       "1  ATM_0007            5              72845           17896             0   \n",
       "2  ATM_0014            6              42957           12712             0   \n",
       "3  ATM_0029            7              43014            1375             0   \n",
       "4  ATM_0028            4              36379            2938             0   \n",
       "\n",
       "   Special_Event_Flag  Previous_Day_Cash_Level  Nearby_Competitor_ATMs  \\\n",
       "0                   0                   112953                       5   \n",
       "1                   0                   115348                       0   \n",
       "2                   0                    90731                       1   \n",
       "3                   0                    88754                       5   \n",
       "4                   0                   129312                       0   \n",
       "\n",
       "   Cash_Demand_Next_Day  Weather_Condition_Clear  ...  Time_of_Day_Afternoon  \\\n",
       "0                 44165                    False  ...                  False   \n",
       "1                 41249                     True  ...                  False   \n",
       "2                 29901                    False  ...                  False   \n",
       "3                 44155                    False  ...                  False   \n",
       "4                 29784                    False  ...                  False   \n",
       "\n",
       "   Time_of_Day_Evening  Time_of_Day_Morning  Time_of_Day_Night  Year  Month  \\\n",
       "0                False                 True              False  2022      4   \n",
       "1                False                 True              False  2023     11   \n",
       "2                False                 True              False  2022      8   \n",
       "3                 True                False              False  2023      8   \n",
       "4                 True                False              False  2022     12   \n",
       "\n",
       "   Day  Week_of_Year  Is_Month_End  Is_Weekend  \n",
       "0   25            17             0           0  \n",
       "1   24            47             0           0  \n",
       "2   27            34             0           1  \n",
       "3   27            34             0           1  \n",
       "4   15            50             0           0  \n",
       "\n",
       "[5 rows x 28 columns]"
      ]
     },
     "execution_count": 11,
     "metadata": {},
     "output_type": "execute_result"
    }
   ],
   "source": [
    "#extract Date features\n",
    "df[\"Date\"] = pd.to_datetime(df[\"Date\"])\n",
    "df[\"Year\"] = df[\"Date\"].dt.year\n",
    "df[\"Month\"] = df[\"Date\"].dt.month\n",
    "df[\"Day\"] = df[\"Date\"].dt.day\n",
    "df[\"Week_of_Year\"] = df[\"Date\"].dt.isocalendar().week\n",
    "\n",
    "# extract new features from the date \n",
    "df[\"Is_Month_End\"] = df[\"Date\"].dt.is_month_end.astype(int)\n",
    "df[\"Is_Weekend\"] = df[\"Date\"].dt.weekday.isin([5, 6]).astype(int)\n",
    "\n",
    "# remove the date column\n",
    "df = df.drop(columns=[\"Date\"])\n",
    "df.head()"
   ]
  },
  {
   "cell_type": "code",
   "execution_count": 12,
   "id": "8777d40a",
   "metadata": {
    "execution": {
     "iopub.execute_input": "2025-09-21T10:29:37.254146Z",
     "iopub.status.busy": "2025-09-21T10:29:37.253840Z",
     "iopub.status.idle": "2025-09-21T10:29:37.260794Z",
     "shell.execute_reply": "2025-09-21T10:29:37.259818Z"
    },
    "papermill": {
     "duration": 0.017646,
     "end_time": "2025-09-21T10:29:37.262531",
     "exception": false,
     "start_time": "2025-09-21T10:29:37.244885",
     "status": "completed"
    },
    "tags": []
   },
   "outputs": [],
   "source": [
    "df= df.drop(columns=[\"ATM_ID\"])"
   ]
  },
  {
   "cell_type": "code",
   "execution_count": 13,
   "id": "38c52044",
   "metadata": {
    "execution": {
     "iopub.execute_input": "2025-09-21T10:29:37.280082Z",
     "iopub.status.busy": "2025-09-21T10:29:37.279159Z",
     "iopub.status.idle": "2025-09-21T10:29:37.299546Z",
     "shell.execute_reply": "2025-09-21T10:29:37.298525Z"
    },
    "papermill": {
     "duration": 0.031001,
     "end_time": "2025-09-21T10:29:37.301340",
     "exception": false,
     "start_time": "2025-09-21T10:29:37.270339",
     "status": "completed"
    },
    "tags": []
   },
   "outputs": [
    {
     "data": {
      "text/html": [
       "<div>\n",
       "<style scoped>\n",
       "    .dataframe tbody tr th:only-of-type {\n",
       "        vertical-align: middle;\n",
       "    }\n",
       "\n",
       "    .dataframe tbody tr th {\n",
       "        vertical-align: top;\n",
       "    }\n",
       "\n",
       "    .dataframe thead th {\n",
       "        text-align: right;\n",
       "    }\n",
       "</style>\n",
       "<table border=\"1\" class=\"dataframe\">\n",
       "  <thead>\n",
       "    <tr style=\"text-align: right;\">\n",
       "      <th></th>\n",
       "      <th>Day_of_Week</th>\n",
       "      <th>Total_Withdrawals</th>\n",
       "      <th>Total_Deposits</th>\n",
       "      <th>Holiday_Flag</th>\n",
       "      <th>Special_Event_Flag</th>\n",
       "      <th>Previous_Day_Cash_Level</th>\n",
       "      <th>Nearby_Competitor_ATMs</th>\n",
       "      <th>Cash_Demand_Next_Day</th>\n",
       "      <th>Weather_Condition_Clear</th>\n",
       "      <th>Weather_Condition_Cloudy</th>\n",
       "      <th>...</th>\n",
       "      <th>Time_of_Day_Afternoon</th>\n",
       "      <th>Time_of_Day_Evening</th>\n",
       "      <th>Time_of_Day_Morning</th>\n",
       "      <th>Time_of_Day_Night</th>\n",
       "      <th>Year</th>\n",
       "      <th>Month</th>\n",
       "      <th>Day</th>\n",
       "      <th>Week_of_Year</th>\n",
       "      <th>Is_Month_End</th>\n",
       "      <th>Is_Weekend</th>\n",
       "    </tr>\n",
       "  </thead>\n",
       "  <tbody>\n",
       "    <tr>\n",
       "      <th>0</th>\n",
       "      <td>1</td>\n",
       "      <td>57450</td>\n",
       "      <td>9308</td>\n",
       "      <td>0</td>\n",
       "      <td>0</td>\n",
       "      <td>112953</td>\n",
       "      <td>5</td>\n",
       "      <td>44165</td>\n",
       "      <td>False</td>\n",
       "      <td>False</td>\n",
       "      <td>...</td>\n",
       "      <td>False</td>\n",
       "      <td>False</td>\n",
       "      <td>True</td>\n",
       "      <td>False</td>\n",
       "      <td>2022</td>\n",
       "      <td>4</td>\n",
       "      <td>25</td>\n",
       "      <td>17</td>\n",
       "      <td>0</td>\n",
       "      <td>0</td>\n",
       "    </tr>\n",
       "    <tr>\n",
       "      <th>1</th>\n",
       "      <td>5</td>\n",
       "      <td>72845</td>\n",
       "      <td>17896</td>\n",
       "      <td>0</td>\n",
       "      <td>0</td>\n",
       "      <td>115348</td>\n",
       "      <td>0</td>\n",
       "      <td>41249</td>\n",
       "      <td>True</td>\n",
       "      <td>False</td>\n",
       "      <td>...</td>\n",
       "      <td>False</td>\n",
       "      <td>False</td>\n",
       "      <td>True</td>\n",
       "      <td>False</td>\n",
       "      <td>2023</td>\n",
       "      <td>11</td>\n",
       "      <td>24</td>\n",
       "      <td>47</td>\n",
       "      <td>0</td>\n",
       "      <td>0</td>\n",
       "    </tr>\n",
       "    <tr>\n",
       "      <th>2</th>\n",
       "      <td>6</td>\n",
       "      <td>42957</td>\n",
       "      <td>12712</td>\n",
       "      <td>0</td>\n",
       "      <td>0</td>\n",
       "      <td>90731</td>\n",
       "      <td>1</td>\n",
       "      <td>29901</td>\n",
       "      <td>False</td>\n",
       "      <td>True</td>\n",
       "      <td>...</td>\n",
       "      <td>False</td>\n",
       "      <td>False</td>\n",
       "      <td>True</td>\n",
       "      <td>False</td>\n",
       "      <td>2022</td>\n",
       "      <td>8</td>\n",
       "      <td>27</td>\n",
       "      <td>34</td>\n",
       "      <td>0</td>\n",
       "      <td>1</td>\n",
       "    </tr>\n",
       "    <tr>\n",
       "      <th>3</th>\n",
       "      <td>7</td>\n",
       "      <td>43014</td>\n",
       "      <td>1375</td>\n",
       "      <td>0</td>\n",
       "      <td>0</td>\n",
       "      <td>88754</td>\n",
       "      <td>5</td>\n",
       "      <td>44155</td>\n",
       "      <td>False</td>\n",
       "      <td>False</td>\n",
       "      <td>...</td>\n",
       "      <td>False</td>\n",
       "      <td>True</td>\n",
       "      <td>False</td>\n",
       "      <td>False</td>\n",
       "      <td>2023</td>\n",
       "      <td>8</td>\n",
       "      <td>27</td>\n",
       "      <td>34</td>\n",
       "      <td>0</td>\n",
       "      <td>1</td>\n",
       "    </tr>\n",
       "    <tr>\n",
       "      <th>4</th>\n",
       "      <td>4</td>\n",
       "      <td>36379</td>\n",
       "      <td>2938</td>\n",
       "      <td>0</td>\n",
       "      <td>0</td>\n",
       "      <td>129312</td>\n",
       "      <td>0</td>\n",
       "      <td>29784</td>\n",
       "      <td>False</td>\n",
       "      <td>False</td>\n",
       "      <td>...</td>\n",
       "      <td>False</td>\n",
       "      <td>True</td>\n",
       "      <td>False</td>\n",
       "      <td>False</td>\n",
       "      <td>2022</td>\n",
       "      <td>12</td>\n",
       "      <td>15</td>\n",
       "      <td>50</td>\n",
       "      <td>0</td>\n",
       "      <td>0</td>\n",
       "    </tr>\n",
       "  </tbody>\n",
       "</table>\n",
       "<p>5 rows × 27 columns</p>\n",
       "</div>"
      ],
      "text/plain": [
       "   Day_of_Week  Total_Withdrawals  Total_Deposits  Holiday_Flag  \\\n",
       "0            1              57450            9308             0   \n",
       "1            5              72845           17896             0   \n",
       "2            6              42957           12712             0   \n",
       "3            7              43014            1375             0   \n",
       "4            4              36379            2938             0   \n",
       "\n",
       "   Special_Event_Flag  Previous_Day_Cash_Level  Nearby_Competitor_ATMs  \\\n",
       "0                   0                   112953                       5   \n",
       "1                   0                   115348                       0   \n",
       "2                   0                    90731                       1   \n",
       "3                   0                    88754                       5   \n",
       "4                   0                   129312                       0   \n",
       "\n",
       "   Cash_Demand_Next_Day  Weather_Condition_Clear  Weather_Condition_Cloudy  \\\n",
       "0                 44165                    False                     False   \n",
       "1                 41249                     True                     False   \n",
       "2                 29901                    False                      True   \n",
       "3                 44155                    False                     False   \n",
       "4                 29784                    False                     False   \n",
       "\n",
       "   ...  Time_of_Day_Afternoon  Time_of_Day_Evening  Time_of_Day_Morning  \\\n",
       "0  ...                  False                False                 True   \n",
       "1  ...                  False                False                 True   \n",
       "2  ...                  False                False                 True   \n",
       "3  ...                  False                 True                False   \n",
       "4  ...                  False                 True                False   \n",
       "\n",
       "   Time_of_Day_Night  Year  Month  Day  Week_of_Year  Is_Month_End  Is_Weekend  \n",
       "0              False  2022      4   25            17             0           0  \n",
       "1              False  2023     11   24            47             0           0  \n",
       "2              False  2022      8   27            34             0           1  \n",
       "3              False  2023      8   27            34             0           1  \n",
       "4              False  2022     12   15            50             0           0  \n",
       "\n",
       "[5 rows x 27 columns]"
      ]
     },
     "execution_count": 13,
     "metadata": {},
     "output_type": "execute_result"
    }
   ],
   "source": [
    "df.head()"
   ]
  },
  {
   "cell_type": "markdown",
   "id": "b37a1f3e",
   "metadata": {
    "papermill": {
     "duration": 0.008353,
     "end_time": "2025-09-21T10:29:37.317597",
     "exception": false,
     "start_time": "2025-09-21T10:29:37.309244",
     "status": "completed"
    },
    "tags": []
   },
   "source": [
    "# Modeling and evaluation "
   ]
  },
  {
   "cell_type": "code",
   "execution_count": 14,
   "id": "062018ad",
   "metadata": {
    "execution": {
     "iopub.execute_input": "2025-09-21T10:29:37.335237Z",
     "iopub.status.busy": "2025-09-21T10:29:37.334937Z",
     "iopub.status.idle": "2025-09-21T10:30:10.506720Z",
     "shell.execute_reply": "2025-09-21T10:30:10.505761Z"
    },
    "papermill": {
     "duration": 33.203769,
     "end_time": "2025-09-21T10:30:10.529230",
     "exception": false,
     "start_time": "2025-09-21T10:29:37.325461",
     "status": "completed"
    },
    "tags": []
   },
   "outputs": [
    {
     "name": "stdout",
     "output_type": "stream",
     "text": [
      "Training and evaluating models...\n",
      "============================================================\n",
      "\n",
      "Training XGBoost...\n",
      "  Fold 1: MAE=5800.88, RMSE=7276.89, R²=0.819\n",
      "  Fold 2: MAE=5562.90, RMSE=6858.76, R²=0.822\n",
      "  Fold 3: MAE=5785.12, RMSE=7262.99, R²=0.824\n",
      "  Fold 4: MAE=5296.30, RMSE=6639.48, R²=0.842\n",
      "  Fold 5: MAE=5417.29, RMSE=6752.43, R²=0.820\n",
      "\n",
      "Training LightGBM...\n",
      "  Fold 1: MAE=5535.81, RMSE=6902.88, R²=0.837\n",
      "  Fold 2: MAE=5320.19, RMSE=6455.82, R²=0.842\n",
      "  Fold 3: MAE=5422.34, RMSE=6638.16, R²=0.853\n",
      "  Fold 4: MAE=5029.73, RMSE=6161.16, R²=0.864\n",
      "  Fold 5: MAE=5294.47, RMSE=6415.72, R²=0.838\n",
      "\n",
      "Training RandomForest...\n",
      "  Fold 1: MAE=5481.14, RMSE=6814.40, R²=0.841\n",
      "  Fold 2: MAE=5374.96, RMSE=6588.18, R²=0.836\n",
      "  Fold 3: MAE=5532.41, RMSE=6828.89, R²=0.845\n",
      "  Fold 4: MAE=5160.41, RMSE=6300.65, R²=0.858\n",
      "  Fold 5: MAE=5259.07, RMSE=6363.77, R²=0.840\n"
     ]
    }
   ],
   "source": [
    "# first we will stat with tree based algo (Xgboost,LightGBM,RandomForest)\n",
    "\n",
    "# Prepare the data\n",
    "X = df.drop(['Cash_Demand_Next_Day'], axis=1)\n",
    "y = df['Cash_Demand_Next_Day']\n",
    "\n",
    "# Initialize models\n",
    "models = {\n",
    "    'XGBoost': XGBRegressor(n_estimators=500, random_state=42,learning_rate=0.1,max_depth=6,subsample=0.8),\n",
    "    'LightGBM': LGBMRegressor( verbosity=-1,n_estimators= 515, random_state=42,learning_rate=0.021866499274203838,num_leaves=18,feature_fraction=0.7691465913820418,subsample=0.6492379053645982),\n",
    "    'RandomForest': RandomForestRegressor(n_estimators=319, random_state=42,max_depth=14,min_samples_split=4,min_samples_leaf=1,max_features= None)\n",
    "}\n",
    "\n",
    "#Time-based cross-validation\n",
    "tscv = TimeSeriesSplit(n_splits=5)\n",
    "results = {}\n",
    "\n",
    "print(\"Training and evaluating models...\")\n",
    "print(\"=\" * 60)\n",
    "\n",
    "for name, model in models.items():\n",
    "    print(f\"\\nTraining {name}...\")\n",
    "    \n",
    "    mae_scores = []\n",
    "    rmse_scores = []\n",
    "    r2_scores = []\n",
    "    \n",
    "    for fold, (train_idx, val_idx) in enumerate(tscv.split(X)):\n",
    "        # Get training and validation data\n",
    "        X_train, X_val = X.iloc[train_idx], X.iloc[val_idx]\n",
    "        y_train, y_val = y.iloc[train_idx], y.iloc[val_idx]\n",
    "        \n",
    "        # Train model (no scaling needed for tree-based algorithms)\n",
    "        model.fit(X_train, y_train)\n",
    "        \n",
    "        # Make predictions\n",
    "        pred = model.predict(X_val)\n",
    "        \n",
    "        # Calculate metrics\n",
    "        mae = mean_absolute_error(y_val, pred)\n",
    "        rmse = np.sqrt(mean_squared_error(y_val, pred))\n",
    "        r2 = r2_score(y_val, pred)\n",
    "        \n",
    "        mae_scores.append(mae)\n",
    "        rmse_scores.append(rmse)\n",
    "        r2_scores.append(r2)\n",
    "        \n",
    "        print(f\"  Fold {fold+1}: MAE={mae:.2f}, RMSE={rmse:.2f}, R²={r2:.3f}\")\n",
    "    \n",
    "    # Store average results\n",
    "    results[name] = {\n",
    "        'MAE': np.mean(mae_scores),\n",
    "        'MAE_std': np.std(mae_scores),\n",
    "        'RMSE': np.mean(rmse_scores),\n",
    "        'RMSE_std': np.std(rmse_scores),\n",
    "        'R2': np.mean(r2_scores),\n",
    "        'R2_std': np.std(r2_scores)\n",
    "    }"
   ]
  },
  {
   "cell_type": "code",
   "execution_count": 15,
   "id": "1935e8cd",
   "metadata": {
    "execution": {
     "iopub.execute_input": "2025-09-21T10:30:10.556701Z",
     "iopub.status.busy": "2025-09-21T10:30:10.556129Z",
     "iopub.status.idle": "2025-09-21T10:30:10.567424Z",
     "shell.execute_reply": "2025-09-21T10:30:10.566014Z"
    },
    "papermill": {
     "duration": 0.02963,
     "end_time": "2025-09-21T10:30:10.570023",
     "exception": false,
     "start_time": "2025-09-21T10:30:10.540393",
     "status": "completed"
    },
    "tags": []
   },
   "outputs": [
    {
     "name": "stdout",
     "output_type": "stream",
     "text": [
      "Model             MAE               RMSE              R²          \n",
      "--------------------------------------------------------------\n",
      "LightGBM     5320.51±168.50    6514.75±246.65    0.847±0.010\n",
      "RandomForest 5361.60±137.58    6579.18±219.88    0.844±0.007\n",
      "XGBoost      5572.50±198.91    6958.11±263.92    0.825±0.008\n"
     ]
    }
   ],
   "source": [
    "# Sort by MAE (lower is better)\n",
    "sorted_results = sorted(results.items(), key=lambda x: x[1]['MAE'])\n",
    "\n",
    "print(f\"{'Model':<17} {'MAE':<17} {'RMSE':<17} {'R²':<12}\")\n",
    "print(\"-\" * 62)\n",
    "+++9\n",
    "for name, metrics in sorted_results:\n",
    "    mae = metrics['MAE']\n",
    "    mae_std = metrics['MAE_std']\n",
    "    rmse = metrics['RMSE']\n",
    "    rmse_std = metrics['RMSE_std']\n",
    "    r2 = metrics['R2']\n",
    "    r2_std = metrics['R2_std']\n",
    "    \n",
    "    print(f\"{name:<12} {mae:.2f}±{mae_std:.2f}    {rmse:.2f}±{rmse_std:.2f}    {r2:.3f}±{r2_std:.3f}\")"
   ]
  },
  {
   "cell_type": "markdown",
   "id": "2869b6a8",
   "metadata": {
    "papermill": {
     "duration": 0.011025,
     "end_time": "2025-09-21T10:30:10.595146",
     "exception": false,
     "start_time": "2025-09-21T10:30:10.584121",
     "status": "completed"
    },
    "tags": []
   },
   "source": [
    "* **Chosen Model:** LightGBM showed the best performance with the lowest MAE/RMSE and highest R², making it the most accurate and reliable model for our forecasting task."
   ]
  },
  {
   "cell_type": "markdown",
   "id": "995b8075",
   "metadata": {
    "papermill": {
     "duration": 0.014725,
     "end_time": "2025-09-21T10:30:10.620666",
     "exception": false,
     "start_time": "2025-09-21T10:30:10.605941",
     "status": "completed"
    },
    "tags": []
   },
   "source": [
    "### Visualization of the resultas"
   ]
  },
  {
   "cell_type": "code",
   "execution_count": 16,
   "id": "19805eba",
   "metadata": {
    "execution": {
     "iopub.execute_input": "2025-09-21T10:30:10.640503Z",
     "iopub.status.busy": "2025-09-21T10:30:10.640167Z",
     "iopub.status.idle": "2025-09-21T10:30:11.200254Z",
     "shell.execute_reply": "2025-09-21T10:30:11.199173Z"
    },
    "papermill": {
     "duration": 0.572821,
     "end_time": "2025-09-21T10:30:11.202344",
     "exception": false,
     "start_time": "2025-09-21T10:30:10.629523",
     "status": "completed"
    },
    "tags": []
   },
   "outputs": [
    {
     "data": {
      "image/png": "[encoded data removed]",
      "text/plain": [
       "<Figure size 1600x500 with 3 Axes>"
      ]
     },
     "metadata": {},
     "output_type": "display_data"
    }
   ],
   "source": [
    "models = []\n",
    "mae_vals, mae_errs = [], []\n",
    "rmse_vals, rmse_errs = [], []\n",
    "r2_vals, r2_errs = [], []\n",
    "\n",
    "for name, metrics in sorted_results:\n",
    "    models.append(name)\n",
    "    mae_vals.append(metrics['MAE'])\n",
    "    mae_errs.append(metrics['MAE_std'])\n",
    "    rmse_vals.append(metrics['RMSE'])\n",
    "    rmse_errs.append(metrics['RMSE_std'])\n",
    "    r2_vals.append(metrics['R2'])\n",
    "    r2_errs.append(metrics['R2_std'])\n",
    "\n",
    "\n",
    "fig, axes = plt.subplots(1, 3, figsize=(16, 5))\n",
    "\n",
    "# MAE\n",
    "axes[0].bar(models, mae_vals, yerr=mae_errs, capsize=5, color=\"#4c72b0\")\n",
    "axes[0].set_title(\"MAE (lower is better)\")\n",
    "axes[0].set_ylabel(\"MAE\")\n",
    "\n",
    "# RMSE\n",
    "axes[1].bar(models, rmse_vals, yerr=rmse_errs, capsize=5, color=\"#55a868\")\n",
    "axes[1].set_title(\"RMSE (lower is better)\")\n",
    "axes[1].set_ylabel(\"RMSE\")\n",
    "\n",
    "# R²\n",
    "axes[2].bar(models, r2_vals, yerr=r2_errs, capsize=5, color=\"#c44e52\")\n",
    "axes[2].set_title(\"R² (higher is better)\")\n",
    "axes[2].set_ylabel(\"R²\")\n",
    "\n",
    "plt.suptitle(\"Model Performance Comparison with Error Bars\", fontsize=16)\n",
    "plt.tight_layout(rect=[0, 0, 1, 0.95])\n",
    "plt.show()"
   ]
  },
  {
   "cell_type": "code",
   "execution_count": null,
   "id": "6f71b43b",
   "metadata": {
    "papermill": {
     "duration": 0.009612,
     "end_time": "2025-09-21T10:30:11.221646",
     "exception": false,
     "start_time": "2025-09-21T10:30:11.212034",
     "status": "completed"
    },
    "tags": []
   },
   "outputs": [],
   "source": []
  }
 ],
 "metadata": {
  "kaggle": {
   "accelerator": "none",
   "dataSources": [
    {
     "datasetId": 7271154,
     "sourceId": 11595094,
     "sourceType": "datasetVersion"
    }
   ],
   "dockerImageVersionId": 31089,
   "isGpuEnabled": false,
   "isInternetEnabled": false,
   "language": "python",
   "sourceType": "notebook"
  },
  "kernelspec": {
   "display_name": "Python 3",
   "language": "python",
   "name": "python3"
  },
  "language_info": {
   "codemirror_mode": {
    "name": "ipython",
    "version": 3
   },
   "file_extension": ".py",
   "mimetype": "text/x-python",
   "name": "python",
   "nbconvert_exporter": "python",
   "pygments_lexer": "ipython3",
   "version": "3.11.13"
  },
  "papermill": {
   "default_parameters": {},
   "duration": 55.067585,
   "end_time": "2025-09-21T10:30:12.356050",
   "environment_variables": {},
   "exception": null,
   "input_path": "__notebook__.ipynb",
   "output_path": "__notebook__.ipynb",
   "parameters": {},
   "start_time": "2025-09-21T10:29:17.288465",
   "version": "2.6.0"
  }
 },
 "nbformat": 4,
 "nbformat_minor": 5
}
